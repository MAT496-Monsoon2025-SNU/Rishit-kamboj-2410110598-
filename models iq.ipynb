{
 "cells": [
  {
   "cell_type": "code",
   "execution_count": 1,
   "id": "682c4c87",
   "metadata": {},
   "outputs": [
    {
     "name": "stderr",
     "output_type": "stream",
     "text": [
      "python-dotenv could not parse statement starting at line 2\n"
     ]
    },
    {
     "data": {
      "text/plain": [
       "True"
      ]
     },
     "execution_count": 1,
     "metadata": {},
     "output_type": "execute_result"
    }
   ],
   "source": [
    "from dotenv import load_dotenv\n",
    "load_dotenv()"
   ]
  },
  {
   "cell_type": "code",
   "execution_count": 4,
   "id": "a0e461e5",
   "metadata": {},
   "outputs": [],
   "source": [
    "from langchain.chat_models import init_chat_model\n",
    "\n",
    "model = init_chat_model(\"llama-3.3-70b-versatile\", model_provider=\"groq\")"
   ]
  },
  {
   "cell_type": "code",
   "execution_count": 5,
   "id": "8b215da3",
   "metadata": {},
   "outputs": [],
   "source": [
    "# invoking to build a converstation style call\n",
    "\n",
    "response = model.invoke(\"Suggest a complex question to test someone's IQ. Also give the answer.\")"
   ]
  },
  {
   "cell_type": "code",
   "execution_count": 7,
   "id": "bd612474",
   "metadata": {},
   "outputs": [
    {
     "data": {
      "text/plain": [
       "AIMessage(content='Here\\'s a complex question to test someone\\'s IQ:\\n\\n**Question:**\\n\\nThere are three switches, but they are not labelled. Each switch corresponds to one of three light bulbs in a room. Each light bulb is either on or off. You can turn the switches on and off as many times as you want, but you can only enter the room one time to observe the bulbs. How can you figure out which switch corresponds to which light bulb?\\n\\n**Answer:**\\n\\nTo solve this problem, follow these steps:\\n\\n1. Turn switch 1 to the \"on\" position for 5 minutes.\\n2. Turn switch 1 to the \"off\" position and turn switch 2 to the \"on\" position.\\n3. Immediately enter the room and observe the bulbs.\\n4. Take note of the following:\\n\\t* If a bulb is on, it corresponds to switch 2.\\n\\t* If a bulb is off, but warm, it corresponds to switch 1.\\n\\t* If a bulb is off, and cold, it corresponds to switch 3.\\n\\nExplanation:\\n\\n* By turning switch 1 to the \"on\" position for 5 minutes, you ensure that the corresponding bulb is on and warm.\\n* When you turn switch 1 to the \"off\" position and turn switch 2 to the \"on\" position, you create a situation where:\\n\\t+ The bulb corresponding to switch 2 is on.\\n\\t+ The bulb corresponding to switch 1 is off, but still warm.\\n\\t+ The bulb corresponding to switch 3 is off and cold.\\n* By observing the bulbs, you can determine which switch corresponds to which bulb based on their state (on, off and warm, or off and cold).\\n\\nThis problem requires a combination of logical reasoning, problem-solving, and critical thinking, making it a suitable test for someone\\'s IQ.', additional_kwargs={}, response_metadata={'token_usage': {'completion_tokens': 375, 'prompt_tokens': 51, 'total_tokens': 426, 'completion_time': 0.722281462, 'prompt_time': 0.011537747, 'queue_time': 0.047148922, 'total_time': 0.733819209}, 'model_name': 'llama-3.3-70b-versatile', 'system_fingerprint': 'fp_3f3b593e33', 'service_tier': 'on_demand', 'finish_reason': 'stop', 'logprobs': None}, id='run--2998a98e-f00d-4286-92e8-4664f812db3c-0', usage_metadata={'input_tokens': 51, 'output_tokens': 375, 'total_tokens': 426})"
      ]
     },
     "execution_count": 7,
     "metadata": {},
     "output_type": "execute_result"
    }
   ],
   "source": [
    "response"
   ]
  },
  {
   "cell_type": "code",
   "execution_count": 6,
   "id": "a444466b",
   "metadata": {},
   "outputs": [
    {
     "name": "stdout",
     "output_type": "stream",
     "text": [
      "Here's a complex question to test someone's IQ:\n",
      "\n",
      "**Question:**\n",
      "\n",
      "There are three switches, but they are not labelled. Each switch corresponds to one of three light bulbs in a room. Each light bulb is either on or off. You can turn the switches on and off as many times as you want, but you can only enter the room one time to observe the bulbs. How can you figure out which switch corresponds to which light bulb?\n",
      "\n",
      "**Answer:**\n",
      "\n",
      "To solve this problem, follow these steps:\n",
      "\n",
      "1. Turn switch 1 to the \"on\" position for 5 minutes.\n",
      "2. Turn switch 1 to the \"off\" position and turn switch 2 to the \"on\" position.\n",
      "3. Immediately enter the room and observe the bulbs.\n",
      "4. Take note of the following:\n",
      "\t* If a bulb is on, it corresponds to switch 2.\n",
      "\t* If a bulb is off, but warm, it corresponds to switch 1.\n",
      "\t* If a bulb is off, and cold, it corresponds to switch 3.\n",
      "\n",
      "Explanation:\n",
      "\n",
      "* By turning switch 1 to the \"on\" position for 5 minutes, you ensure that the corresponding bulb is on and warm.\n",
      "* When you turn switch 1 to the \"off\" position and turn switch 2 to the \"on\" position, you create a situation where:\n",
      "\t+ The bulb corresponding to switch 2 is on.\n",
      "\t+ The bulb corresponding to switch 1 is off, but still warm.\n",
      "\t+ The bulb corresponding to switch 3 is off and cold.\n",
      "* By observing the bulbs, you can determine which switch corresponds to which bulb based on their state (on, off and warm, or off and cold).\n",
      "\n",
      "This problem requires a combination of logical reasoning, problem-solving, and critical thinking, making it a suitable test for someone's IQ.\n"
     ]
    }
   ],
   "source": [
    "print(response.content)"
   ]
  },
  {
   "cell_type": "code",
   "execution_count": null,
   "id": "25606b23",
   "metadata": {},
   "outputs": [
    {
     "name": "stdout",
     "output_type": "stream",
     "text": [
      "To solve this classic problem, we'll use a systematic approach. The key is to use a combination of switch states to gather information, and then use that information to deduce the correct assignments.\n",
      "\n",
      "**Step 1: Initial Setup**\n",
      "Turn switch 1 to the \"on\" position for 5 minutes. Turn switch 2 to the \"off\" position and switch 3 to the \"off\" position. Now, leave the room.\n",
      "\n",
      "**Step 2: Observing the Bulbs**\n",
      "After 5 minutes, enter the room. You'll observe the bulbs in the following states:\n",
      "- One bulb is on (corresponding to switch 1)\n",
      "- Two bulbs are off\n",
      "\n",
      "**Step 3: First Switch Adjustment**\n",
      "Turn switch 1 to the \"off\" position. Turn switch 2 to the \"on\" position for 5 minutes. Turn switch 3 to the \"off\" position. Leave the room.\n",
      "\n",
      "**Step 4: Observing the Bulbs (Again)**\n",
      "After 5 minutes, enter the room again. You'll observe the bulbs in the following states:\n",
      "- One bulb is off (previously on)\n",
      "- One bulb is on (corresponding to switch 2)\n",
      "- One bulb is off (corresponding to switch 3)\n",
      "\n",
      "**Step 5: Final Switch Adjustment**\n",
      "Turn switch 2 to the \"off\" position and switch 3 to the \"on\" position. Leave the room.\n",
      "\n",
      "**Step 6: Final Observation**\n",
      "Enter the room one last time. Observe the bulbs in the following state:\n",
      "- The bulb previously on (switch 2) is now off\n",
      "- The bulb previously off (switch 3) is now on\n",
      "\n",
      "Now, let's deduce the correct assignments:\n",
      "\n",
      "* The bulb that was on in Step 1 and off in Step 4 must be controlled by switch 1, as turning switch 1 off in Step 3 resulted in it going off, and turning switch 2 on in Step 3 resulted in it staying off.\n",
      "* The bulb that was off in Step 1 and on in Step 4 must be controlled by switch 2, as turning switch 2 on in Step 3 resulted in it going on, and turning switch 1 off in Step 3 had no effect on it.\n",
      "* The bulb that was off in Step 1 and on in Step 6 must be controlled by switch 3, as turning switch 3 on in Step 5 resulted in it going on, and turning switch 2 off in Step 5 had no effect on it.\n",
      "\n",
      "Therefore, the correct assignments are:\n",
      "\n",
      "* Switch 1 corresponds to the light bulb that was on in Step 1 and off in Step 4.\n",
      "* Switch 2 corresponds to the light bulb that was off in Step 1 and on in Step 4.\n",
      "* Switch 3 corresponds to the light bulb that was off in Step 1 and on in Step 6.\n"
     ]
    }
   ],
   "source": [
    "# Lets test another model if they can solve this problem\n",
    "\n",
    "from langchain.chat_models import init_chat_model\n",
    "\n",
    "model2 = init_chat_model(\"llama-3.1-8b-instant\", model_provider=\"groq\")\n",
    "\n",
    "response = model2.invoke(\"There are three switches, but they are not labelled. Each switch corresponds to one of three light bulbs in a room. Each light bulb is either on or off. You can turn the switches on and off as many times as you want, but you can only enter the room one time to observe the bulbs. How can you figure out which switch corresponds to which light bulb? answer in detail\")\n",
    "print(response.content)"
   ]
  },
  {
   "cell_type": "code",
   "execution_count": null,
   "id": "4a9c12bf",
   "metadata": {},
   "outputs": [],
   "source": []
  }
 ],
 "metadata": {
  "kernelspec": {
   "display_name": "Python 3",
   "language": "python",
   "name": "python3"
  },
  "language_info": {
   "codemirror_mode": {
    "name": "ipython",
    "version": 3
   },
   "file_extension": ".py",
   "mimetype": "text/x-python",
   "name": "python",
   "nbconvert_exporter": "python",
   "pygments_lexer": "ipython3",
   "version": "3.11.13"
  }
 },
 "nbformat": 4,
 "nbformat_minor": 5
}
