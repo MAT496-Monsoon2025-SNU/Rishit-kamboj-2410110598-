{
 "cells": [
  {
   "cell_type": "code",
   "execution_count": 145,
   "id": "65ec513b",
   "metadata": {},
   "outputs": [
    {
     "name": "stderr",
     "output_type": "stream",
     "text": [
      "python-dotenv could not parse statement starting at line 2\n"
     ]
    },
    {
     "data": {
      "text/plain": [
       "True"
      ]
     },
     "execution_count": 145,
     "metadata": {},
     "output_type": "execute_result"
    }
   ],
   "source": [
    "import os\n",
    "from dotenv import load_dotenv\n",
    "load_dotenv()"
   ]
  },
  {
   "cell_type": "markdown",
   "id": "6e45e179",
   "metadata": {},
   "source": [
    "## What is RAG (retrieval augmented generation)?\n",
    "Basically, shoving lot of extra information in the prompt."
   ]
  },
  {
   "cell_type": "code",
   "execution_count": null,
   "id": "52bc9487",
   "metadata": {},
   "outputs": [
    {
     "name": "stdout",
     "output_type": "stream",
     "text": [
      "content=\"Unfortunately, there is no information provided about Preeti's brother in the given context. The context only mentions Ajit as the sibling of Preeti and Sweta, but it does not specify their relationship to Preeti. It only states that Ajit is the brother of Preeti and Sweta.\" additional_kwargs={} response_metadata={'token_usage': {'completion_tokens': 65, 'prompt_tokens': 119, 'total_tokens': 184, 'completion_time': 0.175482492, 'prompt_time': 0.022566645, 'queue_time': 0.045613665, 'total_time': 0.198049137}, 'model_name': 'llama-3.1-8b-instant', 'system_fingerprint': 'fp_46fc01befd', 'service_tier': 'on_demand', 'finish_reason': 'stop', 'logprobs': None} id='run--6466834d-c87c-4543-a96f-aad1a56bb240-0' usage_metadata={'input_tokens': 119, 'output_tokens': 65, 'total_tokens': 184}\n"
     ]
    }
   ],
   "source": [
    "# Example \n",
    "\n",
    "from langchain.chat_models import init_chat_model\n",
    "model = init_chat_model(\"openai/gpt-oss-120b\", model_provider=\"groq\")\n",
    "\n",
    "prompt_template = \"\"\"You are an assistant for question-answering tasks. Use the following pieces of retrieved context to answer the question. If you don't know the answer, just say that you don't know. Use three sentences maximum and keep the answer concise.\n",
    "Question: {question} \n",
    "Context: {context} \n",
    "Answer:\"\"\"\n",
    "\n",
    "response = model.invoke(\n",
    "    prompt_template.format(\n",
    "        context=\"Ajit has two sisters, Preeti and Sweta. Ajit is male.\",\n",
    "        question=\"Who is Preeti's bother ?\"         \n",
    "    ))\n",
    "\n",
    "print(response)"
   ]
  },
  {
   "cell_type": "code",
   "execution_count": 147,
   "id": "475aef4c",
   "metadata": {},
   "outputs": [
    {
     "name": "stdout",
     "output_type": "stream",
     "text": [
      "The context doesn't mention Preeti's brother, it mentions Ajit as Preeti's brother.\n"
     ]
    }
   ],
   "source": [
    "print(response.content)"
   ]
  },
  {
   "cell_type": "markdown",
   "id": "33703cf0",
   "metadata": {},
   "source": [
    ">RAG is all about cleverly pushing is as much information in the context with minimum possible tokens"
   ]
  },
  {
   "cell_type": "code",
   "execution_count": 148,
   "id": "0b38ad4e",
   "metadata": {},
   "outputs": [],
   "source": [
    "# little non-trival RAG example\n",
    "\n",
    "# grab a novel\n",
    "file = open(\"indianTales.txt\")\n",
    "text = file.read()"
   ]
  },
  {
   "cell_type": "code",
   "execution_count": 149,
   "id": "07503397",
   "metadata": {},
   "outputs": [
    {
     "name": "stdout",
     "output_type": "stream",
     "text": [
      "content='यहाँ कालेक्शन से शीर्षकों की सूची दी गई है:\\n\\n1. **शीर्षक:** शेर और मोर\\n**कथा:** एक मोर एक शेर की मदद करता है जब उसका गला एक हड्डी से ब्लॉक हो जाता है। लेकिन जब शेर ठीक हो जाता है, वह मोर को मारने का प्रयास करता है। मोर को बचने के लिए स्टिक का उपयोग करके एक योजना बनाता है और शेर को बचाता है। उन्हें बाद में एक दूसरे के साथ बातचीत करते हुए एक गीत गाते हैं जिसमें शेर की अनग्रेटिडता और मोर की सच्चाई की प्रशंसा की जाती है।\\n\\n2. **शीर्षक:** राजकुमार लाबाम को जीतने में राजकुमार की कहानी\\n**कथा:** एक राजकुमार अपनी माँ से एक प्रतिबद्धता रखता है कि वह विशेष क्षेत्र से नहीं जाएगा, जहां एक सुंदर रानी लाबाम रहती है। लेकिन जब वह अपनी माँ की प्रतिबद्धता को भूल जाता है, तो वह जंगल में एक हिरणी के साथ मिलता है, जो उसे रानी लाबाम के बारे में बताता है। राजकुमार अपनी माँ की अनुमति के बिना रानी लाबाम की खोज में निकलता है और कई जंगल में यात्रा करता है, जहां वह कई जानवरों से मिलता है और उनकी मदद करता है।\\n\\n3. **शीर्षक:** लाम्बीकिन\\n**कथा:** इस कहानी का शीर्षक नहीं दिया गया है, इसलिए इसे सूची से छोड़ दिया जाता है।\\n\\n4. **शीर्षक:** पंचकिन\\n**कथा:** एक पंचकिन नाम का एक जानवर है, जो एक बहुत बड़ा होता है। वह अपनी बड़ी ताकत का उपयोग करके एक बड़े दुश्मन को हराने का प्रयास करता है, लेकिन अंत में वह अपनी ताकत का उपयोग करके एक बड़ा मित्र बनाता है।\\n\\n5. **शीर्षक:** टूटा हुआ बर्तन\\n**कथा:** एक राजकुमार एक टूटा हुआ बर्तन ढूंढता है जो उसके पिता का पसंदीदा है। वह अपनी यात्रा के दौरान कई जानवरों से मिलता है और उनकी मदद करता है, जिनमें से एक तीर्थयात्री उसका बर्तन ढूंढता है।\\n\\n6. **शीर्षक:** जादुई फिडल\\n**कथा:** एक राजकुमार एक जादुई फिडल ढूंढता है जो उसके पिता का पसंदीदा है। वह अपनी यात्रा के दौरान कई जानवरों से मिलता है और उनकी मदद करता है, जिनमें से एक जादूगर उसका फिडल ढूंढता है।\\n\\n7. **शीर्षक:** जोरू मोर को हराना\\n**कथा:** एक मोर एक शेर को हराता है जो उसकी मदद करता है जब उसका गला एक हड्डी से ब्लॉक हो जाता है। लेकिन जब शेर ठीक हो जाता है, वह मोर को मारने का प्रयास करता है। मोर को बचने के लिए स्टिक का उपयोग करके एक योजना बनाता है और शेर को हराता है।\\n\\n8. **शीर्षक:** प्रेमी लैली\\n**कथा:** एक राजकुमार एक प्रेमी लैली से मिलता है, जो एक बहुत ही सुंदर और समझदार महिला है। वह उसकी मदद करता है जब वह अपने पिता के विरोध के कारण अपने प्रेमी को पाने के लिए संघर्ष करता है।\\n\\n9. **शीर्षक:** शेर, ब्राह्मण और कुत्ता\\n**कथा:** एक राजकुमार एक शेर, एक ब्राह्मण और एक कुत्ते से मिलता है, जो एक साथ एक जंगल में रहते हैं। वह उनकी मदद करता है जब उन्हें एक बड़े दुश्मन से लड़ना होता है।\\n\\n10. **शीर्षक:** सोथसायर का पुत्र\\n**कथा:** एक राजकुमार एक सोथसायर के पुत्र को मिलता है, जो एक बहुत ही ज्योतिषी और वैद्य है। वह उसकी मदद करता है जब वह अपने पिता के विरोध के कारण अपने लक्ष्य को पाने के लिए संघर्ष करता है।\\n\\n11. **शीर्षक:** हरिसर्मन\\n**कथा:** यह कहानी का शीर्षक नहीं दिया गया है, इसलिए इसे सूची से छोड़ दिया जाता है।\\n\\n12. **शीर्षक:** जादुई अंगूठी\\n**कथा:** एक राजकुमार एक जादुई अंगूठी ढूंढता है जो उसके पिता का पसंदीदा है। वह अपनी यात्रा के दौरान कई जानवरों से मिलता है और उनकी मदद करता है, जिनमें से एक जादूगर उसकी अंगूठी ढूंढता है।\\n\\n13. **शीर्षक:** चुपचाप तोरी टर्टल\\n**कथा:** एक राजकुमार एक चुपचाप तोरी टर्टल से मिलता है, जो एक बहुत ही समझदार और मित्रवत जानवर है। वह उसकी मदद करता है जब वह अपने पिता के विरोध के कारण अपने लक्ष्य को पाने के लिए संघर्ष करता है।\\n\\n14. **शीर्षक:** एक लाख रुपये के लिए एक सलाह\\n**कथा:** एक राजकुमार एक जानवर को एक सलाह देने के लिए एक लाख रुपये देता है, जो उसकी मदद करता है जब वह अपने पिता के विरोध के कारण अपने लक्ष्य को पाने के लिए संघर्ष करता है।\\n\\n15. **शीर्षक:** सोने देने वाला साँप\\n**कथा:** एक राजकुमार एक सोने देने वाले साँप से मिलता है, जो एक बहुत ही जादुई और समझदार जानवर है। वह उसकी मदद करता है जब वह अपने पिता के विरोध के कारण अपने लक्ष्य को पाने के लिए संघर्ष करता है।\\n\\n16. **शीर्षक:** सात रानियों का पुत्र\\n**कथा:** एक राजकुमार एक सात रानियों के पुत्र से मिलता है, जो एक बहुत ही समझदार और मित्रवत जानवर है। वह उसकी मदद करता है जब वह अपने पिता के विरोध के कारण अपने लक्ष्य को पाने के लिए संघर्ष करता है।\\n\\n17. **शीर्षक:** राजाओं के लिए एक सबक\\n**कथा:** एक राजकुमार एक राजाओं के लिए एक सबक सीखता है, जो एक बहुत ही समझदार और मित्रवत जानवर है। वह उसकी मदद करता है जब वह अपने पिता के विरोध के कारण अपने लक्ष्य को पाने के लिए संघर्ष करता है।\\n\\n18. **शीर्षक:** घमंड करने वाला आदमी\\n**कथा:** एक राजकुमार एक घमंड करने वाले आदमी से मिलता है, जो एक बहुत ही समझदार और मित्रवत जानवर है। वह उसकी मदद करता है जब वह अपने पिता के विरोध के कारण अपने लक्ष्य को पाने के लिए संघर्ष करता है।\\n\\n19. **शीर्षक:** राजा रसालू\\n**कथा:** एक राजकुमार एक राजा रसालू से मिलता है, जो एक बहुत ही समझदार और मित्रवत जानवर है। वह उसकी मदद करता है जब वह अपने पिता के विरोध के कारण अपने लक्ष्य को पाने के लिए संघर्ष करता है।\\n\\n20. **शीर्षक:** शेर का जंगली चमड़ा पहनने वाला गधा\\n**कथा:** एक राजकुमार एक शेर का जंगली चमड़ा पहनने वाले गधे से मिलता है, जो एक बहुत ही समझदार और मित्रवत जानवर है। वह उसकी मदद करता है जब वह अपने पिता के विरोध के कारण अपने लक्ष्य को पाने के लिए संघर्ष करता है।\\n\\n21. **शीर्षक:** किसान और कर्जदार\\n**कथा:** एक राजकुमार एक किसान और कर्जदार से मिलता है, जो एक बहुत ही समझदार और मित्रवत जानवर है। वह उसकी मदद करता है जब वह अपने पिता के विरोध के कारण अपने लक्ष्य को पाने के लिए संघर्ष करता है।\\n\\n22. **शीर्षक:** एक लड़का जिसके सिर पर चंद्रमा था और जिसके गाल पर तारा\\n**कथा:** एक राजकुमार एक लड़के से मिलता है जिसके सिर पर चंद्रमा है और जिसके गाल पर तारा है, जो एक बहुत ही समझदार और मित्रवत जानवर है। वह उसकी मदद करता है जब वह अपने पिता के विरोध के कारण अपने लक्ष्य को पाने के लिए संघर्ष करता है।\\n\\n23. **शीर्षक:** राजकुमार और फकीर\\n**कथा:** एक राजकुमार एक फकीर से मिलता है, जो एक बहुत ही समझदार और मित्रवत जानवर है। वह उसकी मदद करता है जब वह अपने पिता के विरोध के कारण अपने लक्ष्य को पाने के लिए संघर्ष करता है।\\n\\n24. **शीर्षक:** मछली की हंसी\\n**कथा:** एक राजकुमार एक मछली से मिलता है जो हंसती है, जो एक बहुत ही समझदार और मित्रवत जानवर है। वह उसकी मदद करता है जब वह अपने पिता के विरोध के कारण अपने लक्ष्य को पाने के लिए संघर्ष करता है।\\n\\n25. **शीर्षक:** जटिल बालों वाला भूत\\n**कथा:** एक राजकुमार एक जटिल बालों वाले भूत से मिलता है, जो एक बहुत ही समझदार और मित्रवत जानवर है। वह उसकी मदद करता है जब वह अपने पिता के विरोध के कारण अपने लक्ष्य को पाने के लिए संघर्ष करता है।\\n\\n26. **शीर्षक:** ivory city and its fairy princess\\n**कथा:** एक राजकुमार एक ivory city और उसकी fair princess से मिलता है, जो एक बहुत ही समझदार और मित्रवत जानवर है। वह उसकी मदद करता है जब वह अपने पिता के विरोध के कारण अपने लक्ष्य को पाने के लिए संघर्ष करता है।\\n\\n27. **शीर्षक:** सूर्य, चंद्रमा और हवा की डिनर पार्टी\\n**कथा:** एक राजकुमार सूर्य, चंद्रमा और हवा की डिनर पार्टी में मिलता है, जो एक बहुत ही समझदार और मित्रवत जानवर है। वह उनकी मदद करता है जब वह अपने पिता के विरोध के कारण अपने लक्ष्य को पाने के लिए संघर्ष करता है।\\n\\n28. **शीर्षक:** बुरे संतानों को धोखा देना\\n**कथा:** एक राजकुमार बुरे संतानों को धोखा देने के लिए एक तरकीब ढूंढता है, जो एक बहुत ही समझदार और मित्रवत जानवर है। वह उनकी मदद करता है जब वह अपने पिता के विरोध के कारण अपने लक्ष्य को पाने के लिए संघर्ष करता है।\\n\\n29. **शीर्षक:** पैरी और कौआ\\n**कथा:** एक राजकुमार एक पैरी और कौआ से मिलता है, जो एक बहुत ही समझदार और मित्रवत जानवर है। वह उनकी मदद करता है जब वह अपने पिता के विरोध के कारण अपने लक्ष्य को पाने के लिए संघर्ष करता है।' additional_kwargs={} response_metadata={'token_usage': {'completion_tokens': 3437, 'prompt_tokens': 5232, 'total_tokens': 8669, 'completion_time': 4.828243636, 'prompt_time': 0.49641495, 'queue_time': 0.050258838, 'total_time': 5.324658586}, 'model_name': 'llama-3.1-8b-instant', 'system_fingerprint': 'fp_55d70a61e4', 'service_tier': 'on_demand', 'finish_reason': 'stop', 'logprobs': None} id='run--98507b8c-131a-405f-a211-a4cf80a96611-0' usage_metadata={'input_tokens': 5232, 'output_tokens': 3437, 'total_tokens': 8669}\n"
     ]
    }
   ],
   "source": [
    "# lets try to talk with this book\n",
    "\n",
    "from langchain.chat_models import init_chat_model\n",
    "model = init_chat_model(\"llama-3.1-8b-instant\", model_provider=\"groq\")\n",
    "\n",
    "# Prepare your prompt\n",
    "prompt_template = \"\"\"You are a novel reader. You are given collection of stories:\n",
    "{collection_of_stories}\n",
    "You are tasked to make a list of story titles in this collection. Write a short summary for each story in Hindi Language. Skip the story from the list, if the story is not provided in the text. \n",
    "\"\"\"\n",
    "\n",
    "response = model.invoke(prompt_template.format(collection_of_stories = text[:len(text)//20]))\n",
    "\n",
    "print(response)"
   ]
  },
  {
   "cell_type": "code",
   "execution_count": 150,
   "id": "87249ea6",
   "metadata": {},
   "outputs": [
    {
     "data": {
      "text/markdown": [
       "यहाँ कालेक्शन से शीर्षकों की सूची दी गई है:\n",
       "\n",
       "1. **शीर्षक:** शेर और मोर\n",
       "**कथा:** एक मोर एक शेर की मदद करता है जब उसका गला एक हड्डी से ब्लॉक हो जाता है। लेकिन जब शेर ठीक हो जाता है, वह मोर को मारने का प्रयास करता है। मोर को बचने के लिए स्टिक का उपयोग करके एक योजना बनाता है और शेर को बचाता है। उन्हें बाद में एक दूसरे के साथ बातचीत करते हुए एक गीत गाते हैं जिसमें शेर की अनग्रेटिडता और मोर की सच्चाई की प्रशंसा की जाती है।\n",
       "\n",
       "2. **शीर्षक:** राजकुमार लाबाम को जीतने में राजकुमार की कहानी\n",
       "**कथा:** एक राजकुमार अपनी माँ से एक प्रतिबद्धता रखता है कि वह विशेष क्षेत्र से नहीं जाएगा, जहां एक सुंदर रानी लाबाम रहती है। लेकिन जब वह अपनी माँ की प्रतिबद्धता को भूल जाता है, तो वह जंगल में एक हिरणी के साथ मिलता है, जो उसे रानी लाबाम के बारे में बताता है। राजकुमार अपनी माँ की अनुमति के बिना रानी लाबाम की खोज में निकलता है और कई जंगल में यात्रा करता है, जहां वह कई जानवरों से मिलता है और उनकी मदद करता है।\n",
       "\n",
       "3. **शीर्षक:** लाम्बीकिन\n",
       "**कथा:** इस कहानी का शीर्षक नहीं दिया गया है, इसलिए इसे सूची से छोड़ दिया जाता है।\n",
       "\n",
       "4. **शीर्षक:** पंचकिन\n",
       "**कथा:** एक पंचकिन नाम का एक जानवर है, जो एक बहुत बड़ा होता है। वह अपनी बड़ी ताकत का उपयोग करके एक बड़े दुश्मन को हराने का प्रयास करता है, लेकिन अंत में वह अपनी ताकत का उपयोग करके एक बड़ा मित्र बनाता है।\n",
       "\n",
       "5. **शीर्षक:** टूटा हुआ बर्तन\n",
       "**कथा:** एक राजकुमार एक टूटा हुआ बर्तन ढूंढता है जो उसके पिता का पसंदीदा है। वह अपनी यात्रा के दौरान कई जानवरों से मिलता है और उनकी मदद करता है, जिनमें से एक तीर्थयात्री उसका बर्तन ढूंढता है।\n",
       "\n",
       "6. **शीर्षक:** जादुई फिडल\n",
       "**कथा:** एक राजकुमार एक जादुई फिडल ढूंढता है जो उसके पिता का पसंदीदा है। वह अपनी यात्रा के दौरान कई जानवरों से मिलता है और उनकी मदद करता है, जिनमें से एक जादूगर उसका फिडल ढूंढता है।\n",
       "\n",
       "7. **शीर्षक:** जोरू मोर को हराना\n",
       "**कथा:** एक मोर एक शेर को हराता है जो उसकी मदद करता है जब उसका गला एक हड्डी से ब्लॉक हो जाता है। लेकिन जब शेर ठीक हो जाता है, वह मोर को मारने का प्रयास करता है। मोर को बचने के लिए स्टिक का उपयोग करके एक योजना बनाता है और शेर को हराता है।\n",
       "\n",
       "8. **शीर्षक:** प्रेमी लैली\n",
       "**कथा:** एक राजकुमार एक प्रेमी लैली से मिलता है, जो एक बहुत ही सुंदर और समझदार महिला है। वह उसकी मदद करता है जब वह अपने पिता के विरोध के कारण अपने प्रेमी को पाने के लिए संघर्ष करता है।\n",
       "\n",
       "9. **शीर्षक:** शेर, ब्राह्मण और कुत्ता\n",
       "**कथा:** एक राजकुमार एक शेर, एक ब्राह्मण और एक कुत्ते से मिलता है, जो एक साथ एक जंगल में रहते हैं। वह उनकी मदद करता है जब उन्हें एक बड़े दुश्मन से लड़ना होता है।\n",
       "\n",
       "10. **शीर्षक:** सोथसायर का पुत्र\n",
       "**कथा:** एक राजकुमार एक सोथसायर के पुत्र को मिलता है, जो एक बहुत ही ज्योतिषी और वैद्य है। वह उसकी मदद करता है जब वह अपने पिता के विरोध के कारण अपने लक्ष्य को पाने के लिए संघर्ष करता है।\n",
       "\n",
       "11. **शीर्षक:** हरिसर्मन\n",
       "**कथा:** यह कहानी का शीर्षक नहीं दिया गया है, इसलिए इसे सूची से छोड़ दिया जाता है।\n",
       "\n",
       "12. **शीर्षक:** जादुई अंगूठी\n",
       "**कथा:** एक राजकुमार एक जादुई अंगूठी ढूंढता है जो उसके पिता का पसंदीदा है। वह अपनी यात्रा के दौरान कई जानवरों से मिलता है और उनकी मदद करता है, जिनमें से एक जादूगर उसकी अंगूठी ढूंढता है।\n",
       "\n",
       "13. **शीर्षक:** चुपचाप तोरी टर्टल\n",
       "**कथा:** एक राजकुमार एक चुपचाप तोरी टर्टल से मिलता है, जो एक बहुत ही समझदार और मित्रवत जानवर है। वह उसकी मदद करता है जब वह अपने पिता के विरोध के कारण अपने लक्ष्य को पाने के लिए संघर्ष करता है।\n",
       "\n",
       "14. **शीर्षक:** एक लाख रुपये के लिए एक सलाह\n",
       "**कथा:** एक राजकुमार एक जानवर को एक सलाह देने के लिए एक लाख रुपये देता है, जो उसकी मदद करता है जब वह अपने पिता के विरोध के कारण अपने लक्ष्य को पाने के लिए संघर्ष करता है।\n",
       "\n",
       "15. **शीर्षक:** सोने देने वाला साँप\n",
       "**कथा:** एक राजकुमार एक सोने देने वाले साँप से मिलता है, जो एक बहुत ही जादुई और समझदार जानवर है। वह उसकी मदद करता है जब वह अपने पिता के विरोध के कारण अपने लक्ष्य को पाने के लिए संघर्ष करता है।\n",
       "\n",
       "16. **शीर्षक:** सात रानियों का पुत्र\n",
       "**कथा:** एक राजकुमार एक सात रानियों के पुत्र से मिलता है, जो एक बहुत ही समझदार और मित्रवत जानवर है। वह उसकी मदद करता है जब वह अपने पिता के विरोध के कारण अपने लक्ष्य को पाने के लिए संघर्ष करता है।\n",
       "\n",
       "17. **शीर्षक:** राजाओं के लिए एक सबक\n",
       "**कथा:** एक राजकुमार एक राजाओं के लिए एक सबक सीखता है, जो एक बहुत ही समझदार और मित्रवत जानवर है। वह उसकी मदद करता है जब वह अपने पिता के विरोध के कारण अपने लक्ष्य को पाने के लिए संघर्ष करता है।\n",
       "\n",
       "18. **शीर्षक:** घमंड करने वाला आदमी\n",
       "**कथा:** एक राजकुमार एक घमंड करने वाले आदमी से मिलता है, जो एक बहुत ही समझदार और मित्रवत जानवर है। वह उसकी मदद करता है जब वह अपने पिता के विरोध के कारण अपने लक्ष्य को पाने के लिए संघर्ष करता है।\n",
       "\n",
       "19. **शीर्षक:** राजा रसालू\n",
       "**कथा:** एक राजकुमार एक राजा रसालू से मिलता है, जो एक बहुत ही समझदार और मित्रवत जानवर है। वह उसकी मदद करता है जब वह अपने पिता के विरोध के कारण अपने लक्ष्य को पाने के लिए संघर्ष करता है।\n",
       "\n",
       "20. **शीर्षक:** शेर का जंगली चमड़ा पहनने वाला गधा\n",
       "**कथा:** एक राजकुमार एक शेर का जंगली चमड़ा पहनने वाले गधे से मिलता है, जो एक बहुत ही समझदार और मित्रवत जानवर है। वह उसकी मदद करता है जब वह अपने पिता के विरोध के कारण अपने लक्ष्य को पाने के लिए संघर्ष करता है।\n",
       "\n",
       "21. **शीर्षक:** किसान और कर्जदार\n",
       "**कथा:** एक राजकुमार एक किसान और कर्जदार से मिलता है, जो एक बहुत ही समझदार और मित्रवत जानवर है। वह उसकी मदद करता है जब वह अपने पिता के विरोध के कारण अपने लक्ष्य को पाने के लिए संघर्ष करता है।\n",
       "\n",
       "22. **शीर्षक:** एक लड़का जिसके सिर पर चंद्रमा था और जिसके गाल पर तारा\n",
       "**कथा:** एक राजकुमार एक लड़के से मिलता है जिसके सिर पर चंद्रमा है और जिसके गाल पर तारा है, जो एक बहुत ही समझदार और मित्रवत जानवर है। वह उसकी मदद करता है जब वह अपने पिता के विरोध के कारण अपने लक्ष्य को पाने के लिए संघर्ष करता है।\n",
       "\n",
       "23. **शीर्षक:** राजकुमार और फकीर\n",
       "**कथा:** एक राजकुमार एक फकीर से मिलता है, जो एक बहुत ही समझदार और मित्रवत जानवर है। वह उसकी मदद करता है जब वह अपने पिता के विरोध के कारण अपने लक्ष्य को पाने के लिए संघर्ष करता है।\n",
       "\n",
       "24. **शीर्षक:** मछली की हंसी\n",
       "**कथा:** एक राजकुमार एक मछली से मिलता है जो हंसती है, जो एक बहुत ही समझदार और मित्रवत जानवर है। वह उसकी मदद करता है जब वह अपने पिता के विरोध के कारण अपने लक्ष्य को पाने के लिए संघर्ष करता है।\n",
       "\n",
       "25. **शीर्षक:** जटिल बालों वाला भूत\n",
       "**कथा:** एक राजकुमार एक जटिल बालों वाले भूत से मिलता है, जो एक बहुत ही समझदार और मित्रवत जानवर है। वह उसकी मदद करता है जब वह अपने पिता के विरोध के कारण अपने लक्ष्य को पाने के लिए संघर्ष करता है।\n",
       "\n",
       "26. **शीर्षक:** ivory city and its fairy princess\n",
       "**कथा:** एक राजकुमार एक ivory city और उसकी fair princess से मिलता है, जो एक बहुत ही समझदार और मित्रवत जानवर है। वह उसकी मदद करता है जब वह अपने पिता के विरोध के कारण अपने लक्ष्य को पाने के लिए संघर्ष करता है।\n",
       "\n",
       "27. **शीर्षक:** सूर्य, चंद्रमा और हवा की डिनर पार्टी\n",
       "**कथा:** एक राजकुमार सूर्य, चंद्रमा और हवा की डिनर पार्टी में मिलता है, जो एक बहुत ही समझदार और मित्रवत जानवर है। वह उनकी मदद करता है जब वह अपने पिता के विरोध के कारण अपने लक्ष्य को पाने के लिए संघर्ष करता है।\n",
       "\n",
       "28. **शीर्षक:** बुरे संतानों को धोखा देना\n",
       "**कथा:** एक राजकुमार बुरे संतानों को धोखा देने के लिए एक तरकीब ढूंढता है, जो एक बहुत ही समझदार और मित्रवत जानवर है। वह उनकी मदद करता है जब वह अपने पिता के विरोध के कारण अपने लक्ष्य को पाने के लिए संघर्ष करता है।\n",
       "\n",
       "29. **शीर्षक:** पैरी और कौआ\n",
       "**कथा:** एक राजकुमार एक पैरी और कौआ से मिलता है, जो एक बहुत ही समझदार और मित्रवत जानवर है। वह उनकी मदद करता है जब वह अपने पिता के विरोध के कारण अपने लक्ष्य को पाने के लिए संघर्ष करता है।"
      ],
      "text/plain": [
       "<IPython.core.display.Markdown object>"
      ]
     },
     "execution_count": 150,
     "metadata": {},
     "output_type": "execute_result"
    }
   ],
   "source": [
    "# Better printing\n",
    "\n",
    "from IPython.display import Markdown\n",
    "Markdown(response.content)"
   ]
  },
  {
   "cell_type": "markdown",
   "id": "8fb7239b",
   "metadata": {},
   "source": []
  },
  {
   "cell_type": "code",
   "execution_count": 151,
   "id": "e1ca6bd8",
   "metadata": {},
   "outputs": [],
   "source": [
    "# load text using RELEVANT loader\n",
    "from langchain_community.document_loaders import TextLoader\n",
    "loader = TextLoader(\"indianTales.txt\")\n",
    "docs = loader.load()\n",
    "#pip install langchain_google_genai "
   ]
  },
  {
   "cell_type": "markdown",
   "id": "90574f83",
   "metadata": {},
   "source": [
    "ADDED MY OWN BOOK FOOLS AND MULES\n",
    "\n"
   ]
  },
  {
   "cell_type": "code",
   "execution_count": 152,
   "id": "c17abb35",
   "metadata": {},
   "outputs": [],
   "source": [
    "from langchain_community.document_loaders import TextLoader\n",
    "loader = TextLoader(\"foolsandmules.txt\")\n",
    "docs2 = loader.load()"
   ]
  },
  {
   "cell_type": "code",
   "execution_count": 153,
   "id": "50eab39c",
   "metadata": {},
   "outputs": [
    {
     "name": "stdout",
     "output_type": "stream",
     "text": [
      "Split given book into 563 sub-documents.\n"
     ]
    }
   ],
   "source": [
    "# Split document into small chunks\n",
    "from langchain_text_splitters import RecursiveCharacterTextSplitter\n",
    "\n",
    "text_splitter = RecursiveCharacterTextSplitter(\n",
    "    chunk_size=1000,  # chunk size (characters)\n",
    "    chunk_overlap=200,  # chunk overlap (characters)\n",
    "    add_start_index=True,  # track index in original document\n",
    ")\n",
    "all_splits = text_splitter.split_documents(docs)\n",
    "\n",
    "print(f\"Split given book into {len(all_splits)} sub-documents.\")"
   ]
  },
  {
   "cell_type": "code",
   "execution_count": 154,
   "id": "c6c81bcd",
   "metadata": {},
   "outputs": [
    {
     "name": "stdout",
     "output_type": "stream",
     "text": [
      "Split given book into 563 sub-documents.\n"
     ]
    }
   ],
   "source": [
    "from langchain_text_splitters import RecursiveCharacterTextSplitter\n",
    "\n",
    "text_splitter = RecursiveCharacterTextSplitter(\n",
    "    chunk_size=1000,  # chunk size (characters)\n",
    "    chunk_overlap=200,  # chunk overlap (characters)\n",
    "    add_start_index=True,  # track index in original document\n",
    ")\n",
    "all_splits2 = text_splitter.split_documents(docs2)\n",
    "\n",
    "print(f\"Split given book into {len(all_splits)} sub-documents.\")"
   ]
  },
  {
   "cell_type": "markdown",
   "id": "d68dd2b5",
   "metadata": {},
   "source": [
    "### Embedding"
   ]
  },
  {
   "cell_type": "code",
   "execution_count": 155,
   "id": "758a909b",
   "metadata": {},
   "outputs": [],
   "source": [
    "from langchain_google_genai import GoogleGenerativeAIEmbeddings\n",
    "\n",
    "embeddings = GoogleGenerativeAIEmbeddings(model=\"models/text-embedding-004\")\n",
    "\n",
    "# Create a vector store\n",
    "# (CLASSROOM DISCUSSION: What are vector stores? What do we make them?)\n",
    "from langchain_core.vectorstores import InMemoryVectorStore\n",
    "vector_store = InMemoryVectorStore(embeddings)\n",
    "\n",
    "# Adding documents to vector store\n",
    "document_ids = vector_store.add_documents(documents=all_splits)\n"
   ]
  },
  {
   "cell_type": "code",
   "execution_count": 156,
   "id": "4e746c37",
   "metadata": {},
   "outputs": [],
   "source": [
    "#document_ids"
   ]
  },
  {
   "cell_type": "code",
   "execution_count": 157,
   "id": "9ce5be2a",
   "metadata": {},
   "outputs": [],
   "source": [
    "#pip install --upgrade google-genai"
   ]
  },
  {
   "cell_type": "code",
   "execution_count": 158,
   "id": "4fe619a5",
   "metadata": {},
   "outputs": [],
   "source": [
    "from langchain_google_genai import GoogleGenerativeAIEmbeddings\n",
    "\n",
    "embeddings = GoogleGenerativeAIEmbeddings(model=\"models/text-embedding-004\")\n",
    "\n",
    "# Create a vector store\n",
    "# (CLASSROOM DISCUSSION: What are vector stores? What do we make them?)\n",
    "from langchain_core.vectorstores import InMemoryVectorStore\n",
    "vector_store2 = InMemoryVectorStore(embeddings)\n",
    "\n",
    "# Adding documents to vector store\n",
    "document_ids2 = vector_store2.add_documents(documents=all_splits2)\n"
   ]
  },
  {
   "cell_type": "code",
   "execution_count": 159,
   "id": "c36e333f",
   "metadata": {},
   "outputs": [],
   "source": [
    "#document_ids2"
   ]
  },
  {
   "cell_type": "code",
   "execution_count": 160,
   "id": "c6363c9a",
   "metadata": {},
   "outputs": [],
   "source": [
    "# extract chunks which matches with your query\n",
    "\n",
    "search_results = vector_store.similarity_search_with_score(\n",
    "    \"What is the role of Lion in the story?\",\n",
    "    k = 10\n",
    ")"
   ]
  },
  {
   "cell_type": "markdown",
   "id": "097d4816",
   "metadata": {},
   "source": [
    "asked a new qustion\n"
   ]
  },
  {
   "cell_type": "code",
   "execution_count": 161,
   "id": "648ee5b8",
   "metadata": {},
   "outputs": [],
   "source": [
    "search_results2 = vector_store2.similarity_search_with_score(\n",
    "    \"What is the whole story about?\",\n",
    "    k = 10\n",
    ")"
   ]
  },
  {
   "cell_type": "code",
   "execution_count": 162,
   "id": "9899e730",
   "metadata": {},
   "outputs": [
    {
     "data": {
      "text/plain": [
       "[(Document(id='a179fe9e-daba-4c6f-9989-3f0c46475be7', metadata={'source': 'foolsandmules.txt', 'start_index': 18172}, page_content='Dawn came, finally, but it found Shorty still on the mule’s back. The\\nmule was dozing. He had thrashed and slashed in vain for secure footing\\nand had found none. Shorty, taking the hint, decided that it would be\\nunwise to get off the mule’s back, especially since there seemed to be\\nno bottom to the snow. The saplings creaked and protested louder than\\never.\\n\\nDay, and the sun, brought Shorty courage. Besides, he was growing\\nhungry. He slipped off, awkwardly, because of his tied hands, and he\\nsank immediately.\\n\\nBut he was too hungry to die just then. He rolled and in a minute felt\\nhard ground under him. He got to his feet and pushed up through the\\nsnow crust and emerged, covered with sparkling crystals, three yards\\nbelow the struggling mule. The mule looked at him in a startled way.\\n\\n“It’s just me!” explained Shorty.'),\n",
       "  0.5067123939169653),\n",
       " (Document(id='b0b8b633-f8e4-4636-ba8a-c3bdfc4bfa97', metadata={'source': 'foolsandmules.txt', 'start_index': 16095}, page_content='Then the slide struck. Smothered in a fleecy, unreal substance, Shorty\\nfelt himself and the mule swept over the edge of the cliff, but the\\nexpected drop failed to materialize. Instead it seemed as if they were\\non a great toboggan and they rolled over and over, slowly, cushioned in\\nsoft snow, soft, wet snow, loosened above by the warm night and now\\nseeking a level in the ravines far below. Over and over rolled Shorty\\nand Rudolph together, for Shorty was securely tied to the white mule.\\nThe mule seemed to take the matter philosophically enough, and it was\\nShorty who opened his mouth to shout and got it full of snow.'),\n",
       "  0.48172799609457106),\n",
       " (Document(id='68785ca8-6fa4-4655-a648-3f8d11455556', metadata={'source': 'foolsandmules.txt', 'start_index': 10579}, page_content='At that the road agent straightened in his saddle. “So!” he exclaimed.\\n“Yuh know me, an’ seem to think I should know where yuh are goin’! If I\\nshould know where yuh are goin’ and don’t, then it proves I must guess.\\nEf I should be wise to yuh, as yuh say yuh must be good pickin’s.”\\n\\nShorty shivered.\\n\\n“Huh,” said the stranger, “what’s that in yuhr leather case thar,\\ncounselor? Are yuh goin’ to court to help convict some client, or ----”\\n\\nHe reached for the case and when he jerked it away he almost took\\nShorty’s head with it.\\n\\n“Shame on yuh for wakin’ me up,” said Bancroft. “I ain’t had a good\\nsleep for a week. Feel drowsy.”\\n\\nShorty made no answer as Bancroft investigated the leather case.\\n\\n“Dough, eh!” he exclaimed, after a hasty examination, during which he\\nkept the worried Shorty still covered.\\n\\n“Yuh said it,” admitted Shorty, ruefully.'),\n",
       "  0.4794231381667137),\n",
       " (Document(id='9e4bc927-ba61-4cbd-a311-dfd8d2a27557', metadata={'source': 'foolsandmules.txt', 'start_index': 713}, page_content='*** START OF THE PROJECT GUTENBERG EBOOK FOOLS AND MULES ***\\n\\n\\nFools and Mules\\n---------------\\n\\n[A Shorty McKay Story]\\n\\nBy Ray Humphreys\\n\\nAuthor of “In the Wrong Pasture,” etc.\\n\\n\\nSnow, which had first capped the higher peaks of the Sangre de Cristos\\nlate in August, had unrolled its fleecy blanket down the slopes of the\\nmountains, as the weeks went by, and had now smothered Monte Vista in\\nhuge crystal drifts that had all but buried the snug little town. The\\nhigh roads that wound out of the village up to the various silver mines\\nwere hopelessly blocked for any sort of conveyance and open only to the\\nmost daring of horsemen, or the slow, plodding snowshoer.'),\n",
       "  0.4757917445165761),\n",
       " (Document(id='ca2f09db-858d-4df7-b6e4-2c4a7a2b418c', metadata={'source': 'foolsandmules.txt', 'start_index': 11276}, page_content='“Dough, eh!” he exclaimed, after a hasty examination, during which he\\nkept the worried Shorty still covered.\\n\\n“Yuh said it,” admitted Shorty, ruefully.\\n\\n“Waal now,” said Bancroft, well pleased at his luck, “I’m sure obliged\\nto yuh, mister! Bringin’ this up to me on a cold night, through the\\nsnow! I’m sure enough grateful. But thar’s one thing, yuh must be my\\nguest up to my cabin. I can’t let yuh go back to town to report I held\\nyuh up, when the roads are so pore for travelin’. Now, yuh’ll just come\\nwith me, drop outta sight for a few days, an’ the folks will decide a\\nsnow slide has swallered yuh up, hoss an’ all, or else that yuh has\\nflirted with temptation and she, yuh, an’ the coin has gone over the\\nhill together, to some healthier climate.”\\n\\n“Say,” began Shorty. But he found, after all, that he had little to say\\nabout it. His self-appointed host quietly disarmed him and then invited\\nhim to get off Lobo Loco, and Shorty did.'),\n",
       "  0.47322069831555696),\n",
       " (Document(id='a4e71546-a94d-441d-901c-fdd79007031f', metadata={'source': 'foolsandmules.txt', 'start_index': 22305}, page_content='It was Sheriff Joe Cook and two Monte Vista men!\\n\\nDown they came, floundering and skidding, but secure along the rope.\\nThey made their way slowly to Shorty, and Shorty saw that there were\\nother men up on the trail, holding the rope and leaning over to watch\\nthe progress of the sheriff and his two aides. Shorty stifled a great\\nsob, and tears welled up into his eyes as Sheriff Cook, navigating the\\ngreat drift between the mule and Shorty, reached the rock. In a moment\\nthe other two men were on the rock.\\n\\n“Thank goodness, yuh come!” cried Shorty, blubbering like a kid. “I\\nsure had my mind all made up to die here in the snow, with nothin’ but\\na mule for company.”\\n\\n“Yuh sure got inter a nice mess,” commented the sheriff, and Shorty\\nrealized that in the joyous prospect of being rescued he had forgotten\\nthat he had been held up and had lost three thousand dollars of the\\nConsolidated mines pay roll. He wilted at the thought of it now.'),\n",
       "  0.46977291776357394),\n",
       " (Document(id='01a63b37-b3fc-41f3-af87-57363745bf65', metadata={'source': 'foolsandmules.txt', 'start_index': 13389}, page_content='“I was goin’ down to rob a pore miner o’ four or five dollars an’ some\\ngrub,” explained Bancroft, “an’ then here yuh come, sayin’, ‘Please,\\nMister Bancroft, I’m achin’ to be held up an’ robbed’ an’ I\\naccommodates. I always aims----’”\\n\\n“Shut up!” said Shorty.\\n\\n“To accommodate my pals,” went on Bancroft, ignoring Shorty’s outburst.\\n“When we git to my cabin I reckon I’ll insist yuh stay a week, my dear\\nGaston. No, by golly, make it two weeks, my dear Alphonse. No, by\\ngolly, let’s make it three weeks----”\\n\\n“Dry up!”\\n\\n“Or perhaps a month would be better! A month in the great open spaces,\\nwhere the winter begins, an’ where the snow is a little whiter an’ the\\nnights a little lighter----”\\n\\nShorty groaned. There he was, on a mule, all trussed up like a turkey\\ngoing to the oven, and a bandit behind, with his pay-roll money, and\\nalarming him with visions of a long imprisonment in some isolated\\ncabin, where all the searchers in the world couldn’t unearth him before\\nthe spring thaw.'),\n",
       "  0.46767644152280197),\n",
       " (Document(id='113a7a1a-0bf9-4b44-b24c-8156348c05e5', metadata={'source': 'foolsandmules.txt', 'start_index': 25874}, page_content='And Rudolph, laying back his ears, raised a quivering upper lip over\\nyellow teeth, sucking in a mighty breath.\\n\\n“Haw he-ee-ee haw!” he brayed.\\n\\n\\n[Transcriber’s Note: This story appeared in the December 27, 1924 issue\\nof _Western Story Magazine_.]\\n\\n\\n\\n\\n\\n*** END OF THE PROJECT GUTENBERG EBOOK FOOLS AND MULES ***\\n\\n\\n    \\n\\nUpdated editions will replace the previous one—the old editions will\\nbe renamed.'),\n",
       "  0.4664343474208231),\n",
       " (Document(id='164c622e-2475-4f41-87c7-70c619fb0b43', metadata={'source': 'foolsandmules.txt', 'start_index': 16718}, page_content='On and on they rolled, to come up at last with a gentle thud against\\nsomething hard and unyielding. Shorty, with his hands tied, worked his\\nhead and shoulders until he had wormed his nose and chin to the\\nsurface. The mule, feeling the necessity of breathing, too, thrashed\\naround without footing until he managed to thrust his head up through\\nthe snow. That move elevated the hapless Shorty far enough for him to\\nget his chin above the surface, but what a disappointment the view from\\nthere was!\\n\\nThey were in a pocket, beneath two saplings. The saplings were already\\ncreaking and groaning under the weight of the snow that was pushing\\ndown upon them from up the slope. Once those saplings cracked the\\navalanche would descend and when that happened----\\n\\n“Mule,” said Shorty, briefly, “yuh’re a fool. Just like I always said.\\nA fool! Now that Lobo Loco o’ mine, I reckon he’s beat it out safe with\\nthat derned thief and my pay-roll money.”'),\n",
       "  0.4654641095068185),\n",
       " (Document(id='7f852e99-ff42-40e6-8bbc-fd6c534968a3', metadata={'source': 'foolsandmules.txt', 'start_index': 19917}, page_content='Again the mule looked askance at him.\\n\\n“Yuh crazy fool,” blurted the shivering Shorty, as he essayed a step,\\nonly to sink into yielding snow, “it’s me.”\\n\\nAnd again Rudolph brayed his recognition.\\n\\nThen the spirit of the thing came upon Shorty. He had explored in all\\ndirections and found nothing but deep snow. Evidently he was marooned\\non a huge rock and hemmed in on all sides. There was no escape. He\\ncould not see the trail from where he was. Besides, there would be\\nnobody on it unless it was the bandit, who, due to Lobo Loco’s\\nsagacity, might have escaped the slide. And if the bandit was on the\\ntrail he wouldn’t care about aiding his late victim. No, nothing to do\\nbut perish, decided Shorty, and what could be nicer, under the\\ncircumstances, than passing out with the asinine trumpeting of a\\njackass as a funeral dirge?'),\n",
       "  0.46309122609869074)]"
      ]
     },
     "execution_count": 162,
     "metadata": {},
     "output_type": "execute_result"
    }
   ],
   "source": [
    "search_results2"
   ]
  },
  {
   "cell_type": "code",
   "execution_count": 163,
   "id": "566ba5f3",
   "metadata": {},
   "outputs": [
    {
     "data": {
      "text/plain": [
       "[(Document(id='89d76219-53b6-4c6d-b1f2-c9b4e2450210', metadata={'source': 'indianTales.txt', 'start_index': 14082}, page_content='[Illustration: THE LION AND THE CRANE]\\n\\n\\n\\n\\nHow the Raja\\'s Son won the Princess Labam.\\n\\n\\nIn a country there was a Raja who had an only son who every day went\\nout to hunt. One day the Rani, his mother, said to him, \"You can hunt\\nwherever you like on these three sides; but you must never go to the\\nfourth side.\" This she said because she knew if he went on the fourth\\nside he would hear of the beautiful Princess Labam, and that then he\\nwould leave his father and mother and seek for the princess.'),\n",
       "  0.606032764294405),\n",
       " (Document(id='c34c3113-79ba-4a23-9ffd-869401cb282c', metadata={'source': 'indianTales.txt', 'start_index': 18950}, page_content='[Illustration:]\\n\\n\"What man hurt you that you roared so loud?\" said the wife.\\n\\n\"No one hurt me,\" answered the husband; \"but a Raja\\'s son came and\\ntook the thorn out of my foot.\"\\n\\n\"Where is he? Show him to me,\" said his wife.\\n\\n\"If you promise not to kill him, I will call him,\" said the tiger.\\n\\n\"I won\\'t kill him; only let me see him,\" answered his wife.\\n\\nThen the tiger called the Raja\\'s son, and when he came the tiger and\\nhis wife made him a great many salaams. Then they gave him a good\\ndinner, and he stayed with them for three days. Every day he looked at\\nthe tiger\\'s foot, and the third day it was quite healed. Then he said\\ngood-bye to the tigers, and the tiger said to him, \"If ever you are in\\ntrouble, think of me, and we will come to you.\"'),\n",
       "  0.5918539280703675),\n",
       " (Document(id='c1bc736f-976b-4e48-a340-8519cce93e0b', metadata={'source': 'indianTales.txt', 'start_index': 17976}, page_content='The Raja\\'s son thanked him, mounted his horse and continued his\\njourney. He rode on and on until he came to another jungle, and there\\nhe saw a tiger who had a thorn in his foot, and was roaring loudly\\nfrom the pain.\\n\\n\"Why do you roar like that?\" said the young Raja. \"What is the matter\\nwith you?\"\\n\\n\"I have had a thorn in my foot for twelve years,\" answered the tiger,\\n\"and it hurts me so; that is why I roar.\"\\n\\n\"Well,\" said the Raja\\'s son, \"I will take it out for you. But\\nperhaps, as you are a tiger, when I have made you well, you will eat\\nme?\"\\n\\n[Illustration:]\\n\\n\"Oh, no,\" said the tiger, \"I won\\'t eat you. Do make me well.\"\\n\\nThen the prince took a little knife from his pocket, and cut the thorn\\nout of the tiger\\'s foot; but when he cut, the tiger roared louder than\\never--so loud that his wife heard him in the next jungle, and came\\nbounding along to see what was the matter. The tiger saw her coming,\\nand hid the prince in the jungle, so that she should not see him.\\n\\n[Illustration:]'),\n",
       "  0.5898478426327876),\n",
       " (Document(id='40653f06-2f9d-4283-a64d-3d921cdd2cf3', metadata={'source': 'indianTales.txt', 'start_index': 30490}, page_content='When he heard of the demons the Raja\\'s son was very sad. \"What can I\\ndo?\" he said to himself. \"How can I fight with these two demons?\" Then\\nhe thought of his tiger: and the tiger and his wife came to him and\\nsaid, \"Why are you so sad?\" The Raja\\'s son answered, \"The king has\\nordered me to fight with his two demons and kill them. How can I do\\nthis?\" \"Do not be frightened,\" said the tiger. \"Be happy. I and my\\nwife will fight with them for you.\"\\n\\n[Illustration:]'),\n",
       "  0.5894006539263731),\n",
       " (Document(id='d8dffc36-837a-4d12-a113-0341a00da567', metadata={'source': 'indianTales.txt', 'start_index': 13209}, page_content='\"A service have we done thee\\n      To the best of our ability,\\n    King of the Beasts! Your Majesty!\\n      What return shall we get from thee?\"\\n\\nIn reply the Lion spoke the second verse:\\n\\n    \"As I feed on blood,\\n      And always hunt for prey,\\n    \\'Tis much that thou art still alive\\n      Having once been between my teeth.\"\\n\\nThen in reply the crane said the two other verses:\\n\\n    \"Ungrateful, doing no good,\\n      Not doing as he would be done by,\\n    In him there is no gratitude,\\n      To serve him is useless.\\n\\n    \"His friendship is not won\\n      By the clearest good deed.\\n    Better softly withdraw from him,\\n      Neither envying nor abusing.\"\\n\\nAnd having thus spoken the crane flew away.\\n\\n_And when the great Teacher, Gautama the Buddha, told this tale, he\\nused to add: \"Now at that time the lion was Devadatta the Traitor, but\\nthe white crane was I myself.\"_\\n\\n[Illustration: THE LION AND THE CRANE]\\n\\n\\n\\n\\nHow the Raja\\'s Son won the Princess Labam.'),\n",
       "  0.5890568021372493),\n",
       " (Document(id='42404983-d32a-4df3-a455-1c6586daf996', metadata={'source': 'indianTales.txt', 'start_index': 341149}, page_content=\"In the following Notes I give, as on the two previous occasions, the\\n_source_ whence I derived the tale, then _parallels_, and finally\\n_remarks_. For Indian _parallels_ I have been able to refer to Major\\nTemple's remarkable Analysis of Indian Folk-tale incidents at the end\\nof _Wideawake Stories_ (pp. 386-436), for European ones to my\\nalphabetical List of Incidents, with bibliographical references, in\\n_Transactions of Folk-Lore Congress_, 1892, pp. 87-98. My _remarks_\\nhave been mainly devoted to tracing the relation between the Indian\\nand the European tales, with the object of showing that the latter\\nhave been derived from the former. I have, however, to some extent\\nhandicapped myself, as I have avoided giving again the Indian versions\\nof stories already given in _English Fairy Tales_ or _Celtic Fairy\\nTales_.\\n\\n\\nI. THE LION AND THE CRANE.\"),\n",
       "  0.5854207498942069),\n",
       " (Document(id='db86a5bb-09b3-4fa7-9f39-36256814db87', metadata={'source': 'indianTales.txt', 'start_index': 12770}, page_content='mouth struck one end of the bone with his beak. Whereupon the bone\\ndropped and fell out. As soon as he had caused the bone to fall, he\\ngot out of the lion\\'s mouth, striking the stick with his beak so that\\nit fell out, and then settled on a branch. The lion gets well, and\\none day was eating a buffalo he had killed. The crane thinking \"I will\\nsound him,\" settled on a branch just over him, and in conversation\\nspoke this first verse:'),\n",
       "  0.5727992283032113),\n",
       " (Document(id='6bf7514a-0f54-435d-a2b5-7b5f18099d90', metadata={'source': 'indianTales.txt', 'start_index': 343966}, page_content=\"in his _Assemblies of Æsopic Fables_, which I have shown to be the\\nsource of Phædrus' Fables c. 30 A.D. Besides this, it came from\\nCeylon in the Fables of Kybises--_i.e._, Kasyapa the Buddha--c. 50\\nA.D., was adapted into Hebrew, and used for political purposes, by\\nRabbi Joshua ben Chananyah in a harangue to the Jews c. 120 A.D.,\\nbegging them to be patient while within the jaws of Rome. The Hebrew\\nform uses the lion, not the wolf, as the ingrate, which enables us\\nto decide on the Indian _provenance_ of the Midrashic version. It may\\nbe remarked that the use of the lion in this and other Jatakas is indirectly a testimony to their great age, as the lion has become\\nrarer and rarer in India during historic times, and is now confined\\nto the Gir forest of Kathiáwar, where only a dozen specimens exist,\\nand are strictly preserved.\"),\n",
       "  0.5614020626218508),\n",
       " (Document(id='ef0e49d2-a629-437d-84b8-848d37326275', metadata={'source': 'indianTales.txt', 'start_index': 9696}, page_content=\"VII.    THE CRUEL CRANE OUTWITTED                    46\\n\\nVIII.   LOVING LAILI                                 51\\n\\nIX.     THE TIGER, THE BRAHMAN, AND THE JACKAL       66\\n\\nX.      THE SOOTHSAYER'S SON                         70\\n\\nXI.     HARISARMAN                                   85\\n\\nXII.    THE CHARMED RING                             90\\n\\nXIII.   THE TALKATIVE TORTOISE                      100\\n\\nXIV.    A LAC OF RUPEES FOR A PIECE OF ADVICE       103\\n\\nXV.     THE GOLD-GIVING SERPENT                     112\\n\\nXVI.    THE SON OF SEVEN QUEENS                     115\\n\\nXVII.   A LESSON FOR KINGS                          127\\n\\nXVIII.  PRIDE GOETH BEFORE A FALL                   132\\n\\nXIX.    RAJA RASALU                                 136\\n\\nXX.     THE ASS IN THE LION'S SKIN                  150\\n\\nXXI.    THE FARMER AND THE MONEY-LENDER             152\\n\\nXXII.   THE BOY WHO HAD A MOON ON HIS FOREHEAD\\n            AND A STAR ON HIS CHIN                  156\"),\n",
       "  0.5522802719390627),\n",
       " (Document(id='9c6502bd-3737-41a3-bc91-a0242ea3c95f', metadata={'source': 'indianTales.txt', 'start_index': 99905}, page_content='[Illustration: How Loving Laili became young again]\\n\\nThere Prince Majnun told everything to his father, who was horrified\\nand angry. \"How lucky for you that you have such a wife,\" he said.\\n\"Why did you not do what she told you? But for her, you would be now\\ndead.\" Then he made a great feast out of gratitude for his son\\'s\\nsafety, and gave many, many rupees to the fakirs. And he made so much\\nof Laili. He loved her dearly; he could not do enough for her. Then he\\nbuilt a splendid palace for her and his son, with a great deal of\\nground about it, and lovely gardens, and gave them great wealth, and\\nheaps of servants to wait on them. But he would not allow any but\\ntheir servants to enter their gardens and palace, and he would not\\nallow Majnun to go out of them, nor Laili; \"for,\" said King Dantal,\\n\"Laili is so beautiful, that perhaps some one may kill my son to take\\nher away.\"\\n\\n\\n\\n\\nThe Tiger, the Brahman, and the Jackal\\n\\n[Illustration:]'),\n",
       "  0.5511110200341137)]"
      ]
     },
     "execution_count": 163,
     "metadata": {},
     "output_type": "execute_result"
    }
   ],
   "source": [
    "search_results"
   ]
  },
  {
   "cell_type": "markdown",
   "id": "aef0ce6d",
   "metadata": {},
   "source": [
    "RAG\n"
   ]
  },
  {
   "cell_type": "code",
   "execution_count": 164,
   "id": "92552a3a",
   "metadata": {},
   "outputs": [],
   "source": [
    "prompt_template = \"\"\"You are an assistant for question-answering tasks. Use the following pieces of retrieved context to answer the question. If you don't know the answer, just say that you don't know. Use three sentences maximum and keep the answer concise.\n",
    "Question: {question} \n",
    "Context: {context} \n",
    "Answer:\"\"\""
   ]
  },
  {
   "cell_type": "code",
   "execution_count": 165,
   "id": "f4152d01",
   "metadata": {},
   "outputs": [
    {
     "name": "stdout",
     "output_type": "stream",
     "text": [
      "[Illustration: THE LION AND THE CRANE]\n",
      "\n",
      "\n",
      "\n",
      "\n",
      "How the Raja's Son won the Princess Labam.\n",
      "\n",
      "\n",
      "In a country there was a Raja who had an only son who every day went\n",
      "out to hunt. One day the Rani, his mother, said to him, \"You can hunt\n",
      "wherever you like on these three sides; but you must never go to the\n",
      "fourth side.\" This she said because she knew if he went on the fourth\n",
      "side he would hear of the beautiful Princess Labam, and that then he\n",
      "would leave his father and mother and seek for the princess.\n",
      "==================================================\n",
      "\n",
      "\n",
      "[Illustration:]\n",
      "\n",
      "\"What man hurt you that you roared so loud?\" said the wife.\n",
      "\n",
      "\"No one hurt me,\" answered the husband; \"but a Raja's son came and\n",
      "took the thorn out of my foot.\"\n",
      "\n",
      "\"Where is he? Show him to me,\" said his wife.\n",
      "\n",
      "\"If you promise not to kill him, I will call him,\" said the tiger.\n",
      "\n",
      "\"I won't kill him; only let me see him,\" answered his wife.\n",
      "\n",
      "Then the tiger called the Raja's son, and when he came the tiger and\n",
      "his wife made him a great many salaams. Then they gave him a good\n",
      "dinner, and he stayed with them for three days. Every day he looked at\n",
      "the tiger's foot, and the third day it was quite healed. Then he said\n",
      "good-bye to the tigers, and the tiger said to him, \"If ever you are in\n",
      "trouble, think of me, and we will come to you.\"\n",
      "==================================================\n",
      "\n",
      "\n",
      "The Raja's son thanked him, mounted his horse and continued his\n",
      "journey. He rode on and on until he came to another jungle, and there\n",
      "he saw a tiger who had a thorn in his foot, and was roaring loudly\n",
      "from the pain.\n",
      "\n",
      "\"Why do you roar like that?\" said the young Raja. \"What is the matter\n",
      "with you?\"\n",
      "\n",
      "\"I have had a thorn in my foot for twelve years,\" answered the tiger,\n",
      "\"and it hurts me so; that is why I roar.\"\n",
      "\n",
      "\"Well,\" said the Raja's son, \"I will take it out for you. But\n",
      "perhaps, as you are a tiger, when I have made you well, you will eat\n",
      "me?\"\n",
      "\n",
      "[Illustration:]\n",
      "\n",
      "\"Oh, no,\" said the tiger, \"I won't eat you. Do make me well.\"\n",
      "\n",
      "Then the prince took a little knife from his pocket, and cut the thorn\n",
      "out of the tiger's foot; but when he cut, the tiger roared louder than\n",
      "ever--so loud that his wife heard him in the next jungle, and came\n",
      "bounding along to see what was the matter. The tiger saw her coming,\n",
      "and hid the prince in the jungle, so that she should not see him.\n",
      "\n",
      "[Illustration:]\n",
      "==================================================\n",
      "\n",
      "\n",
      "When he heard of the demons the Raja's son was very sad. \"What can I\n",
      "do?\" he said to himself. \"How can I fight with these two demons?\" Then\n",
      "he thought of his tiger: and the tiger and his wife came to him and\n",
      "said, \"Why are you so sad?\" The Raja's son answered, \"The king has\n",
      "ordered me to fight with his two demons and kill them. How can I do\n",
      "this?\" \"Do not be frightened,\" said the tiger. \"Be happy. I and my\n",
      "wife will fight with them for you.\"\n",
      "\n",
      "[Illustration:]\n",
      "==================================================\n",
      "\n",
      "\n",
      "\"A service have we done thee\n",
      "      To the best of our ability,\n",
      "    King of the Beasts! Your Majesty!\n",
      "      What return shall we get from thee?\"\n",
      "\n",
      "In reply the Lion spoke the second verse:\n",
      "\n",
      "    \"As I feed on blood,\n",
      "      And always hunt for prey,\n",
      "    'Tis much that thou art still alive\n",
      "      Having once been between my teeth.\"\n",
      "\n",
      "Then in reply the crane said the two other verses:\n",
      "\n",
      "    \"Ungrateful, doing no good,\n",
      "      Not doing as he would be done by,\n",
      "    In him there is no gratitude,\n",
      "      To serve him is useless.\n",
      "\n",
      "    \"His friendship is not won\n",
      "      By the clearest good deed.\n",
      "    Better softly withdraw from him,\n",
      "      Neither envying nor abusing.\"\n",
      "\n",
      "And having thus spoken the crane flew away.\n",
      "\n",
      "_And when the great Teacher, Gautama the Buddha, told this tale, he\n",
      "used to add: \"Now at that time the lion was Devadatta the Traitor, but\n",
      "the white crane was I myself.\"_\n",
      "\n",
      "[Illustration: THE LION AND THE CRANE]\n",
      "\n",
      "\n",
      "\n",
      "\n",
      "How the Raja's Son won the Princess Labam.\n",
      "==================================================\n",
      "\n",
      "\n",
      "In the following Notes I give, as on the two previous occasions, the\n",
      "_source_ whence I derived the tale, then _parallels_, and finally\n",
      "_remarks_. For Indian _parallels_ I have been able to refer to Major\n",
      "Temple's remarkable Analysis of Indian Folk-tale incidents at the end\n",
      "of _Wideawake Stories_ (pp. 386-436), for European ones to my\n",
      "alphabetical List of Incidents, with bibliographical references, in\n",
      "_Transactions of Folk-Lore Congress_, 1892, pp. 87-98. My _remarks_\n",
      "have been mainly devoted to tracing the relation between the Indian\n",
      "and the European tales, with the object of showing that the latter\n",
      "have been derived from the former. I have, however, to some extent\n",
      "handicapped myself, as I have avoided giving again the Indian versions\n",
      "of stories already given in _English Fairy Tales_ or _Celtic Fairy\n",
      "Tales_.\n",
      "\n",
      "\n",
      "I. THE LION AND THE CRANE.\n",
      "==================================================\n",
      "\n",
      "\n",
      "mouth struck one end of the bone with his beak. Whereupon the bone\n",
      "dropped and fell out. As soon as he had caused the bone to fall, he\n",
      "got out of the lion's mouth, striking the stick with his beak so that\n",
      "it fell out, and then settled on a branch. The lion gets well, and\n",
      "one day was eating a buffalo he had killed. The crane thinking \"I will\n",
      "sound him,\" settled on a branch just over him, and in conversation\n",
      "spoke this first verse:\n",
      "==================================================\n",
      "\n",
      "\n",
      "in his _Assemblies of Æsopic Fables_, which I have shown to be the\n",
      "source of Phædrus' Fables c. 30 A.D. Besides this, it came from\n",
      "Ceylon in the Fables of Kybises--_i.e._, Kasyapa the Buddha--c. 50\n",
      "A.D., was adapted into Hebrew, and used for political purposes, by\n",
      "Rabbi Joshua ben Chananyah in a harangue to the Jews c. 120 A.D.,\n",
      "begging them to be patient while within the jaws of Rome. The Hebrew\n",
      "form uses the lion, not the wolf, as the ingrate, which enables us\n",
      "to decide on the Indian _provenance_ of the Midrashic version. It may\n",
      "be remarked that the use of the lion in this and other Jatakas is indirectly a testimony to their great age, as the lion has become\n",
      "rarer and rarer in India during historic times, and is now confined\n",
      "to the Gir forest of Kathiáwar, where only a dozen specimens exist,\n",
      "and are strictly preserved.\n",
      "==================================================\n",
      "\n",
      "\n",
      "VII.    THE CRUEL CRANE OUTWITTED                    46\n",
      "\n",
      "VIII.   LOVING LAILI                                 51\n",
      "\n",
      "IX.     THE TIGER, THE BRAHMAN, AND THE JACKAL       66\n",
      "\n",
      "X.      THE SOOTHSAYER'S SON                         70\n",
      "\n",
      "XI.     HARISARMAN                                   85\n",
      "\n",
      "XII.    THE CHARMED RING                             90\n",
      "\n",
      "XIII.   THE TALKATIVE TORTOISE                      100\n",
      "\n",
      "XIV.    A LAC OF RUPEES FOR A PIECE OF ADVICE       103\n",
      "\n",
      "XV.     THE GOLD-GIVING SERPENT                     112\n",
      "\n",
      "XVI.    THE SON OF SEVEN QUEENS                     115\n",
      "\n",
      "XVII.   A LESSON FOR KINGS                          127\n",
      "\n",
      "XVIII.  PRIDE GOETH BEFORE A FALL                   132\n",
      "\n",
      "XIX.    RAJA RASALU                                 136\n",
      "\n",
      "XX.     THE ASS IN THE LION'S SKIN                  150\n",
      "\n",
      "XXI.    THE FARMER AND THE MONEY-LENDER             152\n",
      "\n",
      "XXII.   THE BOY WHO HAD A MOON ON HIS FOREHEAD\n",
      "            AND A STAR ON HIS CHIN                  156\n",
      "==================================================\n",
      "\n",
      "\n",
      "[Illustration: How Loving Laili became young again]\n",
      "\n",
      "There Prince Majnun told everything to his father, who was horrified\n",
      "and angry. \"How lucky for you that you have such a wife,\" he said.\n",
      "\"Why did you not do what she told you? But for her, you would be now\n",
      "dead.\" Then he made a great feast out of gratitude for his son's\n",
      "safety, and gave many, many rupees to the fakirs. And he made so much\n",
      "of Laili. He loved her dearly; he could not do enough for her. Then he\n",
      "built a splendid palace for her and his son, with a great deal of\n",
      "ground about it, and lovely gardens, and gave them great wealth, and\n",
      "heaps of servants to wait on them. But he would not allow any but\n",
      "their servants to enter their gardens and palace, and he would not\n",
      "allow Majnun to go out of them, nor Laili; \"for,\" said King Dantal,\n",
      "\"Laili is so beautiful, that perhaps some one may kill my son to take\n",
      "her away.\"\n",
      "\n",
      "\n",
      "\n",
      "\n",
      "The Tiger, the Brahman, and the Jackal\n",
      "\n",
      "[Illustration:]\n",
      "==================================================\n",
      "\n"
     ]
    }
   ],
   "source": [
    "doc_content = \"\\n\\n\".join(doc.page_content+\"\\n\"+\"=\"*50+\"\\n\" for (doc,score) in search_results)\n",
    "print(doc_content)"
   ]
  },
  {
   "cell_type": "code",
   "execution_count": 166,
   "id": "9eef7896",
   "metadata": {},
   "outputs": [
    {
     "name": "stdout",
     "output_type": "stream",
     "text": [
      "Dawn came, finally, but it found Shorty still on the mule’s back. The\n",
      "mule was dozing. He had thrashed and slashed in vain for secure footing\n",
      "and had found none. Shorty, taking the hint, decided that it would be\n",
      "unwise to get off the mule’s back, especially since there seemed to be\n",
      "no bottom to the snow. The saplings creaked and protested louder than\n",
      "ever.\n",
      "\n",
      "Day, and the sun, brought Shorty courage. Besides, he was growing\n",
      "hungry. He slipped off, awkwardly, because of his tied hands, and he\n",
      "sank immediately.\n",
      "\n",
      "But he was too hungry to die just then. He rolled and in a minute felt\n",
      "hard ground under him. He got to his feet and pushed up through the\n",
      "snow crust and emerged, covered with sparkling crystals, three yards\n",
      "below the struggling mule. The mule looked at him in a startled way.\n",
      "\n",
      "“It’s just me!” explained Shorty.\n",
      "==================================================\n",
      "\n",
      "\n",
      "Then the slide struck. Smothered in a fleecy, unreal substance, Shorty\n",
      "felt himself and the mule swept over the edge of the cliff, but the\n",
      "expected drop failed to materialize. Instead it seemed as if they were\n",
      "on a great toboggan and they rolled over and over, slowly, cushioned in\n",
      "soft snow, soft, wet snow, loosened above by the warm night and now\n",
      "seeking a level in the ravines far below. Over and over rolled Shorty\n",
      "and Rudolph together, for Shorty was securely tied to the white mule.\n",
      "The mule seemed to take the matter philosophically enough, and it was\n",
      "Shorty who opened his mouth to shout and got it full of snow.\n",
      "==================================================\n",
      "\n",
      "\n",
      "At that the road agent straightened in his saddle. “So!” he exclaimed.\n",
      "“Yuh know me, an’ seem to think I should know where yuh are goin’! If I\n",
      "should know where yuh are goin’ and don’t, then it proves I must guess.\n",
      "Ef I should be wise to yuh, as yuh say yuh must be good pickin’s.”\n",
      "\n",
      "Shorty shivered.\n",
      "\n",
      "“Huh,” said the stranger, “what’s that in yuhr leather case thar,\n",
      "counselor? Are yuh goin’ to court to help convict some client, or ----”\n",
      "\n",
      "He reached for the case and when he jerked it away he almost took\n",
      "Shorty’s head with it.\n",
      "\n",
      "“Shame on yuh for wakin’ me up,” said Bancroft. “I ain’t had a good\n",
      "sleep for a week. Feel drowsy.”\n",
      "\n",
      "Shorty made no answer as Bancroft investigated the leather case.\n",
      "\n",
      "“Dough, eh!” he exclaimed, after a hasty examination, during which he\n",
      "kept the worried Shorty still covered.\n",
      "\n",
      "“Yuh said it,” admitted Shorty, ruefully.\n",
      "==================================================\n",
      "\n",
      "\n",
      "*** START OF THE PROJECT GUTENBERG EBOOK FOOLS AND MULES ***\n",
      "\n",
      "\n",
      "Fools and Mules\n",
      "---------------\n",
      "\n",
      "[A Shorty McKay Story]\n",
      "\n",
      "By Ray Humphreys\n",
      "\n",
      "Author of “In the Wrong Pasture,” etc.\n",
      "\n",
      "\n",
      "Snow, which had first capped the higher peaks of the Sangre de Cristos\n",
      "late in August, had unrolled its fleecy blanket down the slopes of the\n",
      "mountains, as the weeks went by, and had now smothered Monte Vista in\n",
      "huge crystal drifts that had all but buried the snug little town. The\n",
      "high roads that wound out of the village up to the various silver mines\n",
      "were hopelessly blocked for any sort of conveyance and open only to the\n",
      "most daring of horsemen, or the slow, plodding snowshoer.\n",
      "==================================================\n",
      "\n",
      "\n",
      "“Dough, eh!” he exclaimed, after a hasty examination, during which he\n",
      "kept the worried Shorty still covered.\n",
      "\n",
      "“Yuh said it,” admitted Shorty, ruefully.\n",
      "\n",
      "“Waal now,” said Bancroft, well pleased at his luck, “I’m sure obliged\n",
      "to yuh, mister! Bringin’ this up to me on a cold night, through the\n",
      "snow! I’m sure enough grateful. But thar’s one thing, yuh must be my\n",
      "guest up to my cabin. I can’t let yuh go back to town to report I held\n",
      "yuh up, when the roads are so pore for travelin’. Now, yuh’ll just come\n",
      "with me, drop outta sight for a few days, an’ the folks will decide a\n",
      "snow slide has swallered yuh up, hoss an’ all, or else that yuh has\n",
      "flirted with temptation and she, yuh, an’ the coin has gone over the\n",
      "hill together, to some healthier climate.”\n",
      "\n",
      "“Say,” began Shorty. But he found, after all, that he had little to say\n",
      "about it. His self-appointed host quietly disarmed him and then invited\n",
      "him to get off Lobo Loco, and Shorty did.\n",
      "==================================================\n",
      "\n",
      "\n",
      "It was Sheriff Joe Cook and two Monte Vista men!\n",
      "\n",
      "Down they came, floundering and skidding, but secure along the rope.\n",
      "They made their way slowly to Shorty, and Shorty saw that there were\n",
      "other men up on the trail, holding the rope and leaning over to watch\n",
      "the progress of the sheriff and his two aides. Shorty stifled a great\n",
      "sob, and tears welled up into his eyes as Sheriff Cook, navigating the\n",
      "great drift between the mule and Shorty, reached the rock. In a moment\n",
      "the other two men were on the rock.\n",
      "\n",
      "“Thank goodness, yuh come!” cried Shorty, blubbering like a kid. “I\n",
      "sure had my mind all made up to die here in the snow, with nothin’ but\n",
      "a mule for company.”\n",
      "\n",
      "“Yuh sure got inter a nice mess,” commented the sheriff, and Shorty\n",
      "realized that in the joyous prospect of being rescued he had forgotten\n",
      "that he had been held up and had lost three thousand dollars of the\n",
      "Consolidated mines pay roll. He wilted at the thought of it now.\n",
      "==================================================\n",
      "\n",
      "\n",
      "“I was goin’ down to rob a pore miner o’ four or five dollars an’ some\n",
      "grub,” explained Bancroft, “an’ then here yuh come, sayin’, ‘Please,\n",
      "Mister Bancroft, I’m achin’ to be held up an’ robbed’ an’ I\n",
      "accommodates. I always aims----’”\n",
      "\n",
      "“Shut up!” said Shorty.\n",
      "\n",
      "“To accommodate my pals,” went on Bancroft, ignoring Shorty’s outburst.\n",
      "“When we git to my cabin I reckon I’ll insist yuh stay a week, my dear\n",
      "Gaston. No, by golly, make it two weeks, my dear Alphonse. No, by\n",
      "golly, let’s make it three weeks----”\n",
      "\n",
      "“Dry up!”\n",
      "\n",
      "“Or perhaps a month would be better! A month in the great open spaces,\n",
      "where the winter begins, an’ where the snow is a little whiter an’ the\n",
      "nights a little lighter----”\n",
      "\n",
      "Shorty groaned. There he was, on a mule, all trussed up like a turkey\n",
      "going to the oven, and a bandit behind, with his pay-roll money, and\n",
      "alarming him with visions of a long imprisonment in some isolated\n",
      "cabin, where all the searchers in the world couldn’t unearth him before\n",
      "the spring thaw.\n",
      "==================================================\n",
      "\n",
      "\n",
      "And Rudolph, laying back his ears, raised a quivering upper lip over\n",
      "yellow teeth, sucking in a mighty breath.\n",
      "\n",
      "“Haw he-ee-ee haw!” he brayed.\n",
      "\n",
      "\n",
      "[Transcriber’s Note: This story appeared in the December 27, 1924 issue\n",
      "of _Western Story Magazine_.]\n",
      "\n",
      "\n",
      "\n",
      "\n",
      "\n",
      "*** END OF THE PROJECT GUTENBERG EBOOK FOOLS AND MULES ***\n",
      "\n",
      "\n",
      "    \n",
      "\n",
      "Updated editions will replace the previous one—the old editions will\n",
      "be renamed.\n",
      "==================================================\n",
      "\n",
      "\n",
      "On and on they rolled, to come up at last with a gentle thud against\n",
      "something hard and unyielding. Shorty, with his hands tied, worked his\n",
      "head and shoulders until he had wormed his nose and chin to the\n",
      "surface. The mule, feeling the necessity of breathing, too, thrashed\n",
      "around without footing until he managed to thrust his head up through\n",
      "the snow. That move elevated the hapless Shorty far enough for him to\n",
      "get his chin above the surface, but what a disappointment the view from\n",
      "there was!\n",
      "\n",
      "They were in a pocket, beneath two saplings. The saplings were already\n",
      "creaking and groaning under the weight of the snow that was pushing\n",
      "down upon them from up the slope. Once those saplings cracked the\n",
      "avalanche would descend and when that happened----\n",
      "\n",
      "“Mule,” said Shorty, briefly, “yuh’re a fool. Just like I always said.\n",
      "A fool! Now that Lobo Loco o’ mine, I reckon he’s beat it out safe with\n",
      "that derned thief and my pay-roll money.”\n",
      "==================================================\n",
      "\n",
      "\n",
      "Again the mule looked askance at him.\n",
      "\n",
      "“Yuh crazy fool,” blurted the shivering Shorty, as he essayed a step,\n",
      "only to sink into yielding snow, “it’s me.”\n",
      "\n",
      "And again Rudolph brayed his recognition.\n",
      "\n",
      "Then the spirit of the thing came upon Shorty. He had explored in all\n",
      "directions and found nothing but deep snow. Evidently he was marooned\n",
      "on a huge rock and hemmed in on all sides. There was no escape. He\n",
      "could not see the trail from where he was. Besides, there would be\n",
      "nobody on it unless it was the bandit, who, due to Lobo Loco’s\n",
      "sagacity, might have escaped the slide. And if the bandit was on the\n",
      "trail he wouldn’t care about aiding his late victim. No, nothing to do\n",
      "but perish, decided Shorty, and what could be nicer, under the\n",
      "circumstances, than passing out with the asinine trumpeting of a\n",
      "jackass as a funeral dirge?\n",
      "==================================================\n",
      "\n"
     ]
    }
   ],
   "source": [
    "doc_content2 = \"\\n\\n\".join(doc.page_content+\"\\n\"+\"=\"*50+\"\\n\" for (doc,score) in search_results2)\n",
    "print(doc_content2)"
   ]
  },
  {
   "cell_type": "code",
   "execution_count": 167,
   "id": "395b1451",
   "metadata": {},
   "outputs": [],
   "source": [
    "# make the LLM read see the prompt, and analyse the retrieved document, and generate response\n",
    "\n",
    "from langchain_google_genai import GoogleGenerativeAIEmbeddings\n",
    "\n",
    "embeddings = GoogleGenerativeAIEmbeddings(model=\"models/text-embedding-004\")\n",
    "\n",
    "# Create a vector store\n",
    "# (CLASSROOM DISCUSSION: What are vector stores? What do we make them?)\n",
    "from langchain_core.vectorstores import InMemoryVectorStore\n",
    "vector_store = InMemoryVectorStore(embeddings)\n",
    "\n",
    "# Adding documents to vector store\n",
    "document_ids = vector_store.add_documents(documents=all_splits)\n",
    "\n",
    "\n",
    "\n",
    "from langchain.chat_models import init_chat_model\n",
    "model = init_chat_model(\"openai/gpt-oss-20b\", model_provider=\"groq\")\n",
    "\n",
    "prompt_template = \"\"\"You are an assistant for question-answering tasks. Use the following pieces of retrieved context to answer the question. If you don't know the answer, just say that you don't know. Use three sentences maximum and keep the answer concise.\n",
    "Question: {question} \n",
    "Context: {context} \n",
    "Answer:\"\"\"\n",
    "\n",
    "response = model.invoke(prompt_template.format(\n",
    "    context=doc_content,\n",
    "    question=\"What is the role of Lion in the story?\"))"
   ]
  },
  {
   "cell_type": "code",
   "execution_count": 168,
   "id": "813c39fc",
   "metadata": {},
   "outputs": [],
   "source": [
    "from langchain_google_genai import GoogleGenerativeAIEmbeddings\n",
    "\n",
    "embeddings = GoogleGenerativeAIEmbeddings(model=\"models/text-embedding-004\")\n",
    "\n",
    "# Create a vector store\n",
    "# (CLASSROOM DISCUSSION: What are vector stores? What do we make them?)\n",
    "from langchain_core.vectorstores import InMemoryVectorStore\n",
    "vector_store2 = InMemoryVectorStore(embeddings)\n",
    "\n",
    "# Adding documents to vector store\n",
    "document_ids = vector_store2.add_documents(documents=all_splits2)\n",
    "\n",
    "\n",
    "\n",
    "from langchain.chat_models import init_chat_model\n",
    "model = init_chat_model(\"llama-3.1-8b-instant\", model_provider=\"groq\")\n",
    "\n",
    "prompt_template = \"\"\"You are an assistant for question-answering tasks. Use the following pieces of retrieved context to answer the question. If you don't know the answer, just say that you don't know. Use three sentences maximum and keep the answer concise.\n",
    "Question: {question} \n",
    "Context: {context} \n",
    "Answer:\"\"\"\n",
    "\n",
    "response2 = model.invoke(prompt_template.format(\n",
    "    context=doc_content2,\n",
    "    question=\"What is this story about\"))"
   ]
  },
  {
   "cell_type": "code",
   "execution_count": 169,
   "id": "5a996596",
   "metadata": {},
   "outputs": [
    {
     "data": {
      "text/markdown": [
       "The story is about Shorty, a mail carrier, who gets into trouble after a snow slide sweeps him and his mule away. He is rescued by the sheriff and his men, but not before being held up by a bandit named Bancroft, who steals his pay-roll money. Shorty is later left stranded in the snow, but is eventually reunited with his mule and the sheriff's men."
      ],
      "text/plain": [
       "<IPython.core.display.Markdown object>"
      ]
     },
     "execution_count": 169,
     "metadata": {},
     "output_type": "execute_result"
    }
   ],
   "source": [
    "from IPython.display import Markdown\n",
    "Markdown(response2.content)"
   ]
  },
  {
   "cell_type": "code",
   "execution_count": 170,
   "id": "9d7fdba7",
   "metadata": {},
   "outputs": [
    {
     "data": {
      "text/markdown": [
       "In the tale the lion is the “king of beasts” who, after being helped, demands gratitude and delivers a short verse.  \n",
       "Buddha later identifies the lion as Devadatta the Traitor, so he represents an ungrateful or treacherous figure.  \n",
       "Thus the lion serves as a foil to the crane’s wisdom, illustrating the moral contrast between gratitude and ingratitude."
      ],
      "text/plain": [
       "<IPython.core.display.Markdown object>"
      ]
     },
     "execution_count": 170,
     "metadata": {},
     "output_type": "execute_result"
    }
   ],
   "source": [
    "# Better printing\n",
    "\n",
    "from IPython.display import Markdown\n",
    "Markdown(response.content)"
   ]
  },
  {
   "cell_type": "code",
   "execution_count": 171,
   "id": "d002d971",
   "metadata": {},
   "outputs": [],
   "source": [
    "search_results3 = vector_store2.similarity_search_with_score(\n",
    "    \"Who is the most GOATed character in this whole book and why\",\n",
    "    k = 10\n",
    ")\n",
    "doc_content3 = \"\\n\\n\".join(doc.page_content+\"\\n\"+\"=\"*50+\"\\n\" for (doc,score) in search_results3)\n",
    "\n",
    "response3 = model.invoke(prompt_template.format(\n",
    "    context=doc_content3,\n",
    "    question=\"Who is the most GOATed character in this whole book and why?\"))"
   ]
  },
  {
   "cell_type": "code",
   "execution_count": 172,
   "id": "7e72504b",
   "metadata": {},
   "outputs": [
    {
     "data": {
      "text/markdown": [
       "Rudolph, the mule, is the most GOATed character in this book. He consistently proves himself to be intelligent and resourceful, helping Shorty escape danger multiple times. His actions ultimately lead to Shorty's rescue by the sheriff and his deputies."
      ],
      "text/plain": [
       "<IPython.core.display.Markdown object>"
      ]
     },
     "execution_count": 172,
     "metadata": {},
     "output_type": "execute_result"
    }
   ],
   "source": [
    "from IPython.display import Markdown\n",
    "Markdown(response3.content)"
   ]
  },
  {
   "cell_type": "code",
   "execution_count": 173,
   "id": "0522e81d",
   "metadata": {},
   "outputs": [],
   "source": [
    "search_results4 = vector_store2.similarity_search_with_score(\n",
    "    \"who is the most powerful character\",\n",
    "    k = 10\n",
    ")\n",
    "doc_content4 = \"\\n\\n\".join(doc.page_content+\"\\n\"+\"=\"*50+\"\\n\" for (doc,score) in search_results4)\n",
    "\n",
    "response4 = model.invoke(prompt_template.format(\n",
    "    context=doc_content3,\n",
    "    question=\" give me a bulleted list in order of power of characters (strongest at top) \"))"
   ]
  },
  {
   "cell_type": "code",
   "execution_count": 174,
   "id": "93b5d875",
   "metadata": {},
   "outputs": [
    {
     "data": {
      "text/markdown": [
       "Here's a bulleted list of characters in order of power (strongest at top):\n",
       "\n",
       "* Buck Bancroft (highwayman with a five-hundred-dollar reward on his head)\n",
       "* Shorty (travels with Lobo Loco and Rudy, but often gets outsmarted by the mule)\n",
       "* Sheriff Cook (law enforcement, but seems to be out of his jurisdiction in this case)\n",
       "* Lobo Loco (Shorty's horse, seemingly smart and able to escape danger)\n",
       "* Rudy (the mule, seems to have a knack for getting Shorty out of trouble)"
      ],
      "text/plain": [
       "<IPython.core.display.Markdown object>"
      ]
     },
     "execution_count": 174,
     "metadata": {},
     "output_type": "execute_result"
    }
   ],
   "source": [
    "from IPython.display import Markdown\n",
    "Markdown(response4.content)"
   ]
  },
  {
   "cell_type": "code",
   "execution_count": 175,
   "id": "a257dd1b",
   "metadata": {},
   "outputs": [],
   "source": [
    "search_results5 = vector_store2.similarity_search_with_score(\n",
    "    \"Name all the characters including all the side characters, with their abilities \",\n",
    "    k = 10\n",
    ")\n",
    "doc_content5 = \"\\n\\n\".join(doc.page_content+\"\\n\"+\"=\"*50+\"\\n\" for (doc,score) in search_results5)\n",
    "\n",
    "response5 = model.invoke(prompt_template.format(\n",
    "    context=doc_content5,\n",
    "    question=\"Name all the characters inlcuding all the side charcters, write a  short note on the abilities , write the names in bold and abilites in italics and the answer should be bulleted\"))"
   ]
  },
  {
   "cell_type": "code",
   "execution_count": 176,
   "id": "044e8059",
   "metadata": {},
   "outputs": [
    {
     "data": {
      "text/markdown": [
       "* **Buck Bancroft**: _Highwayman_\n",
       "* **Shorty**: _Cowboy_\n",
       "* **Sheriff Joe Cook**: _Lawman_\n",
       "* **Monte Vista men**: _Unknown characters_ (side characters)\n",
       "* **Lobo Loco**: _Smart cow horse_\n",
       "* **Rudolph**: _White mule_\n",
       "* **Lobo**: _Shorty's horse_"
      ],
      "text/plain": [
       "<IPython.core.display.Markdown object>"
      ]
     },
     "execution_count": 176,
     "metadata": {},
     "output_type": "execute_result"
    }
   ],
   "source": [
    "from IPython.display import Markdown\n",
    "Markdown(response5.content)"
   ]
  },
  {
   "cell_type": "markdown",
   "id": "7a5ceb2c",
   "metadata": {},
   "source": [
    "# RAG Summary"
   ]
  },
  {
   "cell_type": "code",
   "execution_count": 177,
   "id": "93cd5add",
   "metadata": {},
   "outputs": [
    {
     "name": "stdout",
     "output_type": "stream",
     "text": [
      "Split given book into 563 sub-documents.\n"
     ]
    }
   ],
   "source": [
    "# RAG summary\n",
    "\n",
    "# Read a doc\n",
    "from langchain_community.document_loaders import TextLoader\n",
    "loader = TextLoader(\"indianTales.txt\")\n",
    "docs = loader.load()\n",
    "\n",
    "# Split document into small chunks\n",
    "from langchain_text_splitters import RecursiveCharacterTextSplitter\n",
    "\n",
    "text_splitter = RecursiveCharacterTextSplitter(\n",
    "    chunk_size=1000,  # chunk size (characters)\n",
    "    chunk_overlap=200,  # chunk overlap (characters)\n",
    "    add_start_index=True,  # track index in original document\n",
    ")\n",
    "all_splits = text_splitter.split_documents(docs)\n",
    "\n",
    "print(f\"Split given book into {len(all_splits)} sub-documents.\")\n",
    "\n",
    "# embedding\n",
    "from langchain_google_genai import GoogleGenerativeAIEmbeddings\n",
    "\n",
    "embeddings = GoogleGenerativeAIEmbeddings(model=\"models/text-embedding-004\")\n",
    "\n",
    "# Create a vector store\n",
    "from langchain_core.vectorstores import InMemoryVectorStore\n",
    "vector_store = InMemoryVectorStore(embeddings)\n",
    "\n",
    "# Adding documents to vector store\n",
    "document_ids = vector_store.add_documents(documents=all_splits)\n"
   ]
  },
  {
   "cell_type": "code",
   "execution_count": 178,
   "id": "b55042e4",
   "metadata": {},
   "outputs": [
    {
     "name": "stdout",
     "output_type": "stream",
     "text": [
      "[Illustration: THE LION AND THE CRANE]\n",
      "\n",
      "\n",
      "\n",
      "\n",
      "How the Raja's Son won the Princess Labam.\n",
      "\n",
      "\n",
      "In a country there was a Raja who had an only son who every day went\n",
      "out to hunt. One day the Rani, his mother, said to him, \"You can hunt\n",
      "wherever you like on these three sides; but you must never go to the\n",
      "fourth side.\" This she said because she knew if he went on the fourth\n",
      "side he would hear of the beautiful Princess Labam, and that then he\n",
      "would leave his father and mother and seek for the princess.\n",
      "==================================================\n",
      "\n",
      "\n",
      "[Illustration:]\n",
      "\n",
      "\"What man hurt you that you roared so loud?\" said the wife.\n",
      "\n",
      "\"No one hurt me,\" answered the husband; \"but a Raja's son came and\n",
      "took the thorn out of my foot.\"\n",
      "\n",
      "\"Where is he? Show him to me,\" said his wife.\n",
      "\n",
      "\"If you promise not to kill him, I will call him,\" said the tiger.\n",
      "\n",
      "\"I won't kill him; only let me see him,\" answered his wife.\n",
      "\n",
      "Then the tiger called the Raja's son, and when he came the tiger and\n",
      "his wife made him a great many salaams. Then they gave him a good\n",
      "dinner, and he stayed with them for three days. Every day he looked at\n",
      "the tiger's foot, and the third day it was quite healed. Then he said\n",
      "good-bye to the tigers, and the tiger said to him, \"If ever you are in\n",
      "trouble, think of me, and we will come to you.\"\n",
      "==================================================\n",
      "\n",
      "\n",
      "The Raja's son thanked him, mounted his horse and continued his\n",
      "journey. He rode on and on until he came to another jungle, and there\n",
      "he saw a tiger who had a thorn in his foot, and was roaring loudly\n",
      "from the pain.\n",
      "\n",
      "\"Why do you roar like that?\" said the young Raja. \"What is the matter\n",
      "with you?\"\n",
      "\n",
      "\"I have had a thorn in my foot for twelve years,\" answered the tiger,\n",
      "\"and it hurts me so; that is why I roar.\"\n",
      "\n",
      "\"Well,\" said the Raja's son, \"I will take it out for you. But\n",
      "perhaps, as you are a tiger, when I have made you well, you will eat\n",
      "me?\"\n",
      "\n",
      "[Illustration:]\n",
      "\n",
      "\"Oh, no,\" said the tiger, \"I won't eat you. Do make me well.\"\n",
      "\n",
      "Then the prince took a little knife from his pocket, and cut the thorn\n",
      "out of the tiger's foot; but when he cut, the tiger roared louder than\n",
      "ever--so loud that his wife heard him in the next jungle, and came\n",
      "bounding along to see what was the matter. The tiger saw her coming,\n",
      "and hid the prince in the jungle, so that she should not see him.\n",
      "\n",
      "[Illustration:]\n",
      "==================================================\n",
      "\n",
      "\n",
      "When he heard of the demons the Raja's son was very sad. \"What can I\n",
      "do?\" he said to himself. \"How can I fight with these two demons?\" Then\n",
      "he thought of his tiger: and the tiger and his wife came to him and\n",
      "said, \"Why are you so sad?\" The Raja's son answered, \"The king has\n",
      "ordered me to fight with his two demons and kill them. How can I do\n",
      "this?\" \"Do not be frightened,\" said the tiger. \"Be happy. I and my\n",
      "wife will fight with them for you.\"\n",
      "\n",
      "[Illustration:]\n",
      "==================================================\n",
      "\n",
      "\n",
      "\"A service have we done thee\n",
      "      To the best of our ability,\n",
      "    King of the Beasts! Your Majesty!\n",
      "      What return shall we get from thee?\"\n",
      "\n",
      "In reply the Lion spoke the second verse:\n",
      "\n",
      "    \"As I feed on blood,\n",
      "      And always hunt for prey,\n",
      "    'Tis much that thou art still alive\n",
      "      Having once been between my teeth.\"\n",
      "\n",
      "Then in reply the crane said the two other verses:\n",
      "\n",
      "    \"Ungrateful, doing no good,\n",
      "      Not doing as he would be done by,\n",
      "    In him there is no gratitude,\n",
      "      To serve him is useless.\n",
      "\n",
      "    \"His friendship is not won\n",
      "      By the clearest good deed.\n",
      "    Better softly withdraw from him,\n",
      "      Neither envying nor abusing.\"\n",
      "\n",
      "And having thus spoken the crane flew away.\n",
      "\n",
      "_And when the great Teacher, Gautama the Buddha, told this tale, he\n",
      "used to add: \"Now at that time the lion was Devadatta the Traitor, but\n",
      "the white crane was I myself.\"_\n",
      "\n",
      "[Illustration: THE LION AND THE CRANE]\n",
      "\n",
      "\n",
      "\n",
      "\n",
      "How the Raja's Son won the Princess Labam.\n",
      "==================================================\n",
      "\n",
      "\n",
      "In the following Notes I give, as on the two previous occasions, the\n",
      "_source_ whence I derived the tale, then _parallels_, and finally\n",
      "_remarks_. For Indian _parallels_ I have been able to refer to Major\n",
      "Temple's remarkable Analysis of Indian Folk-tale incidents at the end\n",
      "of _Wideawake Stories_ (pp. 386-436), for European ones to my\n",
      "alphabetical List of Incidents, with bibliographical references, in\n",
      "_Transactions of Folk-Lore Congress_, 1892, pp. 87-98. My _remarks_\n",
      "have been mainly devoted to tracing the relation between the Indian\n",
      "and the European tales, with the object of showing that the latter\n",
      "have been derived from the former. I have, however, to some extent\n",
      "handicapped myself, as I have avoided giving again the Indian versions\n",
      "of stories already given in _English Fairy Tales_ or _Celtic Fairy\n",
      "Tales_.\n",
      "\n",
      "\n",
      "I. THE LION AND THE CRANE.\n",
      "==================================================\n",
      "\n",
      "\n",
      "mouth struck one end of the bone with his beak. Whereupon the bone\n",
      "dropped and fell out. As soon as he had caused the bone to fall, he\n",
      "got out of the lion's mouth, striking the stick with his beak so that\n",
      "it fell out, and then settled on a branch. The lion gets well, and\n",
      "one day was eating a buffalo he had killed. The crane thinking \"I will\n",
      "sound him,\" settled on a branch just over him, and in conversation\n",
      "spoke this first verse:\n",
      "==================================================\n",
      "\n",
      "\n",
      "in his _Assemblies of Æsopic Fables_, which I have shown to be the\n",
      "source of Phædrus' Fables c. 30 A.D. Besides this, it came from\n",
      "Ceylon in the Fables of Kybises--_i.e._, Kasyapa the Buddha--c. 50\n",
      "A.D., was adapted into Hebrew, and used for political purposes, by\n",
      "Rabbi Joshua ben Chananyah in a harangue to the Jews c. 120 A.D.,\n",
      "begging them to be patient while within the jaws of Rome. The Hebrew\n",
      "form uses the lion, not the wolf, as the ingrate, which enables us\n",
      "to decide on the Indian _provenance_ of the Midrashic version. It may\n",
      "be remarked that the use of the lion in this and other Jatakas is indirectly a testimony to their great age, as the lion has become\n",
      "rarer and rarer in India during historic times, and is now confined\n",
      "to the Gir forest of Kathiáwar, where only a dozen specimens exist,\n",
      "and are strictly preserved.\n",
      "==================================================\n",
      "\n",
      "\n",
      "VII.    THE CRUEL CRANE OUTWITTED                    46\n",
      "\n",
      "VIII.   LOVING LAILI                                 51\n",
      "\n",
      "IX.     THE TIGER, THE BRAHMAN, AND THE JACKAL       66\n",
      "\n",
      "X.      THE SOOTHSAYER'S SON                         70\n",
      "\n",
      "XI.     HARISARMAN                                   85\n",
      "\n",
      "XII.    THE CHARMED RING                             90\n",
      "\n",
      "XIII.   THE TALKATIVE TORTOISE                      100\n",
      "\n",
      "XIV.    A LAC OF RUPEES FOR A PIECE OF ADVICE       103\n",
      "\n",
      "XV.     THE GOLD-GIVING SERPENT                     112\n",
      "\n",
      "XVI.    THE SON OF SEVEN QUEENS                     115\n",
      "\n",
      "XVII.   A LESSON FOR KINGS                          127\n",
      "\n",
      "XVIII.  PRIDE GOETH BEFORE A FALL                   132\n",
      "\n",
      "XIX.    RAJA RASALU                                 136\n",
      "\n",
      "XX.     THE ASS IN THE LION'S SKIN                  150\n",
      "\n",
      "XXI.    THE FARMER AND THE MONEY-LENDER             152\n",
      "\n",
      "XXII.   THE BOY WHO HAD A MOON ON HIS FOREHEAD\n",
      "            AND A STAR ON HIS CHIN                  156\n",
      "==================================================\n",
      "\n",
      "\n",
      "[Illustration: How Loving Laili became young again]\n",
      "\n",
      "There Prince Majnun told everything to his father, who was horrified\n",
      "and angry. \"How lucky for you that you have such a wife,\" he said.\n",
      "\"Why did you not do what she told you? But for her, you would be now\n",
      "dead.\" Then he made a great feast out of gratitude for his son's\n",
      "safety, and gave many, many rupees to the fakirs. And he made so much\n",
      "of Laili. He loved her dearly; he could not do enough for her. Then he\n",
      "built a splendid palace for her and his son, with a great deal of\n",
      "ground about it, and lovely gardens, and gave them great wealth, and\n",
      "heaps of servants to wait on them. But he would not allow any but\n",
      "their servants to enter their gardens and palace, and he would not\n",
      "allow Majnun to go out of them, nor Laili; \"for,\" said King Dantal,\n",
      "\"Laili is so beautiful, that perhaps some one may kill my son to take\n",
      "her away.\"\n",
      "\n",
      "\n",
      "\n",
      "\n",
      "The Tiger, the Brahman, and the Jackal\n",
      "\n",
      "[Illustration:]\n",
      "==================================================\n",
      "\n"
     ]
    }
   ],
   "source": [
    "# extract chunks which matches with your query\n",
    "\n",
    "search_results = vector_store.similarity_search_with_score(\n",
    "    \"What is the role of Lion in the story?\",\n",
    "    k = 10\n",
    ")\n",
    "\n",
    "doc_content = \"\\n\\n\".join(doc.page_content+\"\\n\"+\"=\"*50+\"\\n\" for (doc,score) in search_results)\n",
    "print(doc_content)"
   ]
  },
  {
   "cell_type": "code",
   "execution_count": 179,
   "id": "94122ba7",
   "metadata": {},
   "outputs": [
    {
     "data": {
      "text/markdown": [
       "The lion's role in the story is that of an ungrateful creature who is saved by a crane but later tries to eat the crane, only to be outwitted by it. The lion's conversation with the crane reveals its ungrateful nature, saying that it is a great honor for the crane to be alive despite being in its mouth. The lion's actions serve as a lesson on the importance of gratitude."
      ],
      "text/plain": [
       "<IPython.core.display.Markdown object>"
      ]
     },
     "execution_count": 179,
     "metadata": {},
     "output_type": "execute_result"
    }
   ],
   "source": [
    "prompt_template = \"\"\"You are an assistant for question-answering tasks. Use the following pieces of retrieved context to answer the question. If you don't know the answer, just say that you don't know. Use three sentences maximum and keep the answer concise.\n",
    "Question: {question} \n",
    "Context: {context} \n",
    "Answer:\"\"\"\n",
    "\n",
    "response = model.invoke(prompt_template.format(\n",
    "    context=doc_content,\n",
    "    question=\"What is the role of Lion in the story?\"))\n",
    "\n",
    "\n",
    "from IPython.display import Markdown\n",
    "Markdown(response.content)"
   ]
  },
  {
   "cell_type": "code",
   "execution_count": null,
   "id": "9053cdb8",
   "metadata": {},
   "outputs": [],
   "source": []
  }
 ],
 "metadata": {
  "kernelspec": {
   "display_name": "Python 3",
   "language": "python",
   "name": "python3"
  },
  "language_info": {
   "codemirror_mode": {
    "name": "ipython",
    "version": 3
   },
   "file_extension": ".py",
   "mimetype": "text/x-python",
   "name": "python",
   "nbconvert_exporter": "python",
   "pygments_lexer": "ipython3",
   "version": "3.11.13"
  }
 },
 "nbformat": 4,
 "nbformat_minor": 5
}
