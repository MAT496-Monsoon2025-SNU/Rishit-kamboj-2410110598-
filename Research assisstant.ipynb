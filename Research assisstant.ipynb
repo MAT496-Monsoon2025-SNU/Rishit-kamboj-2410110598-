{
 "cells": [
  {
   "cell_type": "markdown",
   "id": "45867d0a",
   "metadata": {},
   "source": [
    "## LLM as a Research Assisstant\n"
   ]
  },
  {
   "cell_type": "code",
   "execution_count": 30,
   "id": "9fa7ba87",
   "metadata": {},
   "outputs": [
    {
     "name": "stderr",
     "output_type": "stream",
     "text": [
      "python-dotenv could not parse statement starting at line 2\n"
     ]
    },
    {
     "data": {
      "text/plain": [
       "True"
      ]
     },
     "execution_count": 30,
     "metadata": {},
     "output_type": "execute_result"
    }
   ],
   "source": [
    "import os\n",
    "from dotenv import load_dotenv\n",
    "load_dotenv()"
   ]
  },
  {
   "cell_type": "code",
   "execution_count": 31,
   "id": "52900027",
   "metadata": {},
   "outputs": [
    {
     "data": {
      "text/plain": [
       "'!pip install pdfminer.six\\n!pip install \"unstructured[local-inference]\"==0.10.25  # or latest compatible with langchain\\n!pip install tesseract\\n!pip install poppler\\n\\n# LangChain and related dependencies\\n!pip install langchain langchain-community langchain-openai langchain-core langchain-text-splitters\\n\\n'"
      ]
     },
     "execution_count": 31,
     "metadata": {},
     "output_type": "execute_result"
    }
   ],
   "source": [
    "# Install core PDF and document processing dependencies\n",
    "\"\"\"!pip install pdfminer.six\n",
    "!pip install \"unstructured[local-inference]\"==0.10.25  # or latest compatible with langchain\n",
    "!pip install tesseract\n",
    "!pip install poppler\n",
    "\n",
    "# LangChain and related dependencies\n",
    "!pip install langchain langchain-community langchain-openai langchain-core langchain-text-splitters\n",
    "\n",
    "\"\"\"\n",
    "#pip install pdfminer\n",
    "#pip install pdfminer.six\n",
    "#!pip install \"unstructured[local-inference]\" pdfminer.six==20221105\n",
    "#pip install tesseract\n",
    "#pip install tesseract poppler"
   ]
  },
  {
   "cell_type": "code",
   "execution_count": 32,
   "id": "d2fe9474",
   "metadata": {},
   "outputs": [],
   "source": [
    "from langchain_community.document_loaders import UnstructuredPDFLoader\n",
    "\n",
    "file_path = \"mindset2.pdf\"\n",
    "loader = UnstructuredPDFLoader(file_path)\n",
    "docs = loader.load()"
   ]
  },
  {
   "cell_type": "code",
   "execution_count": 33,
   "id": "35ebfe97",
   "metadata": {},
   "outputs": [],
   "source": [
    "# Split document into small chunks\n",
    "from langchain_text_splitters import RecursiveCharacterTextSplitter\n",
    "\n",
    "text_splitter = RecursiveCharacterTextSplitter(\n",
    "    chunk_size=1000,  # chunk size (characters)\n",
    "    chunk_overlap=200,  # chunk overlap (characters)\n",
    "    add_start_index=True,  # track index in original document\n",
    ")\n",
    "all_splits = text_splitter.split_documents(docs)\n",
    "from langchain_google_genai import GoogleGenerativeAIEmbeddings\n",
    "embeddings = GoogleGenerativeAIEmbeddings(model=\"models/text-embedding-004\")\n",
    "\n",
    "from langchain_core.vectorstores import InMemoryVectorStore\n",
    "vector_store = InMemoryVectorStore(embeddings)\n",
    "\n",
    "document_ids = vector_store.add_documents(documents=all_splits)"
   ]
  },
  {
   "cell_type": "code",
   "execution_count": 34,
   "id": "d70fbd7a",
   "metadata": {},
   "outputs": [
    {
     "data": {
      "text/plain": [
       "[Document(metadata={'source': 'mindset2.pdf', 'start_index': 0}, page_content='OPEN ACCESS\\n\\nEDITED BY Yajun Zhao, Southwest Minzu University, China\\n\\nREVIEWED BY Jianchao Lai, University of California, Los Angeles, United States Xiaochun Zhou, China Youth University for Political Sciences, China\\n\\nCORRESPONDENCE Zhongfang Fu z.fu@pku.edu.cn\\n\\nRECEIVED 31 October 2024 ACCEPTED 20 January 2025 PUBLISHED 12 February 2025\\n\\nCITATION Fang Z and Fu Z (2025) Exploring the impact of growth mindset on psychological symptoms in students from ethnic regions of China: how meaning in life makes a difference. Front. Psychiatry 16:1520645. doi: 10.3389/fpsyt.2025.1520645'),\n",
       " Document(metadata={'source': 'mindset2.pdf', 'start_index': 583}, page_content='COPYRIGHT © 2025 Fang and Fu. This is an open-access article distributed under the terms of the Creative Commons Attribution License (CC BY). The use, distribution or reproduction in other forums is permitted, provided the original author(s) and the copyright owner(s) are credited and that the original publication in this journal is cited, in accordance with accepted academic practice. No use, distribution or reproduction is permitted which does not comply with these terms.\\n\\nFrontiers in Psychiatry\\n\\nTYPE Original Research PUBLISHED 12 February 2025 DOI 10.3389/fpsyt.2025.1520645\\n\\nExploring the impact of growth mindset on psychological symptoms in students from ethnic regions of China: how meaning in life makes a difference\\n\\nZuozhi Fang and Zhongfang Fu*\\n\\nSchool of Psychological and Cognitive Sciences, Beijing Key Laboratory of Behavior and Mental Health, Key Laboratory of Machine Perception (Ministry of Education), Peking University, Beijing, China'),\n",
       " Document(metadata={'source': 'mindset2.pdf', 'start_index': 1348}, page_content='School of Psychological and Cognitive Sciences, Beijing Key Laboratory of Behavior and Mental Health, Key Laboratory of Machine Perception (Ministry of Education), Peking University, Beijing, China\\n\\nIntroduction: Drawing on implicit belief theory, this study examines the relationship between growth mindset and psychological symptoms in adolescents from ethnic minority regions in China, with a focus on the mediating role of meaning in life. Understanding this mechanism can provide insights into protective factors that support adolescent mental health.'),\n",
       " Document(metadata={'source': 'mindset2.pdf', 'start_index': 1906}, page_content='Methods: Study 1 employed a cross-sectional mediation model with 1,184 middle school students from Yunnan and Guangxi, using the Growth Mindset Scale, Meaning in Life Questionnaire, and Brief Symptom Inventory. Study 2 adopted a longitudinal mediation model, tracking 618 students over eight months. Multiple regression and structural equation modeling were used to assess direct and indirect effects, controlling for socioeconomic status and age.\\n\\nResults: Growth mindset was positively associated with meaning in life and negatively associated with psychological symptoms, including depression, anxiety, interpersonal sensitivity, and hostility. Longitudinal ﬁndings conﬁrmed that growth mindset at T1 predicted lower psychological symptoms at T2, with meaning in life serving as a partial mediator. The mediation effects accounted for 21.55% to 43.33% of the total effect across different symptoms, indicating a cumulative impact over time.'),\n",
       " Document(metadata={'source': 'mindset2.pdf', 'start_index': 2851}, page_content='Discussion: These ﬁndings highlight the protective role of growth mindset and the importance of meaning in life in adolescent mental health. The consistency of the mediation effect across cross-sectional and longitudinal models suggests that interventions promoting growth mindset and meaning-building strategies could have sustained mental health beneﬁts. These insights have practical implications for school-based programs aimed at fostering resilience and psychological well-being in adolescents.\\n\\nKEYWORDS\\n\\ngrowth mindset, meaning in life, mental health, ethnic regions, disadvantaged adolescents\\n\\n01\\n\\nfrontiersin.org\\n\\nFang and Fu\\n\\n1 Introduction'),\n",
       " Document(metadata={'source': 'mindset2.pdf', 'start_index': 3504}, page_content='Adolescents worldwide are increasingly affected by mental health issues, with an estimated 13.4% experiencing signiﬁcant difﬁculties (1). Emotional disorders, such as depression and anxiety, are particularly widespread (2), especially in low- and middle-income countries (3). The situation in China mirrors this global trend, as the prevalence of mental disorders has risen steadily over the past 30 years (4). Mental health challenges in China’s ethnic minority regions, in particular, warrant special attention due to their unique socio-cultural contexts. For instance, research has shown that psychological abuse and neglect are more prevalent among girls in ethnic minority regions than in Han regions, contributing to long-term negative mental health outcomes (5). Additionally, ethnic minority students often face difﬁculties in psychological adjustment and identity development, inﬂuenced by factors such as cultural assimilation pressures and socio-economic disparities, which are associated'),\n",
       " Document(metadata={'source': 'mindset2.pdf', 'start_index': 4304}, page_content='students often face difﬁculties in psychological adjustment and identity development, inﬂuenced by factors such as cultural assimilation pressures and socio-economic disparities, which are associated with increased school dropout rates (6). Ethnic minority university students also report heightened levels of psychological stress, including anxiety and depression (7). Existing studies largely attribute these issues to socio-economic challenges, cultural assimilation pressures, and limited access to mental health resources. However, these explanations often focus on external barriers and overlook internal psychological factors, such as individuals’ beliefs and coping mechanisms. For example, growth mindset, which emphasizes the potential for change and personal improvement, may serve as a protective factor, fostering resilience and reducing the impact of stress (8). Furthermore, the role of meaning in life—a key determinant of Psychological symptoms—has been insufﬁciently explored in'),\n",
       " Document(metadata={'source': 'mindset2.pdf', 'start_index': 5102}, page_content='protective factor, fostering resilience and reducing the impact of stress (8). Furthermore, the role of meaning in life—a key determinant of Psychological symptoms—has been insufﬁciently explored in this context. In a study conducted in Yunnan, Guizhou, and Guangxi, the detection rates for mild and moderate psychological problems among middle school students were 57.4% and 9.4%, respectively, with severe psychological problems detected in 0.2% of cases (9). These ﬁndings underscore the urgent need to investigate mental health issues in ethnic minority regions of China from both socio-cultural and psychological perspectives, focusing on mechanisms such as growth mindset and meaning in life.'),\n",
       " Document(metadata={'source': 'mindset2.pdf', 'start_index': 5802}, page_content='According to Dweck (10), a growth mindset is the belief that one’s abilities and intelligence can be developed through dedication, hard work, and the embrace of challenges, productive feedback, and the success of others. Growth Mindset is an implicit belief, individuals with a growth mindset believe they can improve their own qualities and adapt to their surroundings. In contrast, a ﬁxed mindset assumes that traits like intelligence, personality, and even moral values are ﬁxed and unchangeable (10). Existing research highlights that a growth mindset can mitigate mental health problems, whereas a ﬁxed mindset is linked to a greater risk of such issues (11, 12). Studies also suggest that a growth mindset not only helps reduce mental health problems but also fosters a positive “system of meaning” that shapes individuals’ interpretations of challenges and behaviors (13–16). Importantly, research has shown that a growth mindset can positively predict meaning in life (17), suggesting that'),\n",
       " Document(metadata={'source': 'mindset2.pdf', 'start_index': 6607}, page_content='that shapes individuals’ interpretations of challenges and behaviors (13–16). Importantly, research has shown that a growth mindset can positively predict meaning in life (17), suggesting that individuals with a growth mindset are better equipped to derive meaning from stressful situations by reevaluating their self-worth and life goals. Thus, the'),\n",
       " Document(metadata={'source': 'mindset2.pdf', 'start_index': 6958}, page_content='Frontiers in Psychiatry\\n\\n02\\n\\n10.3389/fpsyt.2025.1520645\\n\\nconnection between growth mindset and mental health may be mediated by a stronger sense of meaning in life. This theoretical framework provides a basis for exploring the mediating role of meaning in life in the relationship between growth mindset and mental health.\\n\\n1.1 The relationship between growth mindset and psychological symptoms'),\n",
       " Document(metadata={'source': 'mindset2.pdf', 'start_index': 7282}, page_content='1.1 The relationship between growth mindset and psychological symptoms\\n\\nAccording to Dweck’s implicit belief theory (15), individuals can hold either a growth mindset or a ﬁxed mindset. A growth mindset encourages healthy and adaptive responses to anxiety, frustration, and disappointment, fostering greater resilience and persistence in the face of challenges (18). This resilience stems from the use of effort-based strategies when pursuing goals (19). Individuals with a growth mindset are often less stressed and report fewer psychological symptoms. For instance, adolescents facing family stress may experience reduced externalizing problems when equipped with a growth mindset (20).'),\n",
       " Document(metadata={'source': 'mindset2.pdf', 'start_index': 7972}, page_content='In contrast, a ﬁxed mindset has been shown to predict higher self- reported stress levels (21), increased anxiety following rejection, and greater psychosocial stress and mental health issues (22, 23). This is particularly relevant when exploring its role in adolescent mental health. A meta-analysis found that adolescents with stronger ﬁxed mindsets exhibited more emotional and behavioral problems, an association consistent across variables such as gender, age, and methodological factors (22). Furthermore, longitudinal research revealed that a stronger ﬁxed mindset in early adolescence predicted more severe mental health problems (both internalizing and externalizing) over a six-month period (24). Based on this, we propose Hypothesis 1: A growth mindset is negatively associated with psychological symptoms.\\n\\n1.2 The mediating role of meaning in life'),\n",
       " Document(metadata={'source': 'mindset2.pdf', 'start_index': 8791}, page_content='1.2 The mediating role of meaning in life\\n\\nSteger’s dual-dimension model of meaning in life could provide valuable insights into understanding the association between growth mindset and mental health. Meaning in life refers to an individual’s perception of purpose, mission, and overarching goals in life (25). In this model, two primary dimensions (i.e., presence of meaning, search for meaning) were addressed. The presence of meaning refers to having clear life goals and direction. Individuals with a growth mindset are often more inclined to pursue personal growth and realize their potential, contributing to a heightened sense of purpose. This sense of purpose further contributes to their presence of meaning. This process also aligns closely with the second dimension of meaning in life (i.e., search for meaning). With a growth-oriented mindset, individuals continuously adjust their understanding of meaning and explore new direction and values, which ultimately enrich their lives.'),\n",
       " Document(metadata={'source': 'mindset2.pdf', 'start_index': 9786}, page_content='Among middle school students, those with a growth mindset have been found to engage in more positive evaluations of life, which in turn enhances their sense of meaning (17). Evidence from\\n\\nfrontiersin.org\\n\\nFang and Fu\\n\\norganizational psychology further supports these ﬁndings, demonstrating similar effects in adult populations (26). Thus, individuals who hold a growth mindset, and believe in the continuous development of their abilities, are more likely to view life’s challenges as opportunities for growth. This positive outlook encourages adaptive coping strategies, which may strengthen their sense of meaning in life (27, 28).'),\n",
       " Document(metadata={'source': 'mindset2.pdf', 'start_index': 10422}, page_content='On the other hand, meaning in life is widely recognized as a critical contributor to psychological symptoms. The sense of purpose, mission, and coherence can serve as a psychological anchor during challenging times. Research demonstrated that individuals who perceive their lives as meaningful report higher levels of positive affect and psychological symptoms (29, 30). Therefore, our second hypothesis is that meaning in life could act as a mediator between growth mindset and psychological symptoms.'),\n",
       " Document(metadata={'source': 'mindset2.pdf', 'start_index': 10926}, page_content='Adolescents are facing an important developmental task in which they begin to shape their psychological and social identity. During this stage, the complex questions about their purposes, values, and positions in this world could spur a natural drive to seek meaning. To facilitate this meaning-searching process among adolescents is essential for their positive development and long-term mental health. Therefore, to elucidate the path that whether growth mindset could foster meaning in life becomes crucial for potential intervention.'),\n",
       " Document(metadata={'source': 'mindset2.pdf', 'start_index': 11465}, page_content='Although previous research has established independent associations among growth mindset, meaning in life, and psychological symptoms, the exact pathways remain insufﬁciently clariﬁed. Driven by these concerns, the current study aimed to examine the relationships among these three constructs as mediation model in both cross-sectional and longitudinal datasets to cross-validate the mediation model below (see Figure 1) and provides a comprehensive examination of the mechanisms linking growth mindset and mental health.'),\n",
       " Document(metadata={'source': 'mindset2.pdf', 'start_index': 11988}, page_content='Study 1 conducted an initial exploration of the proposed relationships using cross-sectional data, which enabled us to pinpoint signiﬁcant associations and establish a foundational framework for the mediation model. This initial evidence in which informed the design and interpretation of Study 2, longitudinal data were employed to examine the temporal dynamics of the model. Essentially, the ﬁndings from Study 1 provided preliminary validation of the theoretical connections, ensuring that the subsequent longitudinal study was built on empirically supported associations.\\n\\nFIGURE 1 The theoretical model diagram of the relationship between growth mindset and psychological symptoms.\\n\\nFrontiers in Psychiatry\\n\\n03\\n\\n10.3389/fpsyt.2025.1520645\\n\\n2 Study 1: the concurrent relationship between growth mindset and psychological symptoms with meaning in life as mediator\\n\\n2.1 Participants and procedures'),\n",
       " Document(metadata={'source': 'mindset2.pdf', 'start_index': 12889}, page_content='A convenience sampling approach was employed to collect data from middle school students at three schools in Yunnan and Guangxi. In this study, 60.56% of the participants identiﬁed as ethnic minorities. Inclusion Criteria: Participants were full-time students enrolled in the selected middle schools located in ethnic regions and received approval from the school authorities to participate. All participants demonstrated sufﬁcient language proﬁciency to understand and complete the questionnaires. Exclusion Criteria: Students who were absent or unwilling to participate at the time of data collection, and those with incomplete or invalid responses were excluded. Additionally, participants exhibiting severe cognitive or communication difﬁculties that hindered their understanding of the survey materials were not included. A total of 1,200 questionnaires were distributed, and 1,184 valid responses were returned, resulting in a high response rate of 98.67%. The sample comprised 616 males'),\n",
       " Document(metadata={'source': 'mindset2.pdf', 'start_index': 13687}, page_content='materials were not included. A total of 1,200 questionnaires were distributed, and 1,184 valid responses were returned, resulting in a high response rate of 98.67%. The sample comprised 616 males (52.5%) and 556 females (47.4%), with 9 missing cases (0.1%). In terms of residential background, 553 students were from urban areas (46.7%) and 612 from rural areas (51.7%), with 18 missing cases (1.6%). Ethnically, 454 students identiﬁed as Han (38.34%) and 717 as ethnic minorities (60.56%), with 12 missing cases (1.1%). The participants’ mean age was 16.26 years (SD = 0.90).'),\n",
       " Document(metadata={'source': 'mindset2.pdf', 'start_index': 14265}, page_content='This study was conducted in accordance with the ethical standards outlined in the Declaration of Helsinki and was approved by the Institutional Review Board (IRB) of Guangxi Normal University. Prior to participation, all participants were provided with a comprehensive description of the study’ s purpose, procedures, and potential risks. Informed consent was obtained from all participants, who were assured of their right to withdraw at any time without penalty and the conﬁdentiality of their responses. Data collected was anonymized and stored securely to protect participant privacy.\\n\\n2.2 Measures\\n\\n2.2.1 Growth mindset scale'),\n",
       " Document(metadata={'source': 'mindset2.pdf', 'start_index': 14855}, page_content='2.2 Measures\\n\\n2.2.1 Growth mindset scale\\n\\nThe Growth Mindset Scale developed by Blackwell et al. (31) was used in this study. The scale includes six items, such as “Your intelligence is something about you that you can’t change,” rated on a 6-point Likert scale (1 = “Strongly disagree” to 6 = “Strongly agree”). Three of the items are reverse scored. A higher overall average score indicates a higher level of growth mindset. In this study, the scale demonstrated good internal consistency, with a Cronbach’s alpha of 0.869.\\n\\n2.2.2 Meaning in life questionnaire\\n\\nThe Chinese version of the Meaning in Life Questionnaire (MLQ), developed by Steger et al. (25) and revised by Wang and\\n\\nfrontiersin.org\\n\\nFang and Fu\\n\\n10.3389/fpsyt.2025.1520645'),\n",
       " Document(metadata={'source': 'mindset2.pdf', 'start_index': 15419}, page_content=\"The Chinese version of the Meaning in Life Questionnaire (MLQ), developed by Steger et al. (25) and revised by Wang and\\n\\nfrontiersin.org\\n\\nFang and Fu\\n\\n10.3389/fpsyt.2025.1520645\\n\\nDai (32), was used to assess participants’ sense of meaning in life. The scale consists of two dimensions: Presence of Meaning (e.g., “I have found a satisfying purpose in life”) and Search for Meaning (e.g., “I am seeking meaning in my life”). It includes 10 items, scored on a 7- point scale (1 = “Strongly disagree” to 7 = “Strongly agree”), with item 9 reverse scored. Higher average scores reﬂect a stronger sense of meaning in life. Previous research has conﬁrmed the scale’s reliability and validity among middle school students (33). In the current study, the Cronbach’s alpha for the MLQ was 0.844.\\n\\nHigher scores reﬂect a higher perceived socioeconomic status, while lower scores indicate a lower subjective SES. The scale demonstrated acceptable reliability in this study (Cronbach's alpha = 0.720).\"),\n",
       " Document(metadata={'source': 'mindset2.pdf', 'start_index': 16410}, page_content=\"2.3 Data Processing and Analysis\\n\\n2.2.3 Psychological symptoms\\n\\nPsychological symptoms were measured using four subscales from the Brief Symptom Inventory (BSI) (34): Depression, Anxiety, Interpersonal Sensitivity, and Hostility, with a total of 21 items. Responses were rated on a 5-point scale (0 to 4). In this study, the overall internal consistency for psychological symptoms was excellent, with a Cronbach’s alpha of 0.939. The Cronbach's alphas of the subscales were also adequate: Depression (a = 0.827), Anxiety (a = 0.872), Interpersonal Sensitivity (a = 0.763), and Hostility (a = 0.773).\\n\\n2.2.4 Socioeconomic status\\n\\nSocioeconomic status (SES) was assessed using the MacArthur Ladder Scale (35), in which participants rate their perceived social standing on a 1–10 scale, where 1 indicates the lowest position and 10 indicates the highest. This scale measures subjective perceptions of income, educational attainment, and occupational prestige.\"),\n",
       " Document(metadata={'source': 'mindset2.pdf', 'start_index': 17368}, page_content='Data preprocessing, descriptive statistics, and correlation analyses were performed using SPSS 27.0. Multiple regression analyses were conducted using SPSS, and the standard errors and 95% conﬁdence intervals for the indirect effects were computed.\\n\\n2.4 Results\\n\\n2.4.1 Common method bias test\\n\\nSince all data were collected via self-report questionnaires, common method bias was a potential concern. To mitigate this, we emphasized anonymity during data collection, reverse-scored some items, and used validated scales with high reliability. Post hoc analysis using Harman’s single-factor test revealed eight factors with eigenvalues greater than 1, with the ﬁrst factor accounting for 26.02% of the variance, which is well below the 40% threshold. These results suggest that common method bias is not a signiﬁcant concern in this study.\\n\\nTABLE 1 Descriptive statistics and correlations among the research variables (n = 1184).\\n\\nVariable\\n\\n1\\n\\n2\\n\\n3\\n\\n4\\n\\n5\\n\\n6\\n\\n7\\n\\n8\\n\\n9\\n\\n10\\n\\n11\\n\\n12\\n\\n13\\n\\n1. Age\\n\\n—'),\n",
       " Document(metadata={'source': 'mindset2.pdf', 'start_index': 18207}, page_content='TABLE 1 Descriptive statistics and correlations among the research variables (n = 1184).\\n\\nVariable\\n\\n1\\n\\n2\\n\\n3\\n\\n4\\n\\n5\\n\\n6\\n\\n7\\n\\n8\\n\\n9\\n\\n10\\n\\n11\\n\\n12\\n\\n13\\n\\n1. Age\\n\\n—\\n\\n2. Gender\\n\\n—\\n\\n—\\n\\n3. Family location\\n\\n—\\n\\n—\\n\\n—\\n\\n4. Ethnic minority\\n\\n—\\n\\n—\\n\\n—\\n\\n—\\n\\n5. SES (individual)\\n\\n—\\n\\n—\\n\\n—\\n\\n—\\n\\n—\\n\\n6. SES (family)\\n\\n—\\n\\n—\\n\\n—\\n\\n—\\n\\n—\\n\\n—\\n\\n7. Growth Mindset\\n\\n0.22***\\n\\n0.04\\n\\n0.10**\\n\\n0.19***\\n\\n0.12*\\n\\n0.12*\\n\\n—\\n\\n8. Meaning in Life\\n\\n0.17***\\n\\n0.01\\n\\n0.09**\\n\\n0.09**\\n\\n0.17**\\n\\n0.17*\\n\\n0.14***\\n\\n—\\n\\n9. Psychological Symptoms\\n\\n0.05\\n\\n0.01\\n\\n0.02\\n\\n0.04\\n\\n0.24***\\n\\n0.22***\\n\\n0.10**\\n\\n0.28*** —\\n\\n10. Depression\\n\\n0.07*\\n\\n0.01\\n\\n0.03\\n\\n0.04\\n\\n0.25***\\n\\n0.22***\\n\\n0.11***\\n\\n0.30***\\n\\n0.92***\\n\\n—\\n\\n11. Anxiety\\n\\n0.01\\n\\n0.01\\n\\n0.02\\n\\n0.02\\n\\n0.21***\\n\\n0.18***\\n\\n0.08**\\n\\n0.24***\\n\\n0.91***\\n\\n0.80***\\n\\n—\\n\\n12. Interpersonal Sensitivity Interpersonal Sensitivity\\n\\n0.05\\n\\n0.01\\n\\n0.03\\n\\n0.04\\n\\n0.22***\\n\\n0.20***\\n\\n0.09**\\n\\n0.24***\\n\\n0.89***\\n\\n0.77***\\n\\n0.74***\\n\\n—\\n\\n13. Hostility\\n\\n0.05\\n\\n0.02\\n\\n0.02\\n\\n0.05\\n\\n0.14**\\n\\n0.14**\\n\\n0.09**\\n\\n0.22***\\n\\n0.84***\\n\\n0.69***\\n\\n0.70***\\n\\n0.69***\\n\\n—\\n\\nM\\n\\n16.26\\n\\n—\\n\\n—\\n\\n—'),\n",
       " Document(metadata={'source': 'mindset2.pdf', 'start_index': 19007}, page_content='0.22***\\n\\n0.20***\\n\\n0.09**\\n\\n0.24***\\n\\n0.89***\\n\\n0.77***\\n\\n0.74***\\n\\n—\\n\\n13. Hostility\\n\\n0.05\\n\\n0.02\\n\\n0.02\\n\\n0.05\\n\\n0.14**\\n\\n0.14**\\n\\n0.09**\\n\\n0.22***\\n\\n0.84***\\n\\n0.69***\\n\\n0.70***\\n\\n0.69***\\n\\n—\\n\\nM\\n\\n16.26\\n\\n—\\n\\n—\\n\\n—\\n\\n4.92\\n\\n5.67\\n\\n3.56\\n\\n4.71\\n\\n1.01\\n\\n0.93\\n\\n0.96\\n\\n1.15\\n\\n1.06\\n\\nSD\\n\\n0.90\\n\\n—\\n\\n—\\n\\n—\\n\\n1.94\\n\\n1.54\\n\\n1.15\\n\\n1.07\\n\\n0.80\\n\\n0.85\\n\\n0.91\\n\\n0.88\\n\\n0.98\\n\\nScore Range\\n\\n—\\n\\n—\\n\\n—\\n\\n—\\n\\n—\\n\\n—\\n\\n1 - 6\\n\\n1 - 7\\n\\n0 - 4\\n\\n0 - 4\\n\\n0 - 4\\n\\n0 - 4\\n\\n0 - 4\\n\\np < 0.05, **p < 0.01,***p < 0.001. Categorical variables are dummy coded: Gender (Male = 1, Female = 0); Family location (Urban = 0, Rural = 1); Ethnic minority (Yes = 1, No = 0).\\n\\nFrontiers in Psychiatry\\n\\n04\\n\\nfrontiersin.org\\n\\nFang and Fu\\n\\n2.4.2 Descriptive statistics and correlation analysis'),\n",
       " Document(metadata={'source': 'mindset2.pdf', 'start_index': 19636}, page_content='Fang and Fu\\n\\n2.4.2 Descriptive statistics and correlation analysis\\n\\nAs presented in Table 1, growth mindset was positively correlated with meaning in life (p < 0.001) and negatively correlated with psychological symptoms (p< 0.001), including depression, anxiety, interpersonal sensitivity, and hostility. Meaning in life was also negatively correlated with depression, anxiety, interpersonal sensitivity, and hostility (p< 0.001). Since socioeconomic status was signiﬁcantly correlated with the key variables (p< 0.001), it was controlled in subsequent analyses. It is worth noting that the non-signiﬁcant correlation between ethnic minority status and psychological symptoms, may be due to the multifaceted nature of mental health, with psychological symptoms representing only one dimension. Additionally, ethnic minority adolescents face unique mental health risks, and the tools used may not fully capture culturally speciﬁc expressions of distress or unique psychological challenges.'),\n",
       " Document(metadata={'source': 'mindset2.pdf', 'start_index': 20627}, page_content='2.4.3 The mediating role of meaning in life\\n\\nUsing Model 4 from the Process 4.1 macro, we tested the mediating effect of meaning in life on the relationship between growth mindset and psychological symptoms. All variables were standardized before analysis, age and socioeconomic status (SES) were controlled as demographic variables. Growth mindset was entered as the independent variable, meaning in life as the mediator, and psychological symptoms and their subdimensions as the dependent variables (see Table 2).\\n\\nIn this cross-sectional dataset, we explored how growth mindset predicts psychological symptoms, with meaning in life as a mediator. Using the Bootstrap method, we calculated the standard errors and 95% conﬁdence intervals of the indirect effects. The results revealed that growth mindset signiﬁcantly predicted psychological symptoms,\\n\\nTABLE 2 The mediation effects from growth mindset to psychological symptoms (total scale and four subscales) in cross-sectional dataset.\\n\\nPath'),\n",
       " Document(metadata={'source': 'mindset2.pdf', 'start_index': 21481}, page_content='TABLE 2 The mediation effects from growth mindset to psychological symptoms (total scale and four subscales) in cross-sectional dataset.\\n\\nPath\\n\\nb\\n\\nSE\\n\\nt\\n\\np\\n\\n95%Cl\\n\\nModel 1 (Overall psychological symptoms)\\n\\na path\\n\\n0.13\\n\\n0.03\\n\\n5.01\\n\\n<0.001\\n\\n[0.081,0.186]\\n\\nb path\\n\\n0.21\\n\\n0.02\\n\\n9.61\\n\\n<0.001\\n\\n[-0.240,- 0.157]\\n\\nDirect effect (c’)\\n\\n0.04\\n\\n0.02\\n\\n2.18\\n\\n0.029\\n\\n[-0.081,- 0.004]\\n\\nTotal effect (c)\\n\\n0.07\\n\\n0.02\\n\\n3.48\\n\\n<0.001\\n\\n[-0.109,- 0.031]\\n\\nIndirect effect\\n\\n0.03\\n\\n0.01\\n\\n——\\n\\n——\\n\\n[-0.041,- 0.014]\\n\\nModel 2 (Depression)\\n\\na path\\n\\n0.13\\n\\n0.03\\n\\n5.01\\n\\n<0.001\\n\\n[0.081,0.186]\\n\\nb path\\n\\n0.23\\n\\n0.02\\n\\n10.49\\n\\n<0.001\\n\\n[-0.277,- 0.189]\\n\\nDirect effect (c’)\\n\\n0.05\\n\\n0.02\\n\\n2.55\\n\\n0.010\\n\\n[-0.093,- 0.012]\\n\\n(Continued)\\n\\nFrontiers in Psychiatry\\n\\n05\\n\\n10.3389/fpsyt.2025.1520645\\n\\nTABLE 2 Continued\\n\\nPath\\n\\nb\\n\\nSE\\n\\nt\\n\\np\\n\\n95%Cl\\n\\nModel 2 (Depression)\\n\\nTotal effect (c)\\n\\n0.08\\n\\n0.02\\n\\n3.93\\n\\n<0.001\\n\\n[-0.126,- 0.042]\\n\\nIndirect effect\\n\\n0.03\\n\\n0.07\\n\\n——\\n\\n——\\n\\n[-0.043,- 0.016]\\n\\nModel 3 (Anxiety)\\n\\na path\\n\\n0.13\\n\\n0.03\\n\\n5.01\\n\\n<0.001\\n\\n[0.081,0.186]'),\n",
       " Document(metadata={'source': 'mindset2.pdf', 'start_index': 22292}, page_content='Total effect (c)\\n\\n0.08\\n\\n0.02\\n\\n3.93\\n\\n<0.001\\n\\n[-0.126,- 0.042]\\n\\nIndirect effect\\n\\n0.03\\n\\n0.07\\n\\n——\\n\\n——\\n\\n[-0.043,- 0.016]\\n\\nModel 3 (Anxiety)\\n\\na path\\n\\n0.13\\n\\n0.03\\n\\n5.01\\n\\n<0.001\\n\\n[0.081,0.186]\\n\\nb path\\n\\n0.20\\n\\n0.02\\n\\n8.05\\n\\n<0.001\\n\\n[-0.244,- 0.148]\\n\\nDirect effect (c’)\\n\\n0.03\\n\\n0.02\\n\\n1.52\\n\\n0.1297\\n\\n[-0.079,0.010]\\n\\nTotal effect (c)\\n\\n0.06\\n\\n0.02\\n\\n2.64\\n\\n0.009\\n\\n[-0.105,- 0.015]\\n\\nIndirect effect\\n\\n0.03\\n\\n0.01\\n\\n——\\n\\n——\\n\\n[-0.039,- 0.013]\\n\\nModel 4 (Interpersonal Sensitivity)\\n\\na path\\n\\n0.13\\n\\n0.03\\n\\n5.01\\n\\n<0.001\\n\\n[0.081,0.196]\\n\\nb path\\n\\n0.19\\n\\n0.02\\n\\n8.04\\n\\n<0.001\\n\\n[-0.235,- 0.143]\\n\\nDirect effect (c’)\\n\\n0.04\\n\\n0.02\\n\\n1.99\\n\\n0.047\\n\\n[-0.086,- 0.001]\\n\\nTotal effect (c)\\n\\n0.07\\n\\n0.02\\n\\n3.10\\n\\n0.002\\n\\n[-0.112,- 0.025]\\n\\nIndirect effect\\n\\n0.02\\n\\n0.01\\n\\n——\\n\\n——\\n\\n[-0.037,- 0.012]\\n\\nModel 5 (Hostility)\\n\\na path\\n\\n0.13\\n\\n0.03\\n\\n5.01\\n\\n<0.001\\n\\n[0.081,0.186]\\n\\nb path\\n\\n0.20\\n\\n0.03\\n\\n7.49\\n\\n<0.001\\n\\n[-0.248,- 0.145]\\n\\nDirect effect (c’)\\n\\n0.05\\n\\n0.02\\n\\n2.07\\n\\n0.034\\n\\n[-0.098,- 0.003]\\n\\nTotal effect (c)\\n\\n0.08\\n\\n0.02\\n\\n3.11\\n\\n0.002\\n\\n[-0.125,- 0.028]\\n\\nIndirect effect'),\n",
       " Document(metadata={'source': 'mindset2.pdf', 'start_index': 23094}, page_content='b path\\n\\n0.20\\n\\n0.03\\n\\n7.49\\n\\n<0.001\\n\\n[-0.248,- 0.145]\\n\\nDirect effect (c’)\\n\\n0.05\\n\\n0.02\\n\\n2.07\\n\\n0.034\\n\\n[-0.098,- 0.003]\\n\\nTotal effect (c)\\n\\n0.08\\n\\n0.02\\n\\n3.11\\n\\n0.002\\n\\n[-0.125,- 0.028]\\n\\nIndirect effect\\n\\n0.03\\n\\n0.007\\n\\n——\\n\\n——\\n\\n[-0.040,- 0.012]\\n\\nFIGURE 2 The path analysis of mediation effects from growth mindset to psychological symptoms in the cross-sectional dataset. * denotes statistical signiﬁcance at the 0.05 level and *** denotes statistical signiﬁcance at the 0.001 level.\\n\\nfrontiersin.org\\n\\nFang and Fu'),\n",
       " Document(metadata={'source': 'mindset2.pdf', 'start_index': 23565}, page_content='frontiersin.org\\n\\nFang and Fu\\n\\nboth directly and indirectly through meaning in life. Speciﬁcally, growth mindset was a signiﬁcant predictor of meaning in life (b= 0.13, t = 5.01, p< 0.001), which in turn predicted lower psychological symptoms (b= -0.21, t= -9.61, p< 0.001). The direct effect of growth mindset on psychological symptoms was signiﬁcant (b= -0.07, t = -3.48, p< 0.001), but weakened after accounting for meaning in life (b = -0.04, t = -2.18, p = 0.029), indicating partial mediation. The indirect effect (b= -0.03, 95% CI [-0.036, -0.013]) accounted for 37.14% of the total effect, supporting the study’s hypothesis (see Figure 2).'),\n",
       " Document(metadata={'source': 'mindset2.pdf', 'start_index': 24213}, page_content='Further we replicated this analysis using depression, anxiety, interpersonal sensitivity, and hostility as outcome separately. In the depression model, the indirect effect of growth mindset through meaning in life was signiﬁcant (b= -0.03, 95% CI [-0.047, -0.017]), representing 37.38% of the total effect. In the anxiety model, growth mindset’s direct effect was not signiﬁcant (b = -0.03, p = 0.13), indicating full mediation, with an indirect effect of b= -0.03, 95% CI [-0.041, -0.014], accounting for 43.33% of the total effect. In the interpersonal sensitivity and hostility models, the indirect effects were b = -0.03, 95% CI[-0.040, -0.015] and b= -0.03, 95% CI[-0.040, -0.014], accounting for 35.29% and 32.50% of the total effect, respectively. These ﬁndings suggest that meaning in life signiﬁcantly mediates the relationship between growth mindset and various psychological symptoms (see Table 2).'),\n",
       " Document(metadata={'source': 'mindset2.pdf', 'start_index': 25124}, page_content='The results of Study 1 indicate that growth mindset is signiﬁcantly associated with both meaning in life and psychological symptoms, with meaning in life serving as a mediator in this relationship. These ﬁndings provide preliminary support for Hypotheses 1 and 2. However, due to the cross-sectional nature of this study, causal inferences are limited. To strengthen causal interpretations, Study 2 will employ a longitudinal design, enabling a more robust examination of these hypotheses.\\n\\n3 Study 2: the temporal sequence of effects from growth mindset on psychological symptoms\\n\\n3.1 Participants and procedures'),\n",
       " Document(metadata={'source': 'mindset2.pdf', 'start_index': 25739}, page_content='A cluster sampling method was used to recruit 620 students from four middle schools in Guangxi and Yunnan for this study. Data were collected at two time points, with an eight-month interval between measurements. Our sample reﬂects the regional diversity, with 41.2% of participants identifying as ethnic minorities. Inclusion Criteria: Participants were full-time students enrolled in the selected middle schools located in ethnic regions and received approval from the school authorities to participate. All participants demonstrated sufﬁcient language proﬁciency to understand and complete the questionnaires. Exclusion Criteria: Students who were absent or unwilling to participate at the time of data collection, and those with incomplete or invalid responses were excluded. Additionally, participants exhibiting severe cognitive or communication difﬁculties that hindered their understanding of the survey materials were not included. To minimize familiarity bias from repeated testing, the'),\n",
       " Document(metadata={'source': 'mindset2.pdf', 'start_index': 26546}, page_content='exhibiting severe cognitive or communication difﬁculties that hindered their understanding of the survey materials were not included. To minimize familiarity bias from repeated testing, the order of the scales was randomized at each administration. The ﬁrst round of data'),\n",
       " Document(metadata={'source': 'mindset2.pdf', 'start_index': 26819}, page_content='Frontiers in Psychiatry\\n\\n06\\n\\n10.3389/fpsyt.2025.1520645\\n\\ncollection took place in March 2023 (T1). After removing invalid questionnaires and handling missing data, 618 valid responses were retained, consisting of 310 males and 308 females. The second round was conducted in December 2023 (T2), during which 30 participants were lost due to reasons such as illness or transferring schools, resulting in an attrition rate of 4.9%. Ultimately, 588 participants completed both assessments, with an average age of 12.73 ± 0.82 years. Among them, 277 were male (47.2%), 295 were female (50.3%), and 16 did not report their gender (2.7%). In terms of family structure, 146 participants (24.9%) were only children, 427 (72.7%) were non-only children, and 14 (2.4%) did not report their family structure. Additionally, 242 participants (41.2%) identiﬁed as ethnic minorities, 328 (55.9%) were non-minorities, and 17 (2.9%) did not report their ethnicity.'),\n",
       " Document(metadata={'source': 'mindset2.pdf', 'start_index': 27766}, page_content='This study was conducted in accordance with the ethical standards outlined in the Declaration of Helsinki and was approved by the Institutional Review Board (IRB) of Guangxi Normal University. Prior to participation, all participants were provided with a comprehensive description of the study’s purpose, procedures, and potential risks. Informed consent was obtained from all participants, who were assured of their right to withdraw at any time without penalty and the conﬁdentiality of their responses. Data collected was anonymized and stored securely to protect participant privacy.\\n\\n3.2 Measures\\n\\n3.2.1 Growth mindset'),\n",
       " Document(metadata={'source': 'mindset2.pdf', 'start_index': 28355}, page_content='3.2 Measures\\n\\n3.2.1 Growth mindset\\n\\nThe Growth Mindset Scale (GMS) developed by Chen et al. (36) was used to measure participants’ growth mindset. The scale consists of 18 items, with four reverse-scored items, rated on a 5- point Likert scale (1 = “Strongly disagree” to 5 = “Strongly agree”). Higher scores indicate stronger growth mindset. The Cronbach’s alpha for the scale was 0.861 at T1 and 0.852 at T2.\\n\\n3.2.2 Meaning in life\\n\\nThe Meaning in Life scale used in Study 1 was also employed here. In this study, the Cronbach’s alpha was 0.842 at T1 and 0.816 at T2. For the subdimensions, the alphas for Presence of Meaning were 0.641 (T1) and 0.729 (T2), and for Search for Meaning, 0.863 (T1) and 0.827 (T2).\\n\\n3.2.3 Psychological symptoms\\n\\nThe Psychological Symptoms scale from Study 1 was used again in this study. The Cronbach’s alpha was 0.959 at T1 and 0.964 at T2, indicating high reliability.\\n\\n3.3 Data processing and analysis'),\n",
       " Document(metadata={'source': 'mindset2.pdf', 'start_index': 29101}, page_content='The Psychological Symptoms scale from Study 1 was used again in this study. The Cronbach’s alpha was 0.959 at T1 and 0.964 at T2, indicating high reliability.\\n\\n3.3 Data processing and analysis\\n\\nData preprocessing, descriptive statistics, and correlation analyses were performed using SPSS 27.0. Multiple regression analyses were conducted using Python, and the Delta Method was employed to compute the standard errors and 95% conﬁdence intervals for the indirect effects. To validate the robustness of the ﬁndings, structural equation modeling (SEM) was also applied as a supplementary method.\\n\\nfrontiersin.org\\n\\nFang and Fu\\n\\n10.3389/fpsyt.2025.1520645\\n\\n3.4 Results\\n\\n3.4.1 Common method bias test'),\n",
       " Document(metadata={'source': 'mindset2.pdf', 'start_index': 29696}, page_content='frontiersin.org\\n\\nFang and Fu\\n\\n10.3389/fpsyt.2025.1520645\\n\\n3.4 Results\\n\\n3.4.1 Common method bias test\\n\\nConsidering that the Growth Mindset Scale, Meaning in Life Scale, and Brief Symptom Inventory were self-report measures, there was potential for common method bias. To mitigate this, the study employed several strategies: (1) to minimize within-test bias, we balanced the order of items, mixed positively and negatively worded items, and ensured anonymity to reduce response biases. (2) to address between-test bias, we spaced the two rounds of data collection eight months apart and conducted them in different locations. (3) Harman’s single-factor test revealed 8 and 7 factors with eigenvalues greater than 1 in the two rounds of data collection, with the ﬁrst factor explaining 29.05% and 28.71% of the variance, respectively, both below the 40% threshold. This analysis conﬁrmed that common method bias was not a signiﬁcant issue in the study.'),\n",
       " Document(metadata={'source': 'mindset2.pdf', 'start_index': 30648}, page_content='3.4.2 Descriptive statistics and correlation analysis\\n\\nAs shown in Table 3, growth mindset and meaning in life were signiﬁcantly positively correlated at both time points, while growth mindset and meaning in life were both negatively correlated with psychological symptoms, showing consistent results across time.\\n\\nfor meaning in life (b= -0.26, t= -3.91, p= 0.0001), indicating a partial mediation effect. The indirect effect was b = -0.09, 95% CI [-0.132, -0.053], accounting for 26.19% of the total effect. These results suggest that meaning in life signiﬁcantly mediates the relationship between growth mindset and psychological symptoms, supporting the study’s hypothesis. The results from SEM were highly consistent with those obtained through regression, with nearly identical estimates for the mediation paths (see details in the Supplementary Materials).'),\n",
       " Document(metadata={'source': 'mindset2.pdf', 'start_index': 31513}, page_content='Similar patterns were observed in the models with depression, anxiety, interpersonal sensitivity, and hostility as outcomes separately (see Table 4). In the depression model, the indirect effect of growth mindset through meaning in life was signiﬁcant (b= -0.11, 95% CI[-0.165, -0.047]), accounting for 29.81% of the total effect. In the anxiety model, the indirect effect was b= -0.08, 95% CI [-0.121, -0.042], accounting for 27.42% of the total effect. In the interpersonal sensitivity and hostility models, the indirect effects were b= -0.09, 95% CI[-0.126, -0.046] and b= -0.10, 95% CI [-0.135, -0.056], accounting for 21.55% and 25.72% of the total effects, respectively. These ﬁndings further support the mediating role of meaning in life in the relationship between growth mindset and various psychological symptoms.\\n\\n3.4.3 Longitudinal mediation analysis of growth mindset and psychological symptoms\\n\\n4 Discussion'),\n",
       " Document(metadata={'source': 'mindset2.pdf', 'start_index': 32422}, page_content='4 Discussion\\n\\nIn this analysis, growth mindset at T1 was the independent variable, psychological symptoms at T2 (including overall interpersonal sensitivity, and symptoms, depression, anxiety, hostility) were the dependent variables, and meaning in life at T2 served as the mediator. Age and family monthly income were controlled as demographic variables. The Delta Method was used to compute standard errors and 95% conﬁdence intervals for the indirect effects. The ﬁndings revealed that growth mindset at T1 signiﬁcantly predicted psychological symptoms at T2, both directly and indirectly through meaning in life (see Figure 3). Speciﬁcally, growth mindset signiﬁcantly predicted meaning in life (b= 0.49, t= 6.29, p< 0.001), which in turn signiﬁcantly predicted psychological symptoms (b = -0.19, t = -5.51, p < 0.001). The direct effect of growth mindset on psychological symptoms was signiﬁcant (b= -0.35, t= -5.34, p< 0.001), but this effect weakened after controlling'),\n",
       " Document(metadata={'source': 'mindset2.pdf', 'start_index': 33399}, page_content='This study, grounded in implicit theory, examines the inﬂuence of growth mindset on the mental health of middle school students in ethnic minority regions of China, with a focus on the mediating role of meaning in life. Both the regression with bootstrap and SEM model consistently revealed the mediation effect, highlighting the reliability of the observed associations and reinforcing the validity of the theoretical framework underlying the model.\\n\\nIn our study, the higher representation of ethnic minority students in the study can be explained by demographic patterns in Guangxi and Yunnan, where minorities account for 37.52% and 33.12% of the population, respectively. This overrepresentation may be attributed to the inclusion of schools in county-level regions, where minority populations are more concentrated. Furthermore, Han students in these provinces often seek educational opportunities in urban centers or outside these regions, leading to'),\n",
       " Document(metadata={'source': 'mindset2.pdf', 'start_index': 34358}, page_content='TABLE 3 Descriptive statistics and correlations among the variables in the mediation model (n = 618).\\n\\nVariable\\n\\nM ± SD\\n\\nT1 Growth mindset\\n\\nT2 Growth mindset\\n\\nT1 Meaning in Life\\n\\nT2 Meaning in Life\\n\\nT1 Psychological Symptoms\\n\\nT2 Psychological Symptoms\\n\\n1. T1 Growth mindset\\n\\n3.98 ± 0.57\\n\\n—\\n\\n2. T2 Growth mindset\\n\\n3.58 ± 0.59\\n\\n0.27***\\n\\n—\\n\\n3. T1 Meaning in Life\\n\\n4.73 ± 1.17\\n\\n0.35***\\n\\n0.17***\\n\\n—\\n\\n4. T2 Meaning in Life\\n\\n4.78 ± 1.10\\n\\n0.25***\\n\\n0.38***\\n\\n0.28***\\n\\n—\\n\\n5. T1 Psychological Symptoms\\n\\n0.91 ± 0.85\\n\\n0.40***\\n\\n0.14***\\n\\n0.29***\\n\\n0.16***\\n\\n—\\n\\n6. T2 Psychological Symptoms\\n\\n1.04 ± 0.92\\n\\n0.22***\\n\\n0.19***\\n\\n0.12**\\n\\n0.26***\\n\\n0.40***\\n\\n—\\n\\n** denotes statistical signiﬁcance at the 0.01 level and *** denotes statistical signiﬁcance at the 0.001 level.\\n\\nFrontiers in Psychiatry\\n\\n07\\n\\nfrontiersin.org\\n\\nFang and Fu\\n\\nTABLE 4 The mediation effects from growth mindset to psychological symptoms (total scale and four subscales) in the longitudinal tracking model.\\n\\nPath\\n\\nb\\n\\nSE\\n\\nt\\n\\np\\n\\n95%Cl'),\n",
       " Document(metadata={'source': 'mindset2.pdf', 'start_index': 35151}, page_content='Fang and Fu\\n\\nTABLE 4 The mediation effects from growth mindset to psychological symptoms (total scale and four subscales) in the longitudinal tracking model.\\n\\nPath\\n\\nb\\n\\nSE\\n\\nt\\n\\np\\n\\n95%Cl\\n\\nModel 1 (Brief Symptom)\\n\\na path\\n\\n0.49\\n\\n0.08\\n\\n6.29\\n\\n<0.001\\n\\n[0.338,0.645]\\n\\nb path\\n\\n0.19\\n\\n0.03\\n\\n5.51\\n\\n<0.001\\n\\n[-0.225,- 0.121]\\n\\nDirect effect (c’)\\n\\n0.26\\n\\n0.07\\n\\n3.91\\n\\n<0.001\\n\\n[-0.482,- 0.223]\\n\\nTotal effect (c)\\n\\n0.35\\n\\n0.07\\n\\n5.34\\n\\n<0.001\\n\\n[-0.391,- 0.129]\\n\\nIndirect effect\\n\\n0.09\\n\\n0.02\\n\\n——\\n\\n——\\n\\n[-0.036,- 0.129]\\n\\nModel 2 (Depression)\\n\\na path\\n\\n0.49\\n\\n0.08\\n\\n6.29\\n\\n<0.001\\n\\n[0.338,0.645]\\n\\nb path\\n\\n0.22\\n\\n0.03\\n\\n6.18\\n\\n<0.001\\n\\n[-0.284,- 0.147]\\n\\nDirect effect (c’)\\n\\n0.25\\n\\n0.07\\n\\n3.66\\n\\n<0.001\\n\\n[-0.383,- 0.116]\\n\\nTotal effect (c)\\n\\n0.36\\n\\n0.07\\n\\n5.23\\n\\n<0.001\\n\\n[-0.489,- 0.222]\\n\\nIndirect effect\\n\\n0.11\\n\\n0.02\\n\\n——\\n\\n——\\n\\n[-0.047,- 0.017]\\n\\nModel 3 (Anxiety)\\n\\na path\\n\\n0.49\\n\\n0.08\\n\\n6.29\\n\\n<0.001\\n\\n[0.338,0.645]\\n\\nb path\\n\\n0.17\\n\\n0.04\\n\\n4.36\\n\\n<0.001\\n\\n[-0.241,- 0.091]\\n\\nDirect effect (c’)\\n\\n0.22\\n\\n0.07\\n\\n2.91\\n\\n0.004\\n\\n[-0.362,0.070]\\n\\nTotal effect (c)'),\n",
       " Document(metadata={'source': 'mindset2.pdf', 'start_index': 35947}, page_content='Model 3 (Anxiety)\\n\\na path\\n\\n0.49\\n\\n0.08\\n\\n6.29\\n\\n<0.001\\n\\n[0.338,0.645]\\n\\nb path\\n\\n0.17\\n\\n0.04\\n\\n4.36\\n\\n<0.001\\n\\n[-0.241,- 0.091]\\n\\nDirect effect (c’)\\n\\n0.22\\n\\n0.07\\n\\n2.91\\n\\n0.004\\n\\n[-0.362,0.070]\\n\\nTotal effect (c)\\n\\n0.30\\n\\n0.07\\n\\n4.08\\n\\n<0.001\\n\\n[-0.441,- 0.154]\\n\\nIndirect effect\\n\\n0.08\\n\\n0.02\\n\\n——\\n\\n——\\n\\n[-0.041,- 0.014]\\n\\nModel 4 (Interpersonal Sensitivity)\\n\\na path\\n\\n0.49\\n\\n0.08\\n\\n6.29\\n\\n<0.001\\n\\n[0.338,0.645]\\n\\nb path\\n\\n0.17\\n\\n0.04\\n\\n4.81\\n\\n<0.001\\n\\n[-0.246,- 0.645]\\n\\nDirect effect (c’)\\n\\n0.31\\n\\n0.07\\n\\n4.41\\n\\n<0.001\\n\\n[-0.452,- 0.173]\\n\\nTotal effect (c)\\n\\n0.40\\n\\n0.07\\n\\n5.70\\n\\n<0.001\\n\\n[-0.536,- 0.261]\\n\\nIndirect effect\\n\\n0.09\\n\\n0.02\\n\\n——\\n\\n——\\n\\n[-0.040,- 0.015]\\n\\nModel 5 (Hostility)\\n\\na path\\n\\n0.49\\n\\n0.08\\n\\n6.29\\n\\n<0.001\\n\\n[0.338,0.645]\\n\\nb path\\n\\n0.19\\n\\n0.04\\n\\n5.23\\n\\n<0.001\\n\\n[-0.248,- 0.122]\\n\\nDirect effect (c’)\\n\\n0.28\\n\\n0.07\\n\\n3.80\\n\\n<0.001\\n\\n[-0.419,- 0.134]\\n\\n(Continued)\\n\\nFrontiers in Psychiatry\\n\\n08\\n\\n10.3389/fpsyt.2025.1520645\\n\\nTABLE 4 Continued\\n\\nPath\\n\\nb\\n\\nSE\\n\\nt\\n\\np\\n\\n95%Cl\\n\\nModel 5 (Hostility)\\n\\nTotal effect (c)\\n\\n0.37\\n\\n0.07\\n\\n5.17\\n\\n<0.001'),\n",
       " Document(metadata={'source': 'mindset2.pdf', 'start_index': 36732}, page_content='[-0.419,- 0.134]\\n\\n(Continued)\\n\\nFrontiers in Psychiatry\\n\\n08\\n\\n10.3389/fpsyt.2025.1520645\\n\\nTABLE 4 Continued\\n\\nPath\\n\\nb\\n\\nSE\\n\\nt\\n\\np\\n\\n95%Cl\\n\\nModel 5 (Hostility)\\n\\nTotal effect (c)\\n\\n0.37\\n\\n0.07\\n\\n5.17\\n\\n<0.001\\n\\n[-0.514,- 0.231]\\n\\nIndirect effect\\n\\n0.10\\n\\n0.02\\n\\n——\\n\\n——\\n\\n[-0.041,- 0.014]'),\n",
       " Document(metadata={'source': 'mindset2.pdf', 'start_index': 36820}, page_content='TABLE 4 Continued\\n\\nPath\\n\\nb\\n\\nSE\\n\\nt\\n\\np\\n\\n95%Cl\\n\\nModel 5 (Hostility)\\n\\nTotal effect (c)\\n\\n0.37\\n\\n0.07\\n\\n5.17\\n\\n<0.001\\n\\n[-0.514,- 0.231]\\n\\nIndirect effect\\n\\n0.10\\n\\n0.02\\n\\n——\\n\\n——\\n\\n[-0.041,- 0.014]\\n\\na higher proportion of minority students in the sampled schools. These patterns reﬂect regional disparities in educational access and provide valuable context for understanding the ﬁndings. It is worth noting that the psychological symptoms were not inﬂuenced by their ethnic status while differences were observed in growth mindset and meaning of life based on minority status. This may be attributed to the shared school environment, which provides a relatively uniform context for psychological experiences, while belief systems are more strongly shaped by cultural and socioeconomic status. Building on this insight, future research should further explore the potential impact of ethnicity on psychological outcomes within this group.\\n\\n4.1 The effect of growth mindset on psychological symptoms'),\n",
       " Document(metadata={'source': 'mindset2.pdf', 'start_index': 37743}, page_content='4.1 The effect of growth mindset on psychological symptoms\\n\\nThe study results show a signiﬁcant negative relationship between growth mindset and psychological symptoms-including depression, anxiety, hostility, and interpersonal sensitivity- highlighting growth mindset as a protective factor. This aligns with previous ﬁndings on its protective effects on adolescent mental health and symptoms reduction. For example, research indicates that growth mindset signiﬁcantly reduces negative emotional outcomes in adolescents, such as depression, anxiety, and externalizing behaviors (37), and positively impacts interpersonal relationships by fostering constructive attitudes in challenging situations, enhancing conﬁdence and social interactions (38).\\n\\nThis relationship holds consistently across four psychological symptoms including depression, anxiety, hostility, and interpersonal sensitivity. This result indicates that a growth'),\n",
       " Document(metadata={'source': 'mindset2.pdf', 'start_index': 38493}, page_content='This relationship holds consistently across four psychological symptoms including depression, anxiety, hostility, and interpersonal sensitivity. This result indicates that a growth\\n\\nFIGURE 3 The path analysis of mediation effects from growth mindset to psychological symptoms in the longitudinal tracking dataset. *** denotes statistical signiﬁcance at the 0.001 level.\\n\\nfrontiersin.org\\n\\nFang and Fu\\n\\nmindset not only buffers emotional symptoms but also reduces tendencies toward more aggressive or interpersonal conﬂict-related behaviors. This aligns with existing literature (39–41) and extends the potential applicability of growth mindset as a versatile tool for intervention. Furthermore, the consistent result psychological across cross-sectional and longitudinal data enhances the credibility of the association suggesting that growth mindset not only offers short-term beneﬁts for mental health but may also serve as a preventive factor in the long run.'),\n",
       " Document(metadata={'source': 'mindset2.pdf', 'start_index': 39456}, page_content='4.2 The mediating role of meaning in life'),\n",
       " Document(metadata={'source': 'mindset2.pdf', 'start_index': 39499}, page_content='The current two studies revealed small to modest associations between growth mindset and psychological symptoms, consistent with ﬁndings from most previous research (42). However, variations in the strength of these correlations may be inﬂuenced by factors such as demographic characteristics and the measurement instruments used. Future research should further explore potential moderators to better understand the conditions under which these relationships may vary. The stronger direct and indirect effects observed in the longitudinal analysis compared to the cross-sectional analysis highlight the added value of capturing temporal dynamics in psychological research. While cross-sectional studies provide a snapshot of the relationships between variables, they are limited in demonstrating the progression and unfolding of these relationships over time. Longitudinal analysis, on the other hand, allows for a deeper understanding of how constructs such as growth mindset inﬂuence psychological'),\n",
       " Document(metadata={'source': 'mindset2.pdf', 'start_index': 40299}, page_content='progression and unfolding of these relationships over time. Longitudinal analysis, on the other hand, allows for a deeper understanding of how constructs such as growth mindset inﬂuence psychological symptoms across temporal sequences. In this study, the more pronounced effects in the longitudinal model suggest that the inﬂuence of a growth mindset on psychological symptoms may strengthen over time, as adolescents consistently internalize its positive impact. The mediating role of meaning in life further emphasizes this temporal sequence, suggesting that sustained engagement with a growth mindset can foster a deeper and more enduring sense of life purpose, which in turn reduces psychological distress (43, 44). This ﬁnding underscores the dynamic nature of psychological processes and aligns with theories suggesting that positive cognitive frameworks require time to fully manifest their beneﬁts.'),\n",
       " Document(metadata={'source': 'mindset2.pdf', 'start_index': 41207}, page_content='4.3 Clinical implication\\n\\nThe stability of this mediating relationship across both datasets implies that intervention targeting growth mindset and fostering meaning in life could be effective for both immediate and long-term mental health beneﬁts. To reinforce these constructs over time could yield sustained reductions in psychological symptoms. Future mental health programs, especially in middle and high schools, could support the environment to foster growth mindset and facilitate meaning- building work to eventually reduce the psychological symptoms in adolescents. To cultivate a more supportive environment, schools could integrate growth mindset interventions by introducing structured psychological education classes for students and\\n\\nFrontiers in Psychiatry\\n\\n09\\n\\n10.3389/fpsyt.2025.1520645'),\n",
       " Document(metadata={'source': 'mindset2.pdf', 'start_index': 41955}, page_content='Frontiers in Psychiatry\\n\\n09\\n\\n10.3389/fpsyt.2025.1520645\\n\\nprofessional development programs for teachers speciﬁcally designed to foster growth mindsets. These classes could include curriculum modules that teach students about the principles of growth mindset, how it can be applied in academic and personal contexts, and techniques for overcoming challenges through resilience and perseverance. Similarly, professional development programs for teachers could focus on strategies to encourage a growth mindset in their teaching practices and interactions with students. These coordinated efforts are likely to signiﬁcantly enhance the impact on students’ psychological well-being and academic performance.\\n\\n4.4 Limitations'),\n",
       " Document(metadata={'source': 'mindset2.pdf', 'start_index': 42677}, page_content='Limitations of this study include the use of only two time points, which restricts the ability to fully capture the temporal dynamics of the mediation effect, and the simultaneous measurement of both the mediator (meaning in life) and the outcome (psychological symptoms), potentially introducing common method bias. Future studies could incorporate additional time points to more effectively track changes over time and strengthen causal inferences. The reliance on self-reported data also raises the possibility of social desirability bias, suggesting that a combination of self-report and objective measures could enhance validity. Furthermore, although validated Chinese scales were employed, they may not fully capture the nuances of these constructs within the cultural context of ethnic minority regions. Future research should consider culturally adapted tools to improve both generalizability and relevance. In spite of that the overall direction of the mediation paths were in line with'),\n",
       " Document(metadata={'source': 'mindset2.pdf', 'start_index': 43480}, page_content='regions. Future research should consider culturally adapted tools to improve both generalizability and relevance. In spite of that the overall direction of the mediation paths were in line with each other, the younger average age of the second sample could contribute to the differences in model effects, as developmental stages could inﬂuence the relationship between growth mindset, meaning in life, and psychological symptoms. It would be meaningful for future research to explore the age speciﬁc mechanisms in order to instruct more relevant intervention. Finally, while the longitudinal design establishes temporal order, the lack of random assignment or experimental manipulation of growth mindset constrains our ability to completely eliminate potential confounding factors, thus limiting the study’s ability to draw deﬁnitive causal conclusions about the relationship between growth mindset and mental health. Future research using randomized controlled designs or targeted interventions'),\n",
       " Document(metadata={'source': 'mindset2.pdf', 'start_index': 44276}, page_content='the study’s ability to draw deﬁnitive causal conclusions about the relationship between growth mindset and mental health. Future research using randomized controlled designs or targeted interventions could provide more deﬁnitive insights into causal mechanisms involved.'),\n",
       " Document(metadata={'source': 'mindset2.pdf', 'start_index': 44548}, page_content='5 Conclusion\\n\\nIn conclusion, our study provides robust evidence that meaning in life consistently mediates the relationship between growth mindset and psychological symptoms, as observed in both cross- sectional and longitudinal analyses. Our ﬁndings open new avenues for targeted, evidence-based mental health strategies, especially among the disadvantages adolescents who are vulnerable to psychological symptoms.\\n\\nfrontiersin.org\\n\\nFang and Fu\\n\\nData availability statement\\n\\nThe original contributions presented in the study are included in the article/Supplementary Material. Further inquiries can be directed to the corresponding author.\\n\\nEthics statement'),\n",
       " Document(metadata={'source': 'mindset2.pdf', 'start_index': 45024}, page_content='The original contributions presented in the study are included in the article/Supplementary Material. Further inquiries can be directed to the corresponding author.\\n\\nEthics statement\\n\\nThe studies involving humans were approved by Human Ethics Committee of Guangxi Normal University. The studies were conducted in accordance with the local legislation and institutional requirements. The ethics committee/institutional review board waived the requirement of written informed consent for participation from the participants or the participants’ legal guardians/next of kin because the data collection was conducted with the full knowledge and approval of both the school principal and the teacher, ensuring that the participants’ rights and privacy were protected in accordance with ethical standards.\\n\\nAuthor contributions'),\n",
       " Document(metadata={'source': 'mindset2.pdf', 'start_index': 45825}, page_content='Author contributions\\n\\nZZF: Conceptualization, Data curation, Formal analysis, Investigation, Methodology, Software, Visualization, Writing – original draft, Writing – review & editing. ZFF: Conceptualization, Funding acquisition, Project administration, Resources, Supervision, Validation, Writing – review & editing.\\n\\nFunding\\n\\nThe author(s) declare that ﬁnancial support was received for the research, authorship, and/or publication of this article. This research is supported by National Natural Science Fund of China\\n\\nReferences\\n\\n1. Polanczyk GV, Salum GA, Sugaya LS, Caye A, Rohde LA. Annual research review: A meta-analysis of the worldwide prevalence of mental disorders in children and adolescents. J Child Psychol Psychiatry. (2015) 56:345–65. doi: 10.1111/jcpp.12381'),\n",
       " Document(metadata={'source': 'mindset2.pdf', 'start_index': 46602}, page_content='2. Patel V, Stein DJ. Common mental disorders in sub-Saharan Africa: The triad of depression, anxiety and somatization. In Akyeampong E, Hill AG, Kleinman RJ (Eds). The culture of mental illness and psychiatric practice in Africa Indiana University Press. (2015), 131–46.\\n\\n3. Kapungu C, Petroni S, Allen NB, Brumana L, Collins PY, De Silva M, et al. Gendered inﬂuences on adolescent mental health in low-income and middle-income countries: Recommendations from an expert convening. Lancet Child Adolesc Health. (2018) 2:85–6. doi: 10.1016/S2352-4642(17)30152-9\\n\\n4. Huang D, Yang LH, Pescosolido BA. Understanding the public’s proﬁle of mental health literacy in China: a nationwide study. BMC psychiatry (2019) 19:20. doi: 10.1186/s12888-018-1980-8\\n\\n5. Wan G, Wang M, Chen S. Child abuse in ethnic regions: Evidence from 2899 girls in Southwest China. Children Youth Serv Rev. (2019) 105:1–8. doi: 10.1016/ j.childyouth.2019.104457'),\n",
       " Document(metadata={'source': 'mindset2.pdf', 'start_index': 47352}, page_content='5. Wan G, Wang M, Chen S. Child abuse in ethnic regions: Evidence from 2899 girls in Southwest China. Children Youth Serv Rev. (2019) 105:1–8. doi: 10.1016/ j.childyouth.2019.104457\\n\\n6. Zhang J. A survey on the psychological problems of rural-to-urban migrant students from mountain area in ethnic minority region. Contemp Educ Culture. (2015) 7:21–5. doi: 10.13749/j.cnki.cn62-1202/g4.2015.04.005\\n\\nFrontiers in Psychiatry\\n\\n10\\n\\n10.3389/fpsyt.2025.1520645\\n\\n(No. 32300930) and the funding source has no role playing in the design and conduction of the research.\\n\\nConﬂict of interest\\n\\nThe authors declare that the research was conducted in the absence of any commercial or ﬁnancial relationships that could be construed as a potential conﬂict of interest.\\n\\nGenerative AI statement'),\n",
       " Document(metadata={'source': 'mindset2.pdf', 'start_index': 47934}, page_content='The authors declare that the research was conducted in the absence of any commercial or ﬁnancial relationships that could be construed as a potential conﬂict of interest.\\n\\nGenerative AI statement\\n\\nThe author(s) declare that Generative AI was used in the creation of this manuscript. This manuscript utilized generative AI to assist in translating content and improving the ﬂuency of sentences. The AI was used to ensure clarity and coherence without altering the original meaning of the text.\\n\\nPublisher’s note\\n\\nAll claims expressed in this article are solely those of the authors and do not necessarily represent those of their afﬁliated organizations, or those of the publisher, the editors and the reviewers. Any product that may be evaluated in this article, or claim that may be made by its manufacturer, is not guaranteed or endorsed by the publisher.\\n\\nSupplementary material'),\n",
       " Document(metadata={'source': 'mindset2.pdf', 'start_index': 48793}, page_content='Supplementary material\\n\\nThe Supplementary Material for this article can be found online at: https://www.frontiersin.org/articles/10.3389/fpsyt.2025. 1520645/full#supplementary-material\\n\\n7. Cao X. Analysis and solutions to the psychological health of the minority students at the colleges in the minority concentrated regions. Guizhou Ethnic Stud. (2013) 34:189–92. doi: 10.13965/j.cnki.gzmzyj10026959.2013.04.040\\n\\n8. Clark AL. Is mindset related to resilience, depression, and suicidal ideation? (Doctoral dissertation, Northcentral University) Prescott Valley, AZ: Northcentral University (2018).\\n\\n9. Wei J, Yang T, Zhang Q, Zhang J. Mental health and its relationship with alienation on minority middle school students in Yunnan, Guizhou and Guangxi region. Chin J Health Psychol. (2022) 30:124–9. doi: 10.13342/j.cnki.cjhp.2022.01.025 10. Dweck CS. SSelf-theories: Their role in motivation, personality, and development. 1st ed. Philadelphia, PA: Psychology Press (1999).'),\n",
       " Document(metadata={'source': 'mindset2.pdf', 'start_index': 49769}, page_content='11. Xu Y, Wang D. The relationship between growth mindset and depression: The mediating role of reasoning and attention abilities in adolescents. Health Res. (2023) 43:149–152 + 163. doi: 10.19890/j.cnki.issn1674-6449.2023.02.007\\n\\n12. Jia X, Zhang Y, Qiu J. The impact of mindsets on emotional well-being of college students: A chain mediating model of perceived stress and resilience. J Southwest Univ (Social Sci Edition). (2022) 48:202–9. doi: 10.13718/j.cnki.xdsk.2022.04.020\\n\\n13. Molden DC, Dweck CS. Finding \"meaning\" in psychology: A lay theories approach to self-regulation, social perception, and social development.Am Psychol. (2006) 61(3):192–203. doi: 10.1037/0003-066X.61.3.192\\n\\nfrontiersin.org\\n\\nFang and Fu\\n\\n14. Tempelaar DT, Rienties B, Giesbers B, Gijselaers WH. The pivotal role of effort beliefs in mediating implicit theories of intelligence and achievement goals and academic motivations.Soc Psychol Educ. (2015) 18(1):101–20. doi: 10.1007/s11218- 014-9281-7'),\n",
       " Document(metadata={'source': 'mindset2.pdf', 'start_index': 50749}, page_content='15. Dweck CS, Leggett EL. A social-cognitive approach to motivation and\\n\\npersonality. psychol Rev. (1988) 95:256. doi: 10.1037/0033-295X.95.2.256\\n\\n16. Hong YY, Chiu CY, Dweck CS, Lin DMS, Wan W. Implicit theories, attributions, and coping: a meaning system approach. J Pers Soc Psychol. (1999) 77:588. doi: 10.1037/0022-3514.77.3.588\\n\\n17. Zhao H, Zhang M, Li Y, Wang Z. The effect of growth mindset on adolescents’ meaning in life: the roles of self-efﬁcacy and gratitude. Psychol Res Behav Manage. (2023) 16:4647–54. doi: 10.2147/PRBM.S428397\\n\\n18. Schroder HS, Fisher ME, Lin Y, Lo SL, Danovitch JH, Moser JS. Neural evidence for enhanced attention to mistakes among school-aged children with a growth mindset. Dev Cogn Neurosci. (2017) 24:42–50. doi: 10.1016/j.dcn.2017.01.004'),\n",
       " Document(metadata={'source': 'mindset2.pdf', 'start_index': 51529}, page_content='19. Zhao S, Chen L, King RB, Nie Y, Du H, Chi P. When adolescents believe that SES can be changed, they achieve more: The role of growth mindset of SES. Pers Individ Dif. (2021) 183:111104. doi: 10.1016/j.paid.2021.111104\\n\\n20. Walker KA, Jiang X. An examination of the moderating role of growth mindset in the relation between social stress and externalizing behaviors among adolescents. J Adolescence. (2022) 94:69–80. doi: 10.1002/jad.12006\\n\\n21. Yeager DS, Johnson R, Spitzer BJ, Trzesniewski KH, Powers J, Dweck CS. The far-reaching effects of believing people can change: Implicit theories of personality shape stress, health, and achievement during adolescence.J Personality Soc Psychol. (2014) 106(6):867–84. doi: 10.1037/a0036335\\n\\n22. Schleider JL, Abel MR, Weisz JR. Implicit theories and youth mental health problems: A random-effects meta-analysis. Clin Psychol Rev. (2015) 35:1–9. doi: 10.1016/j.cpr.2014.11.001'),\n",
       " Document(metadata={'source': 'mindset2.pdf', 'start_index': 52267}, page_content='22. Schleider JL, Abel MR, Weisz JR. Implicit theories and youth mental health problems: A random-effects meta-analysis. Clin Psychol Rev. (2015) 35:1–9. doi: 10.1016/j.cpr.2014.11.001\\n\\n23. Miu AS, Yeager DS. Preventing symptoms of depression by teaching adolescents that people can change: Effects of a brief incremental theory of personality intervention at 9-month follow-up. Clin psychol Sci. (2015) 3:726–43. doi: 10.1177/ 2167702614548317\\n\\n24. Schleider JL, Weisz JR. Mental health and implicit theories of thoughts, feelings, and behavior in early adolescents: Are girls at greater risk? J Soc Clin Psychol. (2016) 35:130–51. doi: 10.1521/jscp.2016.35.2.130\\n\\n25. Steger MF, Frazier P, Oishi S, Kaler M. The meaning in life questionnaire: assessing the presence of and search for meaning in life. J Couns Psychol. (2006) 53:80. doi: 10.1037/0022-0167.53.1.80'),\n",
       " Document(metadata={'source': 'mindset2.pdf', 'start_index': 52933}, page_content='25. Steger MF, Frazier P, Oishi S, Kaler M. The meaning in life questionnaire: assessing the presence of and search for meaning in life. J Couns Psychol. (2006) 53:80. doi: 10.1037/0022-0167.53.1.80\\n\\n26. Lee CS, Ryu EK, Jang HY. A study on the variables affecting self-directed learning of workers: Focusing on hope and growth mindset. J Digital Convergence. (2018) 16:29–37. doi: 10.14400/JDC.2018.16.9.029\\n\\n27. Miao M, Zheng L, Gan Y. Meaning in life promotes proactive coping via positive affect: A daily diary study. J Happiness Stud. (2017) 18:1683–96. doi: 10.1007/s10902- 016-9791-4\\n\\n28. Parada S, Verlhiac JF. Growth mindset intervention among French university students, and its articulation with proactive coping strategies. Educ Psychol. (2022) 42:354–74. doi: 10.1080/01443410.2021.1917519\\n\\n29. Routledge C, FioRito TA. Why meaning in life matters for societal ﬂourishing.\\n\\nFront Psychol. (2021) 11:601899. doi: 10.3389/fpsyg.2020.601899\\n\\nFrontiers in Psychiatry\\n\\n11'),\n",
       " Document(metadata={'source': 'mindset2.pdf', 'start_index': 53736}, page_content='29. Routledge C, FioRito TA. Why meaning in life matters for societal ﬂourishing.\\n\\nFront Psychol. (2021) 11:601899. doi: 10.3389/fpsyg.2020.601899\\n\\nFrontiers in Psychiatry\\n\\n11\\n\\n10.3389/fpsyt.2025.1520645\\n\\n30. Arslan G, Yıldırım M. A longitudinal examination of the association between meaning in life, resilience, and mental well-being in times of coronavirus pandemic. Front Psychol. (2021) 12:645597. doi: 10.3389/fpsyg.2021.645597\\n\\n31. Blackwell LS, Trzesniewski KH, Dweck CS. Implicit theories of intelligence predict achievement across an adolescent transition: A longitudinal study and an intervention. Child Dev. (2007) 78:246–63. doi: 10.1111/j.1467-8624.2007.00995.x\\n\\n32. Wang M, Dai X. Chinese Meaning in Life Questionnaire revised in college\\n\\nstudents and its reliability and validity test. Chin J Clin Psychol. (2008) 16:459–61.'),\n",
       " Document(metadata={'source': 'mindset2.pdf', 'start_index': 54413}, page_content='32. Wang M, Dai X. Chinese Meaning in Life Questionnaire revised in college\\n\\nstudents and its reliability and validity test. Chin J Clin Psychol. (2008) 16:459–61.\\n\\n33. Hu X, Zhang H, Geng M. Letting go or giving up? The inﬂuence of self- transcendence meaning of life on goal adjustment in high action crisis.Front Psychol. (2023) 14:1054873. doi: 10.3389/fpsyg.2023.1054873\\n\\n34. Urbán R, Kun B, Farkas J, Paksi B, Kökönyei G, Unoka Z, et al. Bifactor structural model of symptom checklists: SCL-90-R and Brief Symptom Inventory (BSI) in a non-clinical community sample. Psychiatry Res. (2014) 216:146–54. doi: 10.1016/ j.psychres.2014.01.027\\n\\n35. Adler NE, Epel ES, Castellazzo G, Ickovics JR. Relationship of subjective and objective social status with psychological and physiological functioning: Preliminary data in healthy, White women.Health Psychol. (2000) 19(6):586–92. doi: 10.1037// 0278-6133.19.6.586'),\n",
       " Document(metadata={'source': 'mindset2.pdf', 'start_index': 55328}, page_content='36. Chen S, Ding Y, Liu X. Development of the growth mindset scale: Evidence of structural validity, measurement model, direct and indirect effects in Chinese samples.Current Psychol. (2023) 42(3):1712–26. doi: 10.1007/s12144-021-01532-x\\n\\n37. Cherewick M, Hipp E, Njau P, Dahl RE. Growth mindset, persistence, and self- efﬁcacy in early adolescents: Associations with depression, anxiety, and externalising behaviours. Global Public Health. (2023) 18(1):2213300. doi: 10.1080/ 17441692.2023.2213300\\n\\n38. Campbell JA, Løkken IM. Inside out: A scoping review on optimism, growth mindsets, and positive psychology for child well-being in ECEC. Educ Sci. (2023) 13:1– 23. doi: 10.3390/educsci13010029\\n\\n39. Derr S, Morrow MT. Effects of a growth mindset of personality on emerging adults’ defender self-efﬁcacy, moral disengagement, and perceived peer defending. J Interpersonal Violence. (2020) 35:542–70. doi: 10.1177/0886260517713716'),\n",
       " Document(metadata={'source': 'mindset2.pdf', 'start_index': 56261}, page_content=\"40. Wong HN. Power of a growth mindset: Positive affect, behavior and cognition towards the offender in interpersonal conﬂicts. (Master's thesis, The Education University of Hong Kong). The Education University of Hong Kong. (2019). Available online at: https://educoll.lib.eduhk.hk/records/FQWTp8Mj (Accessed January 30, 2025).\\n\\n41. Lee CS, Jang HY. Moderating effect of growth mindset between victimization by school violence and school class adjustment. Indian J Public Health Res Dev. (2018) 9:795–801. doi: 10.5958/0976-5506.2018.00831.8\\n\\n42. Wang C, Li S, Wang Y, Li M, Tao W. Growth mindset and well-being in social interactions: countering individual loneliness. Front Public Health. (2024) 12:1368491. doi: 10.3389/fpubh.2024.1368491\\n\\n43. Hoyt CL, Burnette JL, Nash E, Becker W, Billingsley J. Growth mindsets of anxiety: Do the beneﬁts to individual ﬂourishing come with societal costs?. The Journal of Positive Psychology. (2023) 18(3):370–82. doi: 10.1080/17439760.2023.2178956\"),\n",
       " Document(metadata={'source': 'mindset2.pdf', 'start_index': 57252}, page_content='44. Zhao H, Zhang M, Li Y, Wang Z. The effect of growth mindset on adolescents’ meaning in life: The roles of self-efﬁcacy and gratitude. Psychology Research and Behavior Management. (2023) 16:4647–64. doi: 10.2147/PRBM.S414342\\n\\nfrontiersin.org')]"
      ]
     },
     "execution_count": 34,
     "metadata": {},
     "output_type": "execute_result"
    }
   ],
   "source": [
    "all_splits"
   ]
  },
  {
   "cell_type": "code",
   "execution_count": 35,
   "id": "0a50d8a5",
   "metadata": {},
   "outputs": [],
   "source": [
    "question=\"What are the key ideas from this research article?\""
   ]
  },
  {
   "cell_type": "code",
   "execution_count": 36,
   "id": "56ffc470",
   "metadata": {},
   "outputs": [],
   "source": [
    "# extract chunks which matches with your query\n",
    "search_results = vector_store.similarity_search_with_score(question, k=9)\n",
    "\n",
    "# conbine text from differrent chunks into one long string\n",
    "doc_content = \"\\n\\n\".join(doc.page_content for (doc,score) in search_results)"
   ]
  },
  {
   "cell_type": "code",
   "execution_count": 37,
   "id": "d3fc42b1",
   "metadata": {},
   "outputs": [
    {
     "data": {
      "text/markdown": [
       "**Key ideas from the article**\n",
       "\n",
       "1. **Growth mindset protects mental health** – Students who believe abilities can improve tend to show fewer psychological symptoms.  \n",
       "   *Example:* A student who sees effort as a path to success reports lower anxiety than a student who thinks talent is fixed.\n",
       "\n",
       "2. **Meaning in life mediates this protection** – The benefit of a growth mindset on mental health operates through a stronger sense of meaning.  \n",
       "   *Example:* A growth‑mindset student who finds purpose in schoolwork reports fewer depressive symptoms, whereas the same student without a sense of meaning does not see this benefit.\n",
       "\n",
       "3. **The mediation holds over time** – The cross‑sectional and longitudinal models both show the same pattern, indicating that the effect is stable from one time point to the next.  \n",
       "   *Example:* Over a school year, growth‑mindset students who maintain a sense of meaning continue to show reduced stress.\n",
       "\n",
       "4. **Practical implication for schools** – Interventions that cultivate growth mindset and help students build meaning can yield lasting mental‑health benefits, especially for disadvantaged adolescents.  \n",
       "   *Example:* A middle‑school program that combines mindset workshops with reflective journaling on personal goals could reduce student‑reported psychological symptoms.\n",
       "\n",
       "5. **Future research directions** – Need for culturally adapted tools, more time points, and randomized designs to confirm causality.  \n",
       "   *Example:* A randomized controlled trial of a growth‑mindset curriculum in an ethnic minority region could test whether the observed mediation is causal."
      ],
      "text/plain": [
       "<IPython.core.display.Markdown object>"
      ]
     },
     "execution_count": 37,
     "metadata": {},
     "output_type": "execute_result"
    }
   ],
   "source": [
    "\n",
    "prompt_template = \"\"\"You are an assistant to a Psychologist Use the following pieces of retrieved \n",
    "context to answer the question. Use no data outside of the context. If you don't know the answer,\n",
    " just say that you don't know, don't try to make up an answer. AND if the question is not related \n",
    " to the context, politely respond that you are tuned to only answer questions that are related \n",
    " to the context. Make sure the answer is concise and not too long. Also make sure to include examples\n",
    " wherever possible.\n",
    "Question: {question} \n",
    "Context: {context} \n",
    "Answer:\"\"\"\n",
    "\n",
    "from langchain.chat_models import init_chat_model\n",
    "llm = init_chat_model(\"openai/gpt-oss-20b\", model_provider=\"groq\")\n",
    "\n",
    "response = llm.invoke(prompt_template.format(\n",
    "    context=doc_content,\n",
    "    question=\"What are the key ideas from this research article?\"))\n",
    "    \n",
    "from IPython.display import Markdown\n",
    "Markdown(response.content)"
   ]
  },
  {
   "cell_type": "code",
   "execution_count": 38,
   "id": "e67f5b9b",
   "metadata": {},
   "outputs": [
    {
     "data": {
      "text/markdown": [
       "I’m sorry, but I’m only able to answer questions that relate to the provided context."
      ],
      "text/plain": [
       "<IPython.core.display.Markdown object>"
      ]
     },
     "execution_count": 38,
     "metadata": {},
     "output_type": "execute_result"
    }
   ],
   "source": [
    "response = llm.invoke(prompt_template.format(\n",
    "    context=doc_content,\n",
    "    question=\"What is the net worth of donald trump?\"))\n",
    "    \n",
    "from IPython.display import Markdown\n",
    "Markdown(response.content)"
   ]
  },
  {
   "cell_type": "code",
   "execution_count": 39,
   "id": "95d4b9df",
   "metadata": {},
   "outputs": [],
   "source": [
    "question=\"\"\"If someone wants to pursue research in psychology, what are the key \n",
    "    ideas from this research article that they should focus on?\"\"\"\n",
    "search_results = vector_store.similarity_search_with_score(question, k=3)\n",
    "doc_content = \"\\n\\n\".join(doc.page_content for (doc,score) in search_results)"
   ]
  },
  {
   "cell_type": "code",
   "execution_count": 40,
   "id": "0523631b",
   "metadata": {},
   "outputs": [
    {
     "data": {
      "text/markdown": [
       "**Key ideas to focus on when pursuing research in psychology (based on the article):**\n",
       "\n",
       "1. **Causality vs. Correlation**  \n",
       "   - The study demonstrates that while a longitudinal design can establish temporal order, it cannot definitively prove that growth mindset *causes* changes in mental health.  \n",
       "   - Future work should therefore employ **randomized controlled designs** or **targeted interventions** to strengthen causal claims.\n",
       "\n",
       "2. **Growth Mindset as a Variable of Interest**  \n",
       "   - Growth mindset is central to the model; it is linked to psychological symptoms through mediating mechanisms.  \n",
       "   - Researchers should consider how to **measure, manipulate, and intervene** on growth mindset in experimental settings.\n",
       "\n",
       "3. **Mediation by Meaning in Life**  \n",
       "   - The article highlights **meaning in life** as a key mediator between growth mindset and psychological symptoms.  \n",
       "   - Investigating the pathways and mechanisms of this mediation (e.g., how meaning is constructed, maintained, or disrupted) is essential.\n",
       "\n",
       "4. **Cultural and Contextual Adaptation**  \n",
       "   - The sample came from ethnic regions of China, underscoring the need for **culturally adapted tools** to improve both generalizability and relevance.  \n",
       "   - Researchers should develop or validate instruments that reflect local cultural nuances.\n",
       "\n",
       "5. **Developmental (Age) Considerations**  \n",
       "   - Differences in average age across samples suggested developmental stages may influence the relationships studied.  \n",
       "   - Future research should **explore age‑specific mechanisms** to design interventions that are developmentally appropriate.\n",
       "\n",
       "6. **Generalizability and Relevance**  \n",
       "   - The authors note that findings are consistent across mediation paths but that cultural and age factors may moderate effects.  \n",
       "   - Emphasizing **external validity** (e.g., diverse samples, cross‑cultural replication) will strengthen the field.\n",
       "\n",
       "7. **Methodological Rigor**  \n",
       "   - The limitations point to the importance of **experimental manipulation** and **random assignment** to control for confounding variables.  \n",
       "   - Researchers should plan studies that can isolate the effect of growth mindset from other influences.\n",
       "\n",
       "**Take‑away for a psychology researcher:**  \n",
       "Focus on designing experiments that manipulate growth mindset, measure meaning in life, and assess mental health outcomes across culturally diverse and age‑specific populations. Such work will help clarify causal mechanisms, improve intervention relevance, and enhance the field’s overall robustness."
      ],
      "text/plain": [
       "<IPython.core.display.Markdown object>"
      ]
     },
     "execution_count": 40,
     "metadata": {},
     "output_type": "execute_result"
    }
   ],
   "source": [
    "prompt_template = \"\"\"A Psychology undergrad  student needs help in understanding a research article,\n",
    "help the student by answering the following question. Use the following pieces of retrieved \n",
    "context to answer the question. Use no data outside of the context. \n",
    "Question: {question} \n",
    "Context: {context} \n",
    "Answer:\"\"\"\n",
    "\n",
    "response = llm.invoke(prompt_template.format(\n",
    "    context=doc_content,\n",
    "    question=\"\"\"If someone wants to pursue research in psychology, what are the key \n",
    "    ideas from this research article that they should focus on?\"\"\"))\n",
    "    \n",
    "from IPython.display import Markdown\n",
    "Markdown(response.content)"
   ]
  },
  {
   "cell_type": "code",
   "execution_count": 50,
   "id": "e831719f",
   "metadata": {},
   "outputs": [],
   "source": [
    "question=\"\"\"placebo\"\"\"\n",
    "search_results = vector_store.similarity_search_with_score(question, k=3)\n",
    "doc_content = \"\\n\\n\".join(doc.page_content for (doc,score) in search_results)"
   ]
  },
  {
   "cell_type": "code",
   "execution_count": 51,
   "id": "20059e2b",
   "metadata": {},
   "outputs": [
    {
     "data": {
      "text/markdown": [
       "No. The excerpts provided focus on digital‑detox coping attempts, the relationship between doom scrolling and mental well‑being, demographic data, and the overall study methodology. There is no mention of “mindset” or any discussion of the placebo effect in the article."
      ],
      "text/plain": [
       "<IPython.core.display.Markdown object>"
      ]
     },
     "execution_count": 51,
     "metadata": {},
     "output_type": "execute_result"
    }
   ],
   "source": [
    "\n",
    "response = llm.invoke(prompt_template.format(\n",
    "    context=doc_content,\n",
    "    question=\"Does this article discuss the impact of mindset with regards to placebo effect?\"))\n",
    "    \n",
    "from IPython.display import Markdown\n",
    "Markdown(response.content)"
   ]
  },
  {
   "cell_type": "code",
   "execution_count": 52,
   "id": "adfe4e4f",
   "metadata": {},
   "outputs": [
    {
     "data": {
      "text/markdown": [
       "The most striking point that will catch your professor’s eye is the **statistically significant, strong positive correlation** found in the study:  \n",
       "\n",
       "- **Pearson’s r = 0.672** between doom‑scrolling and emotional exhaustion, with a **p‑value of 0.00** (well below the 0.05 threshold).  \n",
       "- This result led to a clear rejection of the null hypothesis, confirming that doom scrolling has a *considerable* negative effect on the mental health of media students in Karachi.\n",
       "\n",
       "Highlighting this precise, high‑correlation statistic shows the study’s rigorous quantitative evidence, which is sure to impress."
      ],
      "text/plain": [
       "<IPython.core.display.Markdown object>"
      ]
     },
     "execution_count": 52,
     "metadata": {},
     "output_type": "execute_result"
    }
   ],
   "source": [
    "question=\"\"\"impressive and new findings,conclusions\"\"\"\n",
    "search_results = vector_store.similarity_search_with_score(question, k=3)\n",
    "doc_content = \"\\n\\n\".join(doc.page_content for (doc,score) in search_results)\n",
    "response = llm.invoke(prompt_template.format(\n",
    "    context=doc_content,\n",
    "    question=\"\"\"What is the thing from this article that will impress my psychology prof the \n",
    "    most if i tell it to her?\"\"\"))\n",
    "    \n",
    "from IPython.display import Markdown\n",
    "Markdown(response.content)"
   ]
  },
  {
   "cell_type": "code",
   "execution_count": 43,
   "id": "e0f02060",
   "metadata": {},
   "outputs": [
    {
     "data": {
      "text/plain": [
       "[Document(metadata={'source': 'doomscroll1.pdf', 'start_index': 0}, page_content='P-ISSN: 2790-6795 O-ISSN:2790-6809\\n\\nAnnals of Human and Social Sciences\\n\\nhttp://doi.org/10.35484/ahss.2025(6-II)30\\n\\nApril-June 2025,Vol. 6, No. 2\\n\\n[357-369]\\n\\n25 , w/L\\n\\nRESEARCH PAPER\\n\\nImpact of Doom Scrolling on Mental Well-being among Media Students in Karachi\\n\\n1Dr. Sobia Usman*, 2 Tazeen Huma and 3Muhmmad Rashid Akbar\\n\\n1. Associate Professor, Media Sciences Department, Faculty of Media Sciences, Iqra University Karachi, Sindh, Pakistan\\n\\n2. PhD Scholar & Senior Lecturer, Media Sciences Department, Faculty of Media Sciences, Iqra University Karachi, Sindh, Pakistan\\n\\n3. PhD Scholar & Assistant Professor, Media Sciences Department, Faculty of Media Sciences, Iqra University Karachi, Sindh, Pakistan'),\n",
       " Document(metadata={'source': 'doomscroll1.pdf', 'start_index': 707}, page_content='Corresponding Author ABSTRACT This study assess the psychological effects of doom scrolling on the mental health of media students in Karachi. Doom scrolling the habitual consumption of negative news on social media has been linked to growing mental health issues, particularly among youth. This mixed-method study targeted undergraduate and postgraduate media students in Karachi. The population included students from seven universities: Iqra University (all campuses), University of Karachi, SZABIST, Bahria University, IOBM, Ilma University, and Indus University. A sample of 1000 students was selected via stratified random sampling for surveys, and 15 students exhibiting high doom scrolling behavior were chosen through purposive sampling for interviews. Tools included a structured questionnaire and a semi- structured interview guide. SPSS and thematic coding were used for analysis. A strong positive correlation (r = 0.672, p < 0.05) was found between doom scrolling and symptoms like'),\n",
       " Document(metadata={'source': 'doomscroll1.pdf', 'start_index': 1511}, page_content='and a semi- structured interview guide. SPSS and thematic coding were used for analysis. A strong positive correlation (r = 0.672, p < 0.05) was found between doom scrolling and symptoms like anxiety, emotional exhaustion, and poor sleep. Interview responses validated these findings. Implement media literacy programs, provide mental health support, and promote healthy digital habits across university campuses.'),\n",
       " Document(metadata={'source': 'doomscroll1.pdf', 'start_index': 1926}, page_content='sobia.usman@iqra.edu.pk\\n\\nKeywords:\\n\\nDoom Scrolling, Mental Well-being, Media Students, Social Media Use, Digital Fatigue, Anxiety, Emotional Exhaustion, Uses and Gratifications Theory, Social Comparison Theory\\n\\nIntroduction'),\n",
       " Document(metadata={'source': 'doomscroll1.pdf', 'start_index': 2151}, page_content=\"During the era of the digital age, smartphone and social media proliferation has revolutionized information consumption by people. A phenomenon that has cropped up is 'doom scrolling' or habitually reading negative news or upsetting information on online platforms, especially during crises (Muzaffar, et. al., 2019; McGowan, 2020). While staying up-to-date is critical, repeated exposure to bad news can result in elevated levels of anxiety, fatigue, and lower levels of psychological resilience (Price et al., 2022). Students studying the media may also be most at risk because they spend most of their academic and professional lives immersed in online material. Students of media studies in Karachi, the media capital of Pakistan, are not only heavy consumers, but also producers and curators, of digital content. With more online hours particularly on Twitter, Instagram, and TikTok come growing prospects for doom scrolling's psychological impacts among this group Muzaffar, et. al., 2020)\"),\n",
       " Document(metadata={'source': 'doomscroll1.pdf', 'start_index': 3148}, page_content='Doom Scrolling is defined as repetitive scrolling or going through distressing or negative news on social media, most often in terms of hours spent, nature of content consumed, and emotive response.\\n\\nAnnals of Human and Social Sciences (AHSS)\\n\\nApril-June, 2025 Vol 6, Issue 2\\n\\nMental Well-being is referred to as the emotive and psychological health of people, measured in terms such as anxiety, stress, and emotive exhaustion. Media Students are undergraduate or postgraduate students pursuing studies in media or communications courses in Karachi and actively use social media sites such as Instagram, Twitter, TikTok, YouTube, and Facebook. Coping Mechanisms include digital detox, filtering out information, or physical exercises as measures taken to neutralize negative impacts from doom scrolling.'),\n",
       " Document(metadata={'source': 'doomscroll1.pdf', 'start_index': 3953}, page_content='While doom scrolling has been referred to as a burgeoning psychological issue on an international level, there is very little research carried out in a local context in Pakistan, specifically among Karachi-based students pursuing studies in mass communication. There is a necessity to research how exposure to disturbing online content has an impact on the mental health of future communications professionals and how they understand, manage, or normalize this practice.\\n\\nLiterature Review\\n\\nThis review of literature analyzes the prior research concerning doom scrolling with a particular attention to the psychological and emotional effects it has on people behaviour. The term doom scrolling refers to the practice of persistently scrolling through feeds populated with negative social media content. This practice has attracted keen concern, especially during the worldwide pandemic, which resulted in increased social media consumption.'),\n",
       " Document(metadata={'source': 'doomscroll1.pdf', 'start_index': 4895}, page_content='The review begins with some important theories which help explain the concept of doom scrolling, particularly the Uses and Gratifications Theory and the Social Comparison Theory. These theories explain why individuals engage in this practice even when it is detrimental to their mental well-being. Then, the review looks at the anxiety, depression, and emotional burnout associated with heavy and prolonged exposure to unsettling news. These pieces of information collectively provide the basis for the study’s further investigation into the impact of doom scrolling on mental health.\\n\\nDavis et al. (2025) examined the impact of prolonged exposure to negative news on Twitter and found a significant association between doom scrolling and psychological issues such as sleep difficulties and increased irritability, particularly among college students.'),\n",
       " Document(metadata={'source': 'doomscroll1.pdf', 'start_index': 5748}, page_content='Patel and Amin (2024) studied the impact of emotion regulation on doom scrolling after the pandemic. Their study indicated that students with weak coping strategies faced much higher levels of anxiety and depression, particularly in the presence of distressing media.\\n\\nKhan et al. (2024) examined South Asian adolescents and noted how culture, including social norms and online activities, influences one’s emotional attunement to doom scrolling.\\n\\nWilliams and Carter (2023) focused on media consumption behavior in times of political unrest and documented the psychological impact of receiving continuous updates. They reported that heavy real-time crisis coverage users often experienced burnout and deep-seated hopelessness.'),\n",
       " Document(metadata={'source': 'doomscroll1.pdf', 'start_index': 6477}, page_content='Bauer and Singh (2023) investigated journalism students and found that the self- identified digital natives among them, in particular, reported feeling emotionally drained. Part of their emotional burnout stemmed from the need to be perpetually informed on current events, which was a pressure they placed on themselves.\\n\\n358\\n\\nAnnals of Human and Social Sciences (AHSS)\\n\\nApril-June, 2025 Vol 6, Issue 2\\n\\nZhou and Peng (2022) found that doom scrolling contributes to digital fatigue, which can throw off daily routines and affect mental rest. This was especially true for students who regularly tracked crisis events on TikTok.\\n\\nLee and Choi (2022) pointed out that the desire to stay informed through social media can become unhealthy especially when users are bombarded by fear-driven headlines. Their research revealed a decline in life satisfaction among young people who consumed excessive COVID-19 news.'),\n",
       " Document(metadata={'source': 'doomscroll1.pdf', 'start_index': 7387}, page_content='Thomas and Rajan (2022) found that doom scrolling was closely tied to compulsive media use and feelings of loneliness during lockdowns. Their research suggested a feedback loop, where isolation heightened the urge to seek constant updates, which in turn deepened that sense of loneliness.\\n\\nYadav and Kumari (2021) studied urban youth and revealed a strong link between doom scrolling and FOMO (fear of missing out). This fear contributed to emotional exhaustion and made it harder for students to concentrate on their studies.\\n\\nNguyen and Lopez (2021) discovered that simply being aware of doom scrolling’s negative impact wasn’t enough to stop it. Many students continued the behavior despite knowing its effects—often driven by a sense of helplessness and digital dependence.'),\n",
       " Document(metadata={'source': 'doomscroll1.pdf', 'start_index': 8166}, page_content='Park et al. (2020) highlighted how the pandemic sped up the rise of doom scrolling and urged institutions to take action. They advocated for combining mental health resources with digital literacy programs, especially in schools and universities.\\n\\nIn a foundational article, McGowan (2020) described doom scrolling as a coping strategy that backfires. He cautioned that constantly consuming negative news doesn’t just raise stress levels it can also impair our ability to think clearly and solve problems.\\n\\nWiederhold (2020) connected doom scrolling to “cyberchondria,” a type of health anxiety fueled by obsessive online searching. He emphasized the importance of media literacy in helping people recognize and manage these harmful patterns.'),\n",
       " Document(metadata={'source': 'doomscroll1.pdf', 'start_index': 8910}, page_content='Roth and Arnold (2019) examined how media multitasking affects attention and emotional regulation. Their findings showed that doom scrolling can hurt cognitive performance and make it harder for people to emotionally bounce back after viewing distressing content.\\n\\nVaterlaus et al. (2019) looked into how digital natives evaluate the credibility of news. They found that doom scrolling often leads to skepticism and mental exhaustion, especially when users struggle to tell the difference between reliable information and misinformation.\\n\\nSmith et al. (2018) studied how social media algorithms influence what users see and found that platforms often amplify sensational content. This tendency creates a feedback loop that encourages more doom scrolling.'),\n",
       " Document(metadata={'source': 'doomscroll1.pdf', 'start_index': 9666}, page_content='In a comprehensive meta-analysis, Keles, McCrae, and Grealish (2020) confirmed a strong connection between frequent exposure to distressing content on social media and the development of emotional issues like anxiety and depression in adolescents.\\n\\nAlthough comprehensive studies have been discovered the connection among doom scrolling and psychological consequences, there is a prominent shortage of study focusing on the context of Pakistani particularly between the media students who are professionally qualified to engage with the media content. Besides, most current studies are quantitative\\n\\n359\\n\\nAnnals of Human and Social Sciences (AHSS)\\n\\nApril-June, 2025 Vol 6, Issue 2\\n\\nin nature and are unable to identify the nuanced experiences of people affected by this behavior. This research seeks to address these study gaps by using a mixed-methods design and concentrating precisely on media studies students in Karachi.\\n\\nHypotheses'),\n",
       " Document(metadata={'source': 'doomscroll1.pdf', 'start_index': 10593}, page_content=\"Hypotheses\\n\\nH₀: Doom scrolling has no considerable effect on Karachi-based media students' mental health.\\n\\nH₁: Doom scrolling has a considerable effect on the mental health of Karachi's media students.\\n\\nTheoretical Framework\\n\\nUses and Gratifications Theory (UGT)\\n\\nUses and Gratifications Theory indicates that people actively seek out media to fulfill specific needs such as acquiring information, reinforcing personal identity, achieving social integration, or managing emotions (Katz, Blumler, & Gurevitch, 1973). In times of uncertainty, students may rely on social media to stay informed or feel a sense of connection. However, frequent exposure to distressing content can lead to unintended psychological impacts.\\n\\nRelevance: UGT helps explain why media students engage in doom scrolling often for emotional regulation or information-seeking even though it may negatively affect their mental well-being.\\n\\nSocial Comparison Theory\"),\n",
       " Document(metadata={'source': 'doomscroll1.pdf', 'start_index': 11503}, page_content='Social Comparison Theory\\n\\nSocial Comparison Theory, introduced by Festinger (1954), proposes that individuals assess their social and personal worth based on comparisons with others. On social media, students are frequently exposed to idealized depictions of success, productivity, or crisis handling. This can intensify feelings of inadequacy or anxiety. During doom scrolling, students may also compare their emotional responses or coping mechanisms strain. Relevance: Social Comparison theory explains how persistent social comparison through doom scrolling can lead to increased emotional turmoil and adverse mental health effects\\n\\nwith\\n\\nothers’,\\n\\nfurther\\n\\ncompounding\\n\\nemotional\\n\\nConceptual Framework\\n\\nThis study’s conceptual framework associates the habit of doom scrolling with adverse mental health effects such as anxiety, depression, and emotional burnout, while finding coping mechanisms as a mediating variables. It builds upon two basic theoretical paradigms:'),\n",
       " Document(metadata={'source': 'doomscroll1.pdf', 'start_index': 12477}, page_content='UGT: It enlightens the stimuli behind the behavior of doom scrolling.\\n\\nSocial Comparison Theory: It clarifies the emotional effects of the self-comparing with peers on social media platforms\\n\\nMaterial and Method\\n\\nResearch Design\\n\\nIn this study the researcher employed a mixed-method research designed to thoroughly examine the psychological influence of doom scrolling on the media students in\\n\\n360\\n\\nAnnals of Human and Social Sciences (AHSS)\\n\\nApril-June, 2025 Vol 6, Issue 2\\n\\nKarachi. The quantitative part employed the administration of the structured questionnaires, whereas the qualitative part employed in-depth interviews.\\n\\nQuantitative Method\\n\\nFor the quantitative part, data was collected using a structured, closed-ended questionnaire. This survey measured the key variables such as the frequency of doom scrolling, signs of psychological distress, and coping mechanisms.\\n\\nQualitative Method'),\n",
       " Document(metadata={'source': 'doomscroll1.pdf', 'start_index': 13359}, page_content='Qualitative Method\\n\\nTo complement the survey data, ten media students who exhibited high levels of doom scrolling and emotional distress were selected for one-on-one interviews. These interviews were semi-structured, encouraging open discussion about their personal experiences, perceptions, and coping strategies.\\n\\nSampling\\n\\nUniverse\\n\\nThe Universe for this study comprised all undergraduate and postgraduate media\\n\\nstudents in Karachi.\\n\\nPopulation\\n\\nThe Population included media students enrolled in the following universities in\\n\\nKarachi:\\n\\nIqra University (all campuses) Indus University\\n\\n\\uf0b7 \\uf0b7 Bahria University (Karachi Campus) \\uf0b7 SZABIST University \\uf0b7 University of Karachi IOBM University \\uf0b7 Ilma University \\uf0b7\\n\\nSample'),\n",
       " Document(metadata={'source': 'doomscroll1.pdf', 'start_index': 13891}, page_content='Karachi:\\n\\nIqra University (all campuses) Indus University\\n\\n\\uf0b7 \\uf0b7 Bahria University (Karachi Campus) \\uf0b7 SZABIST University \\uf0b7 University of Karachi IOBM University \\uf0b7 Ilma University \\uf0b7\\n\\nSample\\n\\nThe Sample consisted of 1000 students selected using stratified random sampling for the quantitative survey, ensuring proportional representation from each listed institution. For the qualitative portion, 15 students demonstrating signs of excessive doom scrolling were selected through purposive sampling for in-depth interviews.\\n\\nData Collection Tools\\n\\nQuestionnaire: Multiple-choice questions addressing social media habits, emotional states, and coping strategies.\\n\\n\\n\\nInterview Guide: Open-ended questions focusing on emotional experiences, awareness of doom scrolling, and personal strategies for digital well-being.\\n\\nData Analysis\\n\\nQuantitative Data: Analyzed using SPSS for descriptive statistics and correlations.\\n\\n361\\n\\nAnnals of Human and Social Sciences (AHSS)\\n\\nApril-June, 2025 Vol 6, Issue 2'),\n",
       " Document(metadata={'source': 'doomscroll1.pdf', 'start_index': 14702}, page_content='Data Analysis\\n\\nQuantitative Data: Analyzed using SPSS for descriptive statistics and correlations.\\n\\n361\\n\\nAnnals of Human and Social Sciences (AHSS)\\n\\nApril-June, 2025 Vol 6, Issue 2\\n\\nQualitative Data: Analyzed through thematic coding to identify recurring patterns and themes.\\n\\nEthical Considerations\\n\\nConfidentiality, informed consent, voluntary participation, and the right to withdraw was ensured. Ethical approval was obtained from the institutional review board.\\n\\nValidity and Reliability\\n\\nPilot testing was conducted to ensure the clarity and reliability of the questionnaire.\\n\\nTriangulation of quantitative and qualitative findings enhanced the validity.\\n\\nResults and Discussions\\n\\nThis chapter of the study presents the outcomes of the data gathered through both quantitative and qualitative methods. The outcomes are discussed in connection with the study’s objectives and theoretical framework, which includes Uses and Gratifications Theory and Social Comparison Theory.'),\n",
       " Document(metadata={'source': 'doomscroll1.pdf', 'start_index': 15682}, page_content='Table 1 Demographic Characteristics of Respondents (N = 1000)\\n\\nVariable\\n\\nCategory\\n\\nFrequency\\n\\nPercentage (%)\\n\\nGender\\n\\nFemale\\n\\n640\\n\\n64\\n\\nMale\\n\\n360\\n\\n36\\n\\nAge\\n\\n18–20\\n\\n320\\n\\n32\\n\\n21–24\\n\\n460\\n\\n46\\n\\n25–28\\n\\n220\\n\\n22\\n\\nUniversity\\n\\nIqra University (other Campuses)\\n\\n140\\n\\n14\\n\\nSzabist\\n\\n133\\n\\n13.3\\n\\nUoK\\n\\n147\\n\\n14.7\\n\\nBahria University\\n\\n153\\n\\n15.3\\n\\nIOBM\\n\\n120\\n\\n12\\n\\nIqra University\\n\\n300\\n\\n30\\n\\nIndus University (Main Campus)\\n\\n147\\n\\n14.7'),\n",
       " Document(metadata={'source': 'doomscroll1.pdf', 'start_index': 15897}, page_content='Iqra University (other Campuses)\\n\\n140\\n\\n14\\n\\nSzabist\\n\\n133\\n\\n13.3\\n\\nUoK\\n\\n147\\n\\n14.7\\n\\nBahria University\\n\\n153\\n\\n15.3\\n\\nIOBM\\n\\n120\\n\\n12\\n\\nIqra University\\n\\n300\\n\\n30\\n\\nIndus University (Main Campus)\\n\\n147\\n\\n14.7\\n\\nThe sample for this study consisted of 1000 media students from various universities in Karachi. A majority (64%) were female, indicating that female students might be more engaged in or affected by doom scrolling, or simply more willing to participate in such surveys. The age distribution was dominated by the 21–24 age group (46%), which aligns with typical undergraduate or early graduate student ages. The sample was relatively evenly distributed across seven institutions, which strengthens the representativeness of the data. This demographic context helps frame the subsequent findings and supports the generalizability of the study to similar urban, media-educated youth.\\n\\nTable 2 Time Spent on Doom Scrolling per Day\\n\\nTime Spent Less than 1 hour 1–2 hours More than 2 hours'),\n",
       " Document(metadata={'source': 'doomscroll1.pdf', 'start_index': 16772}, page_content='Table 2 Time Spent on Doom Scrolling per Day\\n\\nTime Spent Less than 1 hour 1–2 hours More than 2 hours\\n\\nFrequency 270 320 410\\n\\nPercentage (%) 27 32 41\\n\\nThe results show that 41% of students spent more than two hours a day doom scrolling, while only 27% kept their exposure under one hour. This suggests that a significant portion of students regularly engage in prolonged exposure to negative online content. This extended screen time focused on distressing material could have direct implications on their emotional well-being and academic focus. The finding is particularly\\n\\n362\\n\\nAnnals of Human and Social Sciences (AHSS)\\n\\nApril-June, 2025 Vol 6, Issue 2\\n\\nconcerning given the known effects of overexposure to negative media on mental health, such as increased anxiety and emotional fatigue.\\n\\nTable 3 Common Platforms Used for Doom Scrolling\\n\\nPlatform Twitter/X\\n\\nFrequency 630\\n\\nPercentage (%) 63\\n\\nInstagram TikTok\\n\\n580 390\\n\\n58 39'),\n",
       " Document(metadata={'source': 'doomscroll1.pdf', 'start_index': 17567}, page_content='Table 3 Common Platforms Used for Doom Scrolling\\n\\nPlatform Twitter/X\\n\\nFrequency 630\\n\\nPercentage (%) 63\\n\\nInstagram TikTok\\n\\n580 390\\n\\n58 39\\n\\nYouTube Facebook witter (63%) and Instagram (58%) emerged as the top platforms where students reported engaging in doom scrolling. These platforms are known for real-time news updates, trending hashtags, and emotionally charged content—factors that make them fertile ground for doom scrolling behavior. TikTok and YouTube also featured prominently, suggesting that short video formats may contribute to rapid, repetitive consumption of distressing news. Facebook, while still present, was used less frequently (29%), possibly due to a generational shift in platform preference. These patterns help identify where interventions or awareness campaigns could be most effective.\\n\\n340 290\\n\\n34 29\\n\\nTable 4 Psychological Effects of Doom Scrolling (Self-Reported)\\n\\nSymptom Anxiety\\n\\nHigh (%) 57\\n\\nModerate (%) 29\\n\\nLow (%) 14\\n\\nEmotional Exhaustion Sleep Disturbance'),\n",
       " Document(metadata={'source': 'doomscroll1.pdf', 'start_index': 18381}, page_content='340 290\\n\\n34 29\\n\\nTable 4 Psychological Effects of Doom Scrolling (Self-Reported)\\n\\nSymptom Anxiety\\n\\nHigh (%) 57\\n\\nModerate (%) 29\\n\\nLow (%) 14\\n\\nEmotional Exhaustion Sleep Disturbance\\n\\n49 61\\n\\n36 —\\n\\n15 39\\n\\nTrouble Concentrating The psychological impacts reported by students were significant: 61% experienced sleep disturbances, possibly due to late-night scrolling or cognitive overstimulation. 57% reported high levels of anxiety, showing a strong correlation between doom scrolling and emotional distress. 52% had trouble concentrating, indicating potential academic consequences. 49% felt emotionally exhausted, which could affect motivation and general well-being.\\n\\n52\\n\\n—\\n\\n48\\n\\nThese findings highlight that doom scrolling is not a harmless habit it is associated with real psychological stress. For students, these effects may compound existing academic pressures, leading to burnout or disengagement.\\n\\nStatistical Correlation'),\n",
       " Document(metadata={'source': 'doomscroll1.pdf', 'start_index': 19283}, page_content='Statistical Correlation\\n\\nA positive correlation (r = 0.62, p < 0.01) was found between time spent doom\\n\\nscrolling and self-reported anxiety levels.\\n\\nInterpretation: This validates the link between digital content consumption and\\n\\npsychological distress, supporting both Social Comparison Theory and prior literature.\\n\\nTable 5 Awareness and Coping Strategies for Doom Scrolling Category Yes\\n\\nVariable Awareness of Term\\n\\nFrequency 470\\n\\nPercentage (%) 47\\n\\nCoping: Limit Screen Time\\n\\nNo Yes\\n\\n530 430\\n\\n53 43\\n\\nCoping: Unfollow Negative Pages Coping: Digital Detox\\n\\nYes Yes\\n\\n370 250\\n\\n37 25\\n\\n363\\n\\nAnnals of Human and Social Sciences (AHSS)\\n\\nApril-June, 2025 Vol 6, Issue 2\\n\\nCoping: Offline Activities\\n\\nYes\\n\\n220\\n\\n22'),\n",
       " Document(metadata={'source': 'doomscroll1.pdf', 'start_index': 19842}, page_content='Yes Yes\\n\\n370 250\\n\\n37 25\\n\\n363\\n\\nAnnals of Human and Social Sciences (AHSS)\\n\\nApril-June, 2025 Vol 6, Issue 2\\n\\nCoping: Offline Activities\\n\\nYes\\n\\n220\\n\\n22\\n\\nLess than half of the students (47%) were familiar with the term “doom scrolling,” even though most were engaged in the behavior. This gap points to a lack of awareness and media literacy about the psychological impact of online habits. Regarding coping strategies: 43% tried to limit screen time, 37% unfollowed negative content, and only 25% attempted digital detoxes.\\n\\nThis shows that while students recognize the need to manage their media consumption, few are using structured or effective coping techniques. The low uptake of offline activities (22%) also suggests that students may struggle to replace screen time with healthier alternatives. There is a clear need for guidance on digital well-being practices.\\n\\nTable 6 Pearson Correlation between Doom Scrolling and Mental Well-being Indicators\\n\\nVariables\\n\\nr\\n\\np-value'),\n",
       " Document(metadata={'source': 'doomscroll1.pdf', 'start_index': 20710}, page_content='Table 6 Pearson Correlation between Doom Scrolling and Mental Well-being Indicators\\n\\nVariables\\n\\nr\\n\\np-value\\n\\nDoom Scrolling & Anxiety\\n\\n0.614\\n\\n0.00\\n\\nDoom Scrolling & Emotional Fatigue\\n\\n0.672\\n\\n0.00\\n\\nDoom Scrolling & Sleep Issues\\n\\n0.492\\n\\n0.00\\n\\nThere is a statistically significant and strong positive correlation between doom\\n\\nscrolling and negative mental health symptoms.\\n\\nThe results indicate statistically significant positive correlations between doom scrolling and all three mental health symptoms (p < .05). The correlation is strongest between doom scrolling and emotional fatigue (r = 0.672), followed by anxiety (r = 0.614), and sleep issues (r = 0.492). This suggests that increased doom scrolling is consistently associated with worsening mental health indicators among media students.\\n\\nTheme Emotional Immersion Comparison and Guilt Algorithmic Trap Attempts at Regulation'),\n",
       " Document(metadata={'source': 'doomscroll1.pdf', 'start_index': 21505}, page_content='Theme Emotional Immersion Comparison and Guilt Algorithmic Trap Attempts at Regulation\\n\\nTable 7 Themes from Interviews (n = 15) Description Students felt they couldn’t stop scrolling even when it made them upset. Seeing others \"cope better\" made them feel worse about their own struggles. The more they scrolled, the more negative content they saw. Some students tried timers or detoxes but struggled to stick with them.\\n\\nThe qualitative interviews enriched the survey data by providing personal insights\\n\\ninto students\\' lived experiences:\\n\\nEmotional Immersion: Students described a compulsive attachment to doom scrolling, even when they knew it was harmful. This suggests addictive patterns.\\n\\nComparison and Guilt: Many compared themselves to others who appeared more resilient online, leading to feelings of self-doubt and inadequacy.'),\n",
       " Document(metadata={'source': 'doomscroll1.pdf', 'start_index': 22200}, page_content='Comparison and Guilt: Many compared themselves to others who appeared more resilient online, leading to feelings of self-doubt and inadequacy.\\n\\nAlgorithmic Trap: Several students recognized that the more negative content they engaged with, the more the platforms recommended similar content, creating a feedback loop of distress.\\n\\nAttempts at Regulation: While some students tried to manage their habits, most found it hard to maintain changes, showing that intent does not always lead to sustained behavior change.\\n\\nThese narratives reveal the psychological complexity behind doom scrolling it’s not just about time spent online, but also about how digital platforms and personal emotions intertwine.\\n\\nQualitative Findings Summary\\n\\n364\\n\\nAnnals of Human and Social Sciences (AHSS)\\n\\nApril-June, 2025 Vol 6, Issue 2\\n\\nDoom scrolling is common and persistent among media students in Karachi.\\n\\n\\n\\nIt is linked to anxiety, poor sleep, concentration issues, and emotional fatigue.'),\n",
       " Document(metadata={'source': 'doomscroll1.pdf', 'start_index': 22982}, page_content='April-June, 2025 Vol 6, Issue 2\\n\\nDoom scrolling is common and persistent among media students in Karachi.\\n\\n\\n\\nIt is linked to anxiety, poor sleep, concentration issues, and emotional fatigue.\\n\\nTwitter and Instagram are key platforms driving this behavior.\\n\\nWhile students are aware of its harmful effects, few are equipped with effective coping tools.\\n\\nQualitative insights confirm that doom scrolling feels addictive, is emotionally draining, and is reinforced by platform algorithms.\\n\\nThematic analysis of interviews revealed the following key themes:\\n\\n1. Digital Exhaustion: Students mentioned feeling mentally and emotionally drained.\\n\\n2. Awareness and Guilt: While many knew about doom scrolling, they still felt compelled to continue.\\n\\n3. Coping Attempts: Some practiced digital detox, but found it difficult to sustain.\\n\\nTable 8 Correlation Test Summary for Hypothesis Testing Test\\n\\nr value\\n\\np-value\\n\\nResult'),\n",
       " Document(metadata={'source': 'doomscroll1.pdf', 'start_index': 23723}, page_content='3. Coping Attempts: Some practiced digital detox, but found it difficult to sustain.\\n\\nTable 8 Correlation Test Summary for Hypothesis Testing Test\\n\\nr value\\n\\np-value\\n\\nResult\\n\\nDoom Scrolling & Well-being As the p-value is less than 0.05, the null hypothesis is rejected and the alternative hypothesis is accepted. This means doom scrolling significantly affects the mental well- being of media students.\\n\\n0.672\\n\\n0.00\\n\\nH₁ Supported\\n\\nThe test result shows a strong, statistically significant positive correlation between doom scrolling and deteriorating mental well-being (r = 0.672, p = 0.000). As the p-value is less than 0.05, the null hypothesis (H₀) which stated that doom scrolling does not significantly impact mental well-being is rejected. Therefore, the alternative hypothesis (H₁) is supported, confirming that doom scrolling significantly impacts the mental well-being of media students in Karachi.'),\n",
       " Document(metadata={'source': 'doomscroll1.pdf', 'start_index': 24631}, page_content=\"Based on the findings especially the statistical significance (p = 0.00 < 0.05) in the correlation between doom scrolling and mental health indicators like anxiety, depression, and emotional exhaustion we can conclude the following:\\n\\nH₁: Doom scrolling has a considerable effect on the mental health of Karachi's media students.\\n\\nNull Hypothesis (H₀) is Rejected.\\n\\nH₀: Doom scrolling has no considerable effect on Karachi-based media students' mental health.\\n\\nRationale for Validation of H₁:\\n\\nThe Pearson correlation coefficient shows a strong positive relationship (r = 0.672) between doom scrolling and emotional exhaustion.\\n\\nMost students reported moderate to high levels of anxiety and stress directly linked with prolonged consumption of negative content online.\\n\\n365\\n\\nAnnals of Human and Social Sciences (AHSS)\\n\\nApril-June, 2025 Vol 6, Issue 2\"),\n",
       " Document(metadata={'source': 'doomscroll1.pdf', 'start_index': 25400}, page_content='365\\n\\nAnnals of Human and Social Sciences (AHSS)\\n\\nApril-June, 2025 Vol 6, Issue 2\\n\\nQualitative insights from interviews supported the data, with respondents describing feelings of helplessness, anxiety spikes, and sleep issues due to doom scrolling.\\n\\nThese findings are aligned with prior research (e.g., McGowan, 2020; Price et al.,\\n\\n2022) and support theories like:\\n\\nUses and Gratifications Theory (seeking news but ending up emotionally drained),\\n\\nSocial Comparison Theory (comparing their struggles with others’ online narratives)\\n\\nDiscussion\\n\\nThe findings indicate that doom scrolling is both common and psychologically taxing for media students in Karachi. The quantitative data shows a statistically significant link between doom scrolling and mental distress, while the qualitative interviews provide rich context into the lived experiences behind the numbers.\\n\\nUGT Relevance: Students engage in doom scrolling to fulfill emotional and informational needs, especially during uncertainty.'),\n",
       " Document(metadata={'source': 'doomscroll1.pdf', 'start_index': 26269}, page_content='UGT Relevance: Students engage in doom scrolling to fulfill emotional and informational needs, especially during uncertainty.\\n\\nSocial Comparison Theory: Perceptions of how others respond to crises further deepen personal distress.\\n\\nGaps Identified\\n\\nLack of awareness about the psychological effects of doom scrolling.\\n\\nNeed for institutional or curriculum-level digital hygiene education.\\n\\nUnderutilization of structured coping mechanisms.\\n\\nKey Findings\\n\\nMajority of students engage in doom scrolling for more than 2 hours daily.\\n\\nStrong correlations were found between doom scrolling and symptoms such as anxiety, emotional fatigue, and poor sleep.\\n\\nQualitative insights align with statistical findings.\\n\\nH₁ (Doom scrolling significantly impacts mental well-being) is statistically validated.\\n\\nSummary'),\n",
       " Document(metadata={'source': 'doomscroll1.pdf', 'start_index': 26920}, page_content='Qualitative insights align with statistical findings.\\n\\nH₁ (Doom scrolling significantly impacts mental well-being) is statistically validated.\\n\\nSummary\\n\\nThis study examined the impact of doom scrolling on the mental well-being of media students in Karachi through a mixed-methods approach. Findings from the survey and interviews reveal a significant relationship between prolonged doom scrolling and symptoms such as anxiety, emotional fatigue, and sleep disturbance.\\n\\nThese results not only validate the hypothesis that doom scrolling adversely affects mental well-being but also highlight the complex psychological and behavioral patterns associated with excessive digital consumption.\\n\\n366\\n\\nAnnals of Human and Social Sciences (AHSS)\\n\\nApril-June, 2025 Vol 6, Issue 2'),\n",
       " Document(metadata={'source': 'doomscroll1.pdf', 'start_index': 27610}, page_content='366\\n\\nAnnals of Human and Social Sciences (AHSS)\\n\\nApril-June, 2025 Vol 6, Issue 2\\n\\nBy applying Uses and Gratifications Theory and Social Comparison Theory, the research provides valuable insight into the motivations behind doom scrolling and its emotional consequences. This underscores the urgent need for digital wellness education and platform-level reforms to mitigate these negative effects. The study also opens new pathways for future research, particularly in exploring coping strategies and designing interventions tailored for young digital natives.\\n\\nConclusion'),\n",
       " Document(metadata={'source': 'doomscroll1.pdf', 'start_index': 28170}, page_content='Conclusion\\n\\nThis study demonstrates that doom scrolling has a significant negative impact on the mental well-being of media students in Karachi. The results reveal strong correlations between prolonged exposure to distressing online content and increased levels of anxiety, emotional exhaustion, sleep disturbances, and concentration issues. The findings are supported by both quantitative data and qualitative insights, and align with Uses and Gratifications Theory and Social Comparison Theory, which explain the emotional and social drivers behind this behavior\\n\\nRecommendations'),\n",
       " Document(metadata={'source': 'doomscroll1.pdf', 'start_index': 28736}, page_content='Recommendations\\n\\nTo alleviate these effects, universities should incorporate digital wellness and media literacy education into their academic programs. Institutions must also provide accessible mental health support and promote healthier screen habits through awareness campaigns. Social media platforms should introduce usage alerts and reduce algorithmic exposure to negative content. Additionally, students should be encouraged to engage in offline activities, and future research should focus on sustainable coping strategies tailored to the needs of digital-native youth.\\n\\n367\\n\\nAnnals of Human and Social Sciences (AHSS)\\n\\nApril-June, 2025 Vol 6, Issue 2\\n\\nReferences\\n\\nBauer, R., & Singh, D. (2023). Journalism students and the responsibility to scroll. Journalism\\n\\n& Youth, 5(3), 73–89.\\n\\nDavis, L., Ahmed, R., & Zhou, Y. (2025). Twitter use and doomscrolling: Psychological impacts\\n\\non university students. Journal of Digital Psychology, 3(1), 15–28.'),\n",
       " Document(metadata={'source': 'doomscroll1.pdf', 'start_index': 29506}, page_content='& Youth, 5(3), 73–89.\\n\\nDavis, L., Ahmed, R., & Zhou, Y. (2025). Twitter use and doomscrolling: Psychological impacts\\n\\non university students. Journal of Digital Psychology, 3(1), 15–28.\\n\\nFestinger, L. (1954). A theory of social comparison processes. Human Relations, 7(2), 117–\\n\\n140.\\n\\nKatz, E., Blumler, J. G., & Gurevitch, M. (1973). Uses and gratifications research. The Public\\n\\nOpinion Quarterly, 37(4), 509–523.\\n\\nKeles, B., McCrae, N., & Grealish, A. (2020). Systematic review: Social media use and\\n\\nadolescent mental health. Journal of Adolescence, 79, 1–17.\\n\\nKhan, S., Rizvi, A., & Jameel, F. (2024). Cultural aspects of doomscrolling among South Asian\\n\\nyouth. South Asia Communication Review, 6(1), 50–66.\\n\\nLee, K., & Choi, M. (2022). Staying updated vs. staying sane. Journal of Youth Psychology,\\n\\n19(3), 200–214.'),\n",
       " Document(metadata={'source': 'doomscroll1.pdf', 'start_index': 30166}, page_content='youth. South Asia Communication Review, 6(1), 50–66.\\n\\nLee, K., & Choi, M. (2022). Staying updated vs. staying sane. Journal of Youth Psychology,\\n\\n19(3), 200–214.\\n\\nMcGowan, H. (2020). Doomscrolling: The dark side of staying informed. The Atlantic. Nguyen, A., & Lopez, J. (2021). Understanding doomscrolling awareness and practice. Cyber Behavior Journal, 4(3), 130–145\\n\\nMuzaffar, M., Chohdhry, S., & Afzal, N. (2019). Social Media and Political Awareness in\\n\\nPakistan: A Case Study of Youth, Pakistan Social Sciences Review, 3 (II), 1-13\\n\\nMuzaffar, M., Yaseen, Z. & Safdar, S. (2020). Role of Social Media in Political Campaigns in Pakistan: A Case of Study of 2018 Elections, Journal of Political Studies, 27 (2), 141-151\\n\\nPark, J., Kim, Y., & Lee, S. (2020). Institutional responses to pandemic-induced media\\n\\nbehavior. Education & Mental Health, 12(4), 90–105.\\n\\nPatel, R., & Amin, T. (2024). Emotion regulation and doomscrolling in post-pandemic'),\n",
       " Document(metadata={'source': 'doomscroll1.pdf', 'start_index': 30978}, page_content='behavior. Education & Mental Health, 12(4), 90–105.\\n\\nPatel, R., & Amin, T. (2024). Emotion regulation and doomscrolling in post-pandemic\\n\\nstudents. Asian Journal of Media Psychology, 8(2), 89–103.\\n\\nPrice, M., Legrand, A. C., Brier, Z. M., & Hébert-Dufresne, L. (2022). Doomscrolling during COVID-19: The negative psychological consequences of consuming negative news. Health Communication, 37(5), 651–660.\\n\\nRoth, A., & Arnold, M. (2019). Media multitasking and emotional recovery. Journal of\\n\\nCognitive Psychology, 31(7), 730–742.\\n\\nSmith, R., Jones, H., & Bailey, P. (2018). Algorithms and media consumption. Digital Culture\\n\\n& Society, 4(1), 88–104.\\n\\nSweller, J. (1988). Cognitive load during problem solving: Effects on learning. Cognitive\\n\\nScience, 12(2), 257–285.\\n\\nThomas, N., & Rajan, M. (2022). Loneliness and compulsive news consumption. Psychology\\n\\n& Technology, 9(1), 60–72.\\n\\n368\\n\\nAnnals of Human and Social Sciences (AHSS)\\n\\nApril-June, 2025 Vol 6, Issue 2'),\n",
       " Document(metadata={'source': 'doomscroll1.pdf', 'start_index': 31747}, page_content='Thomas, N., & Rajan, M. (2022). Loneliness and compulsive news consumption. Psychology\\n\\n& Technology, 9(1), 60–72.\\n\\n368\\n\\nAnnals of Human and Social Sciences (AHSS)\\n\\nApril-June, 2025 Vol 6, Issue 2\\n\\nVaterlaus, J. M., Patten, E. V., Roche, C., & Young, J. A. (2019). Social media and credibility:\\n\\nDigital fatigue among youth. Youth & Media Journal, 13(2), 45–60.\\n\\nWiederhold, B. K. (2020). Social media use during pandemic lockdowns: Mental health\\n\\nimplications. Cyberpsychology, Behavior, and Social Networking, 23(5), 277–278.\\n\\nWilliams, T., & Carter, J. (2023). News consumption during political crises: A media fatigue\\n\\nperspective. Media & Society, 17(4), 120–135.\\n\\nYadav, P., & Kumari, S. (2021). Urban youth, FOMO, and doomscrolling. Urban\\n\\nCommunication Review, 7(2), 101–118.\\n\\nZhou, L., & Peng, H. (2022). TikTok and digital fatigue among students. Social Media Studies,\\n\\n11(2), 34–47.\\n\\n369')]"
      ]
     },
     "execution_count": 43,
     "metadata": {},
     "output_type": "execute_result"
    }
   ],
   "source": [
    "file_path = \"doomscroll1.pdf\"\n",
    "loader2 = UnstructuredPDFLoader(file_path)\n",
    "docs2 = loader2.load()\n",
    "\n",
    "all_splits2 = text_splitter.split_documents(docs2)\n",
    "embeddings = GoogleGenerativeAIEmbeddings(model=\"models/text-embedding-004\")\n",
    "vector_store = InMemoryVectorStore(embeddings)\n",
    "document_ids2 = vector_store.add_documents(documents=all_splits2)\n",
    "all_splits2"
   ]
  },
  {
   "cell_type": "code",
   "execution_count": 69,
   "id": "a0e11be3",
   "metadata": {},
   "outputs": [],
   "source": [
    "question=\"doomscrolling definition, why is it so common nowadays\"\n",
    "search_results2 = vector_store.similarity_search_with_score(question, k=1)\n",
    "doc_content2 = \"\\n\\n\".join(doc.page_content for (doc,score) in search_results2)"
   ]
  },
  {
   "cell_type": "code",
   "execution_count": 66,
   "id": "02d96354",
   "metadata": {},
   "outputs": [
    {
     "data": {
      "text/markdown": [
       "**Doomscrolling** is the habit of repeatedly scrolling through negative news or distressing content online, often as a coping mechanism that ultimately backfires (McGowan, 2020).  \n",
       "\n",
       "**Why it’s become so common today**\n",
       "\n",
       "| Factor | Explanation |\n",
       "|--------|-------------|\n",
       "| **Pandemic acceleration** | The COVID‑19 crisis intensified doomscrolling, prompting Park et al. (2020) to warn that the habit was spreading rapidly and calling for institutional intervention. |\n",
       "| **Mental‑health and media overload** | Constant exposure to bad news raises stress and hampers clear thinking and problem‑solving, making the behavior self‑reinforcing (McGowan, 2020). |\n",
       "| **Cyberchondria link** | Wiederhold (2020) linked doomscrolling to health anxiety, where obsessive online searching fuels worry; media literacy is key to breaking this loop. |\n",
       "| **Digital culture** | The ease of accessing endless streams of content, combined with algorithmic amplification of sensational stories, makes doomscrolling almost unavoidable without conscious effort. |\n",
       "\n",
       "In short, doomscrolling is a compulsive, negative‑news‑driven coping strategy that has surged during the pandemic and is sustained by the interplay of stress, health anxiety, and the design of online platforms. Institutions are urged to blend mental‑health resources with digital literacy training to help users recognize and curb these harmful patterns."
      ],
      "text/plain": [
       "<IPython.core.display.Markdown object>"
      ]
     },
     "execution_count": 66,
     "metadata": {},
     "output_type": "execute_result"
    }
   ],
   "source": [
    "\n",
    "prompt_template2 = \"\"\"You are a research assistant for a school principal who has to give a \n",
    "speech on the adverse effects of doomscrolling, use the following pieces of context to answer\n",
    "her questions. be concise and elaborate where necessary. answer solely based on the context\n",
    "NO OUTSIDE INFO SHOULD BE USED.\n",
    "Question: {question} \n",
    "Context: {context} \n",
    "Answer:\"\"\"\n",
    "\n",
    "response = llm.invoke(prompt_template2.format(\n",
    "    context=doc_content2,\n",
    "    question=\"What is doomscrolling, why is it so common nowadays \"))\n",
    "    \n",
    "from IPython.display import Markdown\n",
    "Markdown(response.content)"
   ]
  },
  {
   "cell_type": "code",
   "execution_count": null,
   "id": "fd92c1a5",
   "metadata": {},
   "outputs": [],
   "source": [
    "question=\"Effect of doomscrolling on attention span,concentration, productivity\"\n",
    "search_results2 = vector_store.similarity_search_with_score(question, k=1)\n",
    "doc_content2 = \"\\n\\n\".join(doc.page_content for (doc,score) in search_results2)"
   ]
  },
  {
   "cell_type": "code",
   "execution_count": 76,
   "id": "67b07b3e",
   "metadata": {},
   "outputs": [
    {
     "data": {
      "text/markdown": [
       "**Answer**\n",
       "\n",
       "The excerpt you provided outlines the study’s methodology and indicates that the results and discussion sections will link the findings to the study’s objectives and theoretical framework (Uses and Gratifications Theory and Social Comparison Theory). However, the specific outcome regarding whether doomscrolling shortens our attention span is **not** included in the text you shared. Therefore, based solely on the provided context, we cannot confirm whether the study found a shortening of attention span."
      ],
      "text/plain": [
       "<IPython.core.display.Markdown object>"
      ]
     },
     "execution_count": 76,
     "metadata": {},
     "output_type": "execute_result"
    }
   ],
   "source": [
    "\n",
    "\n",
    "response = llm.invoke(prompt_template2.format(\n",
    "    context=doc_content2,\n",
    "    question=\"Does it shorten our attention span?\"))\n",
    "    \n",
    "from IPython.display import Markdown\n",
    "Markdown(response.content)"
   ]
  },
  {
   "cell_type": "code",
   "execution_count": 47,
   "id": "f2da1c33",
   "metadata": {},
   "outputs": [
    {
     "data": {
      "text/markdown": [
       "**Founders Day Speech – The Hidden Cost of Doomscrolling**\n",
       "\n",
       "Good morning, distinguished guests, faculty, students, and fellow alumni.  \n",
       "Today, as we celebrate the spirit of innovation and resilience that our founders instilled in us, I would like to bring your attention to a silent threat that challenges the very well‑being of our students—doomscrolling.\n",
       "\n",
       "**What is doomscrolling?**  \n",
       "In our digital age, students often turn to social media for information, connection, and emotional regulation—what the Uses and Gratifications Theory (UGT) calls “emotional and informational needs.” Yet, the content they consume is frequently distressing, especially during uncertain times.\n",
       "\n",
       "**Why does it matter?**  \n",
       "Our recent mixed‑method study of media students in Karachi revealed:\n",
       "\n",
       "- **More than two hours of doomscrolling daily** for the majority of participants.  \n",
       "- **Strong correlations** between prolonged doomscrolling and symptoms of **anxiety, emotional fatigue, and poor sleep**.  \n",
       "- Qualitative interviews confirmed that students feel **inadequate and anxious** after comparing themselves to the idealized success or crisis‑handling of peers—a phenomenon explained by Social Comparison Theory.\n",
       "\n",
       "**The psychological toll**  \n",
       "When students continuously compare themselves to others’ curated lives, they experience heightened emotional turmoil. The constant influx of distressing news fuels anxiety and depression, while the urge to stay updated undermines sleep and concentration.\n",
       "\n",
       "**Our responsibility**  \n",
       "The study highlights three critical gaps:\n",
       "\n",
       "1. **Lack of awareness** about the psychological effects of doomscrolling.  \n",
       "2. **Underutilization of structured coping mechanisms.**  \n",
       "3. **Need for institutional digital‑hygiene education** at the curriculum level.\n",
       "\n",
       "**What we can do**  \n",
       "- **Integrate digital‑wellness modules** into our media curriculum, teaching students how to curate their feeds and set healthy boundaries.  \n",
       "- **Promote coping strategies**—mindfulness, scheduled breaks, and offline activities—to mitigate emotional fatigue.  \n",
       "- **Encourage reflective discussions** that challenge the unrealistic standards often portrayed online.\n",
       "\n",
       "**In closing**  \n",
       "Our founders envisioned a community that thrives on knowledge, creativity, and well‑being. By acknowledging and addressing the adverse effects of doomscrolling, we honor that legacy. Let us equip our students with the tools to navigate the digital world responsibly, ensuring that their curiosity and ambition are matched by resilience and mental health.\n",
       "\n",
       "Thank you."
      ],
      "text/plain": [
       "<IPython.core.display.Markdown object>"
      ]
     },
     "execution_count": 47,
     "metadata": {},
     "output_type": "execute_result"
    }
   ],
   "source": [
    "response = llm.invoke(prompt_template2.format(\n",
    "    context=doc_content2,\n",
    "    question=\"Draft me a short speech to give on founders day \"))\n",
    "    \n",
    "from IPython.display import Markdown\n",
    "Markdown(response.content)"
   ]
  },
  {
   "cell_type": "code",
   "execution_count": 48,
   "id": "93187d96",
   "metadata": {},
   "outputs": [
    {
     "data": {
      "text/markdown": [
       "**Adverse effects of doomscrolling**\n",
       "\n",
       "- **Anxiety** – persistent worry and nervousness that rises with continual exposure to distressing news.  \n",
       "- **Depression** – feelings of low mood and hopelessness that correlate with frequent doomscrolling.  \n",
       "- **Emotional fatigue / burnout** – a sense of being drained or exhausted by the constant stream of negative content.  \n",
       "- **Sleep disturbances** – trouble falling or staying asleep, often reported by students who scroll excessively.  \n",
       "- **Concentration problems** – difficulty focusing on studies or other tasks after prolonged scrolling.  \n",
       "\n",
       "**When the symptoms start to appear**\n",
       "\n",
       "The study found that **most students engaged in doomscrolling for more than 2 hours each day**.  Strong statistical correlations were reported between this duration and the above psychological symptoms.  Thus, adverse effects tend to surface when the behavior extends beyond roughly **two hours of continuous scrolling per day**."
      ],
      "text/plain": [
       "<IPython.core.display.Markdown object>"
      ]
     },
     "execution_count": 48,
     "metadata": {},
     "output_type": "execute_result"
    }
   ],
   "source": [
    "response = llm.invoke(prompt_template2.format(\n",
    "    context=doc_content2,\n",
    "    question=\"What are the adverse effects of doomscrolling and after how much time do they start showing \"))\n",
    "    \n",
    "from IPython.display import Markdown\n",
    "Markdown(response.content)"
   ]
  },
  {
   "cell_type": "code",
   "execution_count": 49,
   "id": "28a33bd4",
   "metadata": {},
   "outputs": [
    {
     "data": {
      "text/markdown": [
       "**Hey there!**  \n",
       "Let’s talk about *doomscrolling* in a way that’s easy to understand and a bit like a story.\n",
       "\n",
       "---\n",
       "\n",
       "## 1. What is doomscrolling?  \n",
       "- **Think of a “scroll”**: When you’re on a phone or tablet, you swipe or tap to see more pictures, videos, or text.  \n",
       "- **Add “doom” to it**: Doomscrolling means you keep scrolling, but you’re only looking at *bad* or scary news—like big storms, fights, or other scary things.  \n",
       "- **Why it’s called “doom”**: Because it’s all about “doom” (bad stuff) and can make you feel worried or upset.\n",
       "\n",
       "*Example:* Imagine you’re looking at a news feed and every time you swipe you see another article about a new school rule, a sports injury, or a big storm. You keep swiping because you’re curious, but the more you see, the more worried you feel.\n",
       "\n",
       "---\n",
       "\n",
       "## 2. Is it bad?  \n",
       "Yes, especially if you do it a lot.\n",
       "\n",
       "| What the research says | What it means for you |\n",
       "|------------------------|-----------------------|\n",
       "| **Lots of students (like the ones in the study) spent more than 2 hours a day doomscrolling** | That’s a long time to be looking at scary news. |\n",
       "| **Doomscrolling is linked to feeling anxious, tired, or having trouble sleeping** | You might feel on edge, have a hard time relaxing, or feel tired even after a good night’s sleep. |\n",
       "| **It can make you compare yourself to others and feel less confident** | If you see others looking “cool” or “happy” on social media, you might think you’re not as good, even if that’s not true. |\n",
       "\n",
       "So, yes—doomscrolling can make you feel *not* great.\n",
       "\n",
       "---\n",
       "\n",
       "## 3. Who does it the most and why?  \n",
       "- **College and university students** (especially those studying media, like the Karachi study) were the biggest group in the research.  \n",
       "- **Why they do it**:  \n",
       "  - *Need to stay informed*: They want to know what’s happening in the world.  \n",
       "  - *Feel connected*: They think looking at news keeps them part of a community.  \n",
       "  - *Emotional regulation*: Sometimes they scroll to feel less alone when something scary happens.  \n",
       "- **Other groups** (like teens and adults) also scroll a lot, but the study shows students are especially prone because they’re learning and planning their future.\n",
       "\n",
       "---\n",
       "\n",
       "## 4. Should a 9‑year‑old do it?  \n",
       "**No, and here’s why:**\n",
       "\n",
       "| Reason | Kid‑friendly explanation |\n",
       "|--------|--------------------------|\n",
       "| **You’re still growing** | Your brain is still learning how to handle big emotions. Constant scary news can make you feel scared or sad. |\n",
       "| **You don’t need that much news** | At 9, you already hear enough from parents, teachers, and friends. Extra scary news isn’t helpful. |\n",
       "| **It can affect sleep** | If you’re worried, it’s harder to fall asleep or dream sweetly. |\n",
       "| **You’re better off doing fun things** | Reading a book, playing outside, drawing, or listening to music helps you feel happy and relaxed. |\n",
       "\n",
       "**Bottom line:** It’s okay to learn about the world, but it’s best to do it in a balanced way—like reading a short news article once a week or talking with a parent about big events.\n",
       "\n",
       "---\n",
       "\n",
       "## 5. Quick “Digital Hygiene” Tips (for the whole family)\n",
       "\n",
       "1. **Set a timer** – Only look at news for 10–15 minutes a day.  \n",
       "2. **Mix in positive content** – Watch a funny cartoon or read a story that makes you smile.  \n",
       "3. **Talk about feelings** – If something scary is bothering you, share it with a parent or teacher.  \n",
       "4. **Take breaks** – Go outside, play a game, or do a craft.  \n",
       "5. **Ask questions** – “Why is this happening?” helps you understand instead of just feeling scared.\n",
       "\n",
       "---\n",
       "\n",
       "### Final Thought\n",
       "\n",
       "Doomscrolling is like reading a book that only has scary stories in it—over time it can make you feel tired, worried, and not as happy. For a 9‑year‑old, it’s best to focus on fun, learning, and staying connected with family, while keeping scary news to a minimum. If you ever feel upset after seeing something online, tell a trusted adult—there’s always help and a chance to feel better."
      ],
      "text/plain": [
       "<IPython.core.display.Markdown object>"
      ]
     },
     "execution_count": 49,
     "metadata": {},
     "output_type": "execute_result"
    }
   ],
   "source": [
    "\n",
    "prompt_template2 = \"\"\"A couple of parents want to make their 9 year old  kid aware of the adverse \n",
    "effects of doomscrolling, use the following pieces of context to answer their questions.Make sure\n",
    "to use child friendly language and examples.\n",
    "Question: {question} \n",
    "Context: {context} \n",
    "Answer:\"\"\"\n",
    "\n",
    "response = llm.invoke(prompt_template2.format(\n",
    "    context=doc_content2,\n",
    "    question=\"What is doomscrolling, is it bad, who does it the most and why, should a 9 year old do it? \"))\n",
    "    \n",
    "from IPython.display import Markdown\n",
    "Markdown(response.content)"
   ]
  }
 ],
 "metadata": {
  "kernelspec": {
   "display_name": "Python 3",
   "language": "python",
   "name": "python3"
  },
  "language_info": {
   "codemirror_mode": {
    "name": "ipython",
    "version": 3
   },
   "file_extension": ".py",
   "mimetype": "text/x-python",
   "name": "python",
   "nbconvert_exporter": "python",
   "pygments_lexer": "ipython3",
   "version": "3.11.13"
  }
 },
 "nbformat": 4,
 "nbformat_minor": 5
}
