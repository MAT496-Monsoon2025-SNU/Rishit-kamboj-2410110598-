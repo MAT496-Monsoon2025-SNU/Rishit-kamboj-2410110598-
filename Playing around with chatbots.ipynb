{
 "cells": [
  {
   "cell_type": "markdown",
   "id": "527f8e31",
   "metadata": {},
   "source": [
    "Source: https://python.langchain.com/docs/tutorials/llm_chain/"
   ]
  },
  {
   "cell_type": "markdown",
   "id": "e3515867",
   "metadata": {},
   "source": [
    "- get your llm api key\n",
    "- Use Groq - its free\n",
    "- save it in .env file"
   ]
  },
  {
   "cell_type": "markdown",
   "id": "a01dc67e",
   "metadata": {},
   "source": [
    "Also do these steps in .env\n",
    "\n",
    "LANGSMITH_TRACING=\"true\"\n",
    "LANGSMITH_API_KEY=\"...\"\n",
    "LANGSMITH_PROJECT=\"default\" # or any other project name"
   ]
  },
  {
   "cell_type": "code",
   "execution_count": 2,
   "id": "682c4c87",
   "metadata": {},
   "outputs": [
    {
     "name": "stderr",
     "output_type": "stream",
     "text": [
      "python-dotenv could not parse statement starting at line 2\n"
     ]
    },
    {
     "data": {
      "text/plain": [
       "True"
      ]
     },
     "execution_count": 2,
     "metadata": {},
     "output_type": "execute_result"
    }
   ],
   "source": [
    "from dotenv import load_dotenv\n",
    "load_dotenv()"
   ]
  },
  {
   "cell_type": "code",
   "execution_count": 3,
   "id": "afe84af3",
   "metadata": {},
   "outputs": [],
   "source": [
    "!pip install -qU \"langchain[groq]\""
   ]
  },
  {
   "cell_type": "code",
   "execution_count": null,
   "id": "a0e461e5",
   "metadata": {},
   "outputs": [],
   "source": [
    "from langchain.chat_models import init_chat_model\n",
    "\n",
    "model = init_chat_model(\"openai/gpt-oss-120b\", model_provider=\"groq\")"
   ]
  },
  {
   "cell_type": "code",
   "execution_count": 5,
   "id": "a6f93f75",
   "metadata": {},
   "outputs": [
    {
     "data": {
      "text/plain": [
       "AIMessage(content=\"Not much! I'm just an AI, so I don't have personal experiences or emotions like humans do. But I'm here to help you with any questions or topics you'd like to discuss! How about you? How's your day going?\", additional_kwargs={}, response_metadata={'token_usage': {'completion_tokens': 51, 'prompt_tokens': 13, 'total_tokens': 64, 'completion_time': 0.036428009, 'prompt_time': 0.005067423, 'queue_time': 0.049349667, 'total_time': 0.041495432}, 'model_name': 'llama3-8b-8192', 'system_fingerprint': 'fp_4b5fbf0ced', 'service_tier': 'on_demand', 'finish_reason': 'stop', 'logprobs': None}, id='run--0954139c-0578-4fd0-9a9d-ecae6e22551f-0', usage_metadata={'input_tokens': 13, 'output_tokens': 51, 'total_tokens': 64})"
      ]
     },
     "execution_count": 5,
     "metadata": {},
     "output_type": "execute_result"
    }
   ],
   "source": [
    "# A simple model call\n",
    "\n",
    "model.invoke(\"Whats up?\")"
   ]
  },
  {
   "cell_type": "markdown",
   "id": "42416cbd",
   "metadata": {},
   "source": [
    "[Exercise] Play along. Give bigger and bigger prompts"
   ]
  },
  {
   "cell_type": "code",
   "execution_count": 6,
   "id": "da2738af",
   "metadata": {},
   "outputs": [
    {
     "data": {
      "text/plain": [
       "AIMessage(content=\"I am LLaMA, an AI assistant developed by Meta AI that can understand and respond to human input in a conversational manner. I'm not a human, but a computer program designed to simulate conversation and answer questions to the best of my knowledge. I'm a large language model, trained on a massive dataset of text from the internet, which allows me to understand and respond to a wide range of topics and questions.\\n\\nI'm still learning and improving every day, so please bear with me if I make any mistakes or don't fully understand what you're saying. My goal is to provide helpful and accurate information, and I'll do my best to make our conversation as smooth and enjoyable as possible. What would you like to talk about?\", additional_kwargs={}, response_metadata={'token_usage': {'completion_tokens': 150, 'prompt_tokens': 14, 'total_tokens': 164, 'completion_time': 0.106891907, 'prompt_time': 0.00468389, 'queue_time': 0.284744389, 'total_time': 0.111575797}, 'model_name': 'llama3-8b-8192', 'system_fingerprint': 'fp_4b5fbf0ced', 'service_tier': 'on_demand', 'finish_reason': 'stop', 'logprobs': None}, id='run--a9cb65a3-b487-4077-a316-bdd56ad18347-0', usage_metadata={'input_tokens': 14, 'output_tokens': 150, 'total_tokens': 164})"
      ]
     },
     "execution_count": 6,
     "metadata": {},
     "output_type": "execute_result"
    }
   ],
   "source": [
    "model.invoke(\"Who are you?\")"
   ]
  },
  {
   "cell_type": "code",
   "execution_count": 7,
   "id": "a7f4578d",
   "metadata": {},
   "outputs": [
    {
     "data": {
      "text/plain": [
       "AIMessage(content='Here is a Python code that multiplies two matrices of arbitrary but compatible order:\\n```\\nclass Matrix:\\n    def __init__(self, rows, cols, data=None):\\n        self.rows = rows\\n        self.cols = cols\\n        if data is None:\\n            self.data = [[0 for _ in range(cols)] for _ in range(rows)]\\n        else:\\n            self.data = data\\n\\n    def multiply(self, other):\\n        if self.cols != other.rows:\\n            raise ValueError(\"Matrices are not compatible for multiplication\")\\n        result = Matrix(self.rows, other.cols)\\n        for i in range(self.rows):\\n            for j in range(other.cols):\\n                for k in range(self.cols):\\n                    result.data[i][j] += self.data[i][k] * other.data[k][j]\\n        return result\\n\\n    def __str__(self):\\n        return str([str(row) for row in self.data])\\n\\n# Example usage:\\nm1 = Matrix(2, 3, [[1, 2, 3], [4, 5, 6]])\\nm2 = Matrix(3, 2, [[7, 8], [9, 10], [11, 12]])\\nprint(m1.multiply(m2))  # Output: [[19, 22], [49, 58]]\\n```\\nHere\\'s a breakdown of the code:\\n\\n* The `Matrix` class has an initializer that takes the number of rows and columns, as well as an optional `data` parameter to initialize the matrix with. If `data` is not provided, the matrix is initialized with zeros.\\n* The `multiply` method takes another `Matrix` object as input and checks if the number of columns in the first matrix matches the number of rows in the second matrix. If not, it raises a `ValueError`.\\n* If the matrices are compatible, the method creates a new `Matrix` object with the result of the multiplication and populates it with the dot product of the two input matrices.\\n* The `__str__` method is used to print the matrix in a human-readable format.\\n\\nIn the example usage, we create two matrices `m1` and `m2`, and then multiply them using the `multiply` method. The result is a new matrix that is the product of the two input matrices.', additional_kwargs={}, response_metadata={'token_usage': {'completion_tokens': 474, 'prompt_tokens': 43, 'total_tokens': 517, 'completion_time': 0.339407742, 'prompt_time': 0.007665389, 'queue_time': 0.04928725, 'total_time': 0.347073131}, 'model_name': 'llama3-8b-8192', 'system_fingerprint': 'fp_4b5fbf0ced', 'service_tier': 'on_demand', 'finish_reason': 'stop', 'logprobs': None}, id='run--9b1d100d-ebb0-4155-9750-194614927adf-0', usage_metadata={'input_tokens': 43, 'output_tokens': 474, 'total_tokens': 517})"
      ]
     },
     "execution_count": 7,
     "metadata": {},
     "output_type": "execute_result"
    }
   ],
   "source": [
    "response = model.invoke(\"\"\" Write a python code which can multiply two matrix of arbitrary but compatible order. The code should throw exception if the matrix dimentsions are not compatible for multiplication             \n",
    "             \"\"\")\n",
    "\n",
    "response"
   ]
  },
  {
   "cell_type": "code",
   "execution_count": 18,
   "id": "17c8c30d",
   "metadata": {},
   "outputs": [
    {
     "name": "stdout",
     "output_type": "stream",
     "text": [
      "Here is a Python code that multiplies two matrices of arbitrary order. The code checks if the matrices are compatible for multiplication by checking if the number of columns in the first matrix is equal to the number of rows in the second matrix. If the matrices are not compatible, the code throws a ValueError.\n",
      "\n",
      "```python\n",
      "class Matrix:\n",
      "    def __init__(self, data):\n",
      "        self.data = data\n",
      "\n",
      "    def multiply(self, other):\n",
      "        if len(self.data[0]) != len(other.data):\n",
      "            raise ValueError(\"Matrices are not compatible for multiplication\")\n",
      "\n",
      "        result = []\n",
      "        for i in range(len(self.data)):\n",
      "            row = []\n",
      "            for j in range(len(other.data[0])):\n",
      "                element = 0\n",
      "                for k in range(len(other.data)):\n",
      "                    element += self.data[i][k] * other.data[k][j]\n",
      "                row.append(element)\n",
      "            result.append(row)\n",
      "\n",
      "        return Matrix(result)\n",
      "\n",
      "    def __str__(self):\n",
      "        return str(self.data)\n",
      "\n",
      "\n",
      "# Example usage:\n",
      "matrix1 = Matrix([[1, 2, 3], [4, 5, 6]])\n",
      "matrix2 = Matrix([[7, 8], [9, 10], [11, 12]])\n",
      "\n",
      "result = matrix1.multiply(matrix2)\n",
      "print(result)  # Output: [[58, 64], [139, 154]]\n",
      "```\n",
      "\n",
      "In this code, the `Matrix` class represents a matrix with a 2D list `data` as its attribute. The `multiply` method takes another `Matrix` object as an argument and returns a new `Matrix` object that is the result of multiplying the two input matrices. The `__str__` method is used to convert the matrix to a string for printing.\n",
      "\n",
      "The `multiply` method first checks if the matrices are compatible for multiplication by checking if the number of columns in the first matrix is equal to the number of rows in the second matrix. If the matrices are not compatible, it raises a `ValueError`.\n",
      "\n",
      "If the matrices are compatible, the `multiply` method iterates over the rows of the first matrix and the columns of the second matrix, and for each pair of row and column, it calculates the dot product of the corresponding row of the first matrix and column of the second matrix. The result is a new matrix where the element at row `i` and column `j` is the dot product of the `i`-th row of the first matrix and the `j`-th column of the second matrix.\n",
      "\n",
      "Finally, the `__str__` method is used to convert the result matrix to a string for printing.\n"
     ]
    }
   ],
   "source": [
    "print(response.content)"
   ]
  },
  {
   "cell_type": "code",
   "execution_count": 15,
   "id": "8b215da3",
   "metadata": {},
   "outputs": [
    {
     "data": {
      "text/plain": [
       "AIMessage(content='হ্যালো! (Hēlō!)', additional_kwargs={}, response_metadata={'token_usage': {'completion_tokens': 16, 'prompt_tokens': 25, 'total_tokens': 41, 'completion_time': 0.015021937, 'prompt_time': 0.003650774, 'queue_time': 0.044330586, 'total_time': 0.018672711}, 'model_name': 'llama3-8b-8192', 'system_fingerprint': 'fp_4b5fbf0ced', 'service_tier': 'on_demand', 'finish_reason': 'stop', 'logprobs': None}, id='run--cb3f69b4-3975-4ebb-99f4-fd3ed3088a94-0', usage_metadata={'input_tokens': 25, 'output_tokens': 16, 'total_tokens': 41})"
      ]
     },
     "execution_count": 15,
     "metadata": {},
     "output_type": "execute_result"
    }
   ],
   "source": [
    "# invoking to build a converstation style call\n",
    "\n",
    "from langchain_core.messages import HumanMessage, SystemMessage\n",
    "\n",
    "messages = [\n",
    "    SystemMessage(\"Translate the following from English into Bengali\"), # try punjabi, or any other Indian language\n",
    "    HumanMessage(\"hi!\"),\n",
    "]\n",
    "\n",
    "model.invoke(messages)"
   ]
  },
  {
   "cell_type": "code",
   "execution_count": null,
   "id": "d3ec84bb",
   "metadata": {},
   "outputs": [],
   "source": [
    "from langchain_core.messages import HumanMessage, SystemMessage\n",
    "\n",
    "messages = [\n",
    "    SystemMessage(\"Translate the following from English into Punjabi\"), # try punjabi, or any other Indian language\n",
    "    HumanMessage(\"yo broski how are you what up nowadays huh\"),\n",
    "]\n",
    "\n",
    "model.invoke(messages)"
   ]
  },
  {
   "cell_type": "code",
   "execution_count": 19,
   "id": "9efe5fb2",
   "metadata": {},
   "outputs": [
    {
     "data": {
      "text/plain": [
       "AIMessage(content='Here is a simple Python code that finds the maximum of n numbers:\\n\\n```\\ndef find_max(n, numbers):\\n    return max(numbers)\\n\\nn = int(input(\"Enter the number of elements: \"))\\nnumbers = list(map(int, input(\"Enter the numbers separated by space: \").split()))\\nprint(\"The maximum number is: \", find_max(n, numbers))\\n```\\n\\nIn this code, we first ask the user to enter the number of elements they want to input. Then, we ask them to enter the numbers separated by spaces. We convert the input string into a list of integers using the `map` and `split` functions. Finally, we find the maximum number using the built-in `max` function and print the result.', additional_kwargs={}, response_metadata={'token_usage': {'completion_tokens': 149, 'prompt_tokens': 27, 'total_tokens': 176, 'completion_time': 0.10005801, 'prompt_time': 0.003480291, 'queue_time': 0.044841709, 'total_time': 0.103538301}, 'model_name': 'llama3-8b-8192', 'system_fingerprint': 'fp_4b5fbf0ced', 'service_tier': 'on_demand', 'finish_reason': 'stop', 'logprobs': None}, id='run--7e633211-4a32-4267-9398-0cbfe34c8130-0', usage_metadata={'input_tokens': 27, 'output_tokens': 149, 'total_tokens': 176})"
      ]
     },
     "execution_count": 19,
     "metadata": {},
     "output_type": "execute_result"
    }
   ],
   "source": [
    "messages = [\n",
    "    SystemMessage(\"Generate python code for given tasks\"),\n",
    "    HumanMessage(\"Find max of given n numbers\"),\n",
    "]\n",
    "\n",
    "response = model.invoke(messages)\n",
    "\n",
    "response"
   ]
  },
  {
   "cell_type": "code",
   "execution_count": 22,
   "id": "d36098aa",
   "metadata": {},
   "outputs": [
    {
     "name": "stdout",
     "output_type": "stream",
     "text": [
      "Here is a simple Python code that finds the maximum of n numbers:\n",
      "\n",
      "```\n",
      "def find_max(n, numbers):\n",
      "    return max(numbers)\n",
      "\n",
      "n = int(input(\"Enter the number of elements: \"))\n",
      "numbers = list(map(int, input(\"Enter the numbers separated by space: \").split()))\n",
      "print(\"The maximum number is: \", find_max(n, numbers))\n",
      "```\n",
      "\n",
      "In this code, we first ask the user to enter the number of elements they want to input. Then, we ask them to enter the numbers separated by spaces. We convert the input string into a list of integers using the `map` and `split` functions. Finally, we find the maximum number using the built-in `max` function and print the result.\n",
      "False\n"
     ]
    }
   ],
   "source": [
    "print(response.content)\n",
    "print(response.example)"
   ]
  },
  {
   "cell_type": "code",
   "execution_count": 10,
   "id": "39caa649",
   "metadata": {},
   "outputs": [
    {
     "name": "stdout",
     "output_type": "stream",
     "text": [
      "|The| age|-old| question|!| What| is| life|?| It|'s| a| question| that| has| puzzled| philosophers|,| scientists|,| and| thinkers| for| centuries|.| Here|'s| a| attempt| to| provide| a| comprehensive| answer|:\n",
      "\n",
      "|**|Bi|ological| definition|:**| Life| is| the| condition| that| distingu|ishes| living| organisms| from| in|animate| matter|,| characterized| by| certain| vital| processes|,| such| as|:\n",
      "\n",
      "|1|.| Organization|:| Living| organisms| are| composed| of| cells|,| which| are| the| basic| structural| and| functional| units| of| life|.\n",
      "|2|.| Met|abol|ism|:| Living| organisms| carry| out| chemical| reactions| that| maintain| their| internal| environment| and| allow| them| to| grow|,| develop|,| and| respond| to| stimuli|.\n",
      "|3|.| Home|ost|asis|:| Living| organisms| maintain| a| stable| internal| environment| despite| changes| in| the| external| environment|.\n",
      "|4|.| Growth| and| development|:| Living| organisms| grow| and| develop| from| birth| to| adulthood|,| and| undergo| changes| in| response| to| internal| and| external| stimuli|.\n",
      "|5|.| Rep|roduction|:| Living| organisms| produce| offspring|,| ensuring| the| continuation| of| their| species|.\n",
      "|6|.| Response| to| stimuli|:| Living| organisms| respond| to| internal| and| external| stimuli|,|"
     ]
    },
    {
     "ename": "KeyboardInterrupt",
     "evalue": "",
     "output_type": "error",
     "traceback": [
      "\u001b[31m---------------------------------------------------------------------------\u001b[39m",
      "\u001b[31mKeyboardInterrupt\u001b[39m                         Traceback (most recent call last)",
      "\u001b[36mCell\u001b[39m\u001b[36m \u001b[39m\u001b[32mIn[10]\u001b[39m\u001b[32m, line 5\u001b[39m\n\u001b[32m      2\u001b[39m \u001b[38;5;28;01mimport\u001b[39;00m\u001b[38;5;250m \u001b[39m\u001b[34;01mtime\u001b[39;00m\n\u001b[32m      4\u001b[39m \u001b[38;5;28;01mfor\u001b[39;00m token \u001b[38;5;129;01min\u001b[39;00m model.stream(\u001b[33m\"\u001b[39m\u001b[33mwhat is life\u001b[39m\u001b[33m\"\u001b[39m):\n\u001b[32m----> \u001b[39m\u001b[32m5\u001b[39m     time.sleep(\u001b[32m0.1\u001b[39m)\n\u001b[32m      6\u001b[39m     \u001b[38;5;28mprint\u001b[39m(token.content, end=\u001b[33m\"\u001b[39m\u001b[33m|\u001b[39m\u001b[33m\"\u001b[39m)\n",
      "\u001b[31mKeyboardInterrupt\u001b[39m: "
     ]
    }
   ],
   "source": [
    "# streaming example\n",
    "import time\n",
    "\n",
    "for token in model.stream(\"what is life\"):\n",
    "    time.sleep(0.1)\n",
    "    print(token.content, end=\"|\")"
   ]
  },
  {
   "cell_type": "code",
   "execution_count": 15,
   "id": "6837d022",
   "metadata": {},
   "outputs": [
    {
     "name": "stdout",
     "output_type": "stream",
     "text": [
      "A question that can determine someone's IQ! While it's important to note that IQ tests are complex and multi-faceted, I can generate a question that assesses critical thinking, problem-solving, and logical reasoning skills. Here it is:\n",
      "\n",
      "**Question:** \"A bat and a ball together cost $1.10. The bat costs $1.00 more than the ball. How much does the ball cost?\"\n",
      "\n",
      "**Why this question?**\n",
      "\n",
      "This question tests various cognitive abilities, including:\n",
      "\n",
      "1. **Logical reasoning**: The question requires the test-taker to think logically and make connections between the given information.\n",
      "2. **Problem-solving**: The test-taker must use the information to solve a math problem.\n",
      "3. **Critical thinking**: The question requires the test-taker to evaluate the information, identify the relationships between the quantities, and make a logical conclusion.\n",
      "\n",
      "**How to score the question:**\n",
      "\n",
      "To score this question, I'll provide a range of acceptable answers and a scoring system. Please note that this is a simplified scoring system and not a formal IQ test.\n",
      "\n",
      "* **Correct answer**: The ball costs $0.05.\n",
      "* **Acceptable answers**: The ball costs $0.10, $0.04, or $0.06 (within a small margin of error).\n",
      "* **Incorrect answers**: Any answer that deviates significantly from the correct answer or lacks logical reasoning.\n",
      "\n",
      "**Scoring:**\n",
      "\n",
      "* 0-2 points: The test-taker's answer is significantly incorrect or lacks logical reasoning.\n",
      "* 3-4 points: The test-taker's answer is partially correct, but with some errors or inaccuracies.\n",
      "* 5 points: The test-taker's answer is correct or nearly correct.\n",
      "\n",
      "**Interpretation:**\n",
      "\n",
      "This question is designed to assess the test-taker's problem-solving, logical reasoning, and critical thinking skills. A score of 5 points indicates strong cognitive abilities, while a score of 0-2 points may indicate a need for further development in these areas.\n",
      "\n",
      "Please note that this question is not a substitute for a comprehensive IQ test or a professional assessment. IQ tests are complex and multifaceted, and this question is just a simplified example of an IQ-style question.\n"
     ]
    }
   ],
   "source": [
    "response2= model.invoke(\"Generate a question to determine someone's iq\")\n",
    "print(response2.content)\n"
   ]
  },
  {
   "cell_type": "code",
   "execution_count": null,
   "id": "62240357",
   "metadata": {},
   "outputs": [],
   "source": [
    "from langchain.chat_models import init_chat_model\n",
    "\n",
    "model = init_chat_model(\"llama-3.1-8b-instant\", model_provider=\"groq\")"
   ]
  },
  {
   "cell_type": "code",
   "execution_count": 19,
   "id": "edf2d1b5",
   "metadata": {},
   "outputs": [
    {
     "name": "stdout",
     "output_type": "stream",
     "text": [
      "Let's denote the cost of the ball as 'x'. According to the problem, the bat costs $1.00 more than the ball, so the cost of the bat is 'x + 1.00'.\n",
      "\n",
      "The total cost of the bat and the ball together is $1.10, so we can write the equation:\n",
      "\n",
      "x + (x + 1.00) = 1.10\n",
      "\n",
      "Combine like terms:\n",
      "\n",
      "2x + 1.00 = 1.10\n",
      "\n",
      "Subtract 1.00 from both sides:\n",
      "\n",
      "2x = 0.10\n",
      "\n",
      "Divide both sides by 2:\n",
      "\n",
      "x = 0.05\n",
      "\n",
      "So the ball costs $0.05.\n"
     ]
    }
   ],
   "source": [
    "response3= model.invoke(\"A bat and a ball together cost $1.10. The bat costs $1.00 more than the ball. How much does the ball cost?\")\n",
    "print(response3.content)"
   ]
  },
  {
   "cell_type": "code",
   "execution_count": 24,
   "id": "aff62b45",
   "metadata": {},
   "outputs": [],
   "source": [
    "from langchain.chat_models import init_chat_model\n",
    "\n",
    "model2 = init_chat_model(\"compound-beta\", model_provider=\"groq\")"
   ]
  },
  {
   "cell_type": "code",
   "execution_count": null,
   "id": "ca6ab089",
   "metadata": {},
   "outputs": [
    {
     "name": "stdout",
     "output_type": "stream",
     "text": [
      "To play basketball, follow these steps:\n",
      "\n",
      "### 1. Learn the Fundamental Skills\n",
      "Start by learning how to **dribble**, **shoot**, **pass**, and play **defense**. \n",
      "- **Dribbling**: Keep your head up, stay focused on the court, and use your fingertips to control the ball.\n",
      "- **Shooting**: Learn the basic shooting stance: feet shoulder-width apart, dominant foot forward. Aim for the center of the rim, follow through with your shooting hand.\n",
      "- **Passing**: Practice chest passes and bounce passes. Lead your teammate to where they are going.\n",
      "- **Defense**: Learn to stay in front of your opponent. Keep your hands up to contest shots.\n",
      "\n",
      "### 2. Understand the Gameplay Rules\n",
      "- **Objective**: Score more points than the opposing team by shooting the ball into the opponent's basket.\n",
      "- **Gameplay**: The game is divided into four quarters (professional and collegiate games). Each team has five players on the court.\n",
      "- **Scoring**: Points can be scored in several ways: field goals (2 or 3 points) and free throws (1 point).\n",
      "\n",
      "### 3. Familiarize Yourself with Common Violations\n",
      "- **Double Dribble**: When a player dribbles the ball, then holds it, and then dribbles again without losing possession.\n",
      "- **Traveling**: Taking more than two steps without dribbling the ball.\n",
      "- **Carrying the Ball**: When a player holds the ball for more than five seconds without dribbling.\n",
      "\n",
      "### 4. Practice Regularly\n",
      "Regular practice improves your skills and physical fitness. Focus on teamwork and communication with your teammates.\n",
      "\n",
      "### 5. Learn About Fouls and Penalties\n",
      "- **Personal Foul**: Physical contact with an opponent. \n",
      "- **Technical Foul**: Unsportsmanlike behavior, such as arguing with a referee.\n",
      "- **Flagrant Foul**: Excessive contact that could cause injury.\n",
      "\n",
      "### 6. Stay Physically Fit\n",
      "Maintain good physical condition through regular exercise and a healthy diet. This will improve your endurance and performance on the court.\n",
      "\n",
      "### 7. Watch and Learn from Others\n",
      "Watch professional and collegiate games to learn new strategies and techniques. Analyze the moves of experienced players to improve your own game.\n",
      "\n",
      "### 8. Join a Team or Find Players to Play With\n",
      "Playing with others will help you apply what you've learned and improve your teamwork and communication skills.\n",
      "\n",
      "### Verification of Rules and Regulations\n",
      "According to the Official Basketball Rules by FIBA, the basic rules of basketball include scoring, gameplay, and fouls. The rules are comprehensive and address all rule-related aspects of the game. \n",
      "\n",
      "Some key points to remember:\n",
      "- The ball must be bounced and dribbled with one hand while the other hand is used to guide it.\n",
      "- A player cannot run with the ball; they must dribble it.\n",
      "- Remember, when you’re dribbling the ball, you must keep your hand on top of it.\n",
      "- When you’re dribbling the ball, you can’t just let your arm hang- things happen too fast in basketball for that.\n",
      "- A player cannot touch the ball with both hands at the same time while they are dribbling it – this is called double dribbling.\n",
      "- If you do, it’s a foul and the other team gets the ball and most likely free throws and the chance to score points.\n",
      "\n",
      "By following these steps and practicing regularly, you'll be well on your way to becoming a skilled basketball player. Remember to always follow the rules and regulations of the game, and most importantly, have fun! \n",
      "\n",
      "Would you like more details on any specific aspect of playing basketball?\n"
     ]
    }
   ],
   "source": [
    "response4= model2.invoke(\"how to play basketball\")\n",
    "print(response4.content)"
   ]
  },
  {
   "cell_type": "code",
   "execution_count": null,
   "id": "c3c2a4e1",
   "metadata": {},
   "outputs": [
    {
     "data": {
      "text/plain": [
       "AIMessage(content=\"I'm compound-beta, a conversational AI model developed by Groq. I'm here to help answer your questions and engage in conversation!\", additional_kwargs={'reasoning_content': '<Think>\\n\\n</Think>'}, response_metadata={'token_usage': {'completion_tokens': 31, 'prompt_tokens': 205, 'total_tokens': 236, 'completion_time': 0.07773, 'prompt_time': 0.025267, 'queue_time': 2.854643, 'total_time': 0.102997}, 'model_name': 'compound-beta', 'system_fingerprint': None, 'service_tier': 'on_demand', 'finish_reason': 'stop', 'logprobs': None}, id='run--69e9f740-987d-442d-b626-c292426f11c4-0', usage_metadata={'input_tokens': 205, 'output_tokens': 31, 'total_tokens': 236})"
      ]
     },
     "execution_count": 25,
     "metadata": {},
     "output_type": "execute_result"
    }
   ],
   "source": [
    "model2.invoke(\"whats ur name model? why do u exist \")"
   ]
  }
 ],
 "metadata": {
  "kernelspec": {
   "display_name": "Python 3",
   "language": "python",
   "name": "python3"
  },
  "language_info": {
   "codemirror_mode": {
    "name": "ipython",
    "version": 3
   },
   "file_extension": ".py",
   "mimetype": "text/x-python",
   "name": "python",
   "nbconvert_exporter": "python",
   "pygments_lexer": "ipython3",
   "version": "3.11.13"
  }
 },
 "nbformat": 4,
 "nbformat_minor": 5
}
