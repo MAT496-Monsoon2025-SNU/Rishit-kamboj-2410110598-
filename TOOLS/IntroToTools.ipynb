{
 "cells": [
  {
   "cell_type": "code",
   "execution_count": 42,
   "id": "8cf11c47",
   "metadata": {},
   "outputs": [
    {
     "name": "stderr",
     "output_type": "stream",
     "text": [
      "python-dotenv could not parse statement starting at line 2\n"
     ]
    },
    {
     "data": {
      "text/plain": [
       "True"
      ]
     },
     "execution_count": 42,
     "metadata": {},
     "output_type": "execute_result"
    }
   ],
   "source": [
    "from dotenv import load_dotenv\n",
    "load_dotenv(override=True)"
   ]
  },
  {
   "cell_type": "markdown",
   "id": "cd9c5878",
   "metadata": {},
   "source": [
    "# Choose an LLM Model"
   ]
  },
  {
   "cell_type": "code",
   "execution_count": 43,
   "id": "f89a6d9b",
   "metadata": {},
   "outputs": [],
   "source": [
    "import getpass\n",
    "import os\n",
    "\n",
    "if not os.environ.get(\"GROQ_API_KEY\"):\n",
    "  os.environ[\"GROQ_API_KEY\"] = getpass.getpass(\"Enter API key for Groq: \")\n",
    "\n",
    "from langchain.chat_models import init_chat_model\n",
    "\n",
    "llm = init_chat_model(\"llama-3.3-70b-versatile\", model_provider=\"groq\")"
   ]
  },
  {
   "cell_type": "markdown",
   "id": "37126d86",
   "metadata": {},
   "source": [
    "# Create your tools"
   ]
  },
  {
   "cell_type": "code",
   "execution_count": 44,
   "id": "63524d6c",
   "metadata": {},
   "outputs": [
    {
     "name": "stdout",
     "output_type": "stream",
     "text": [
      "multiply\n",
      "Multiply two numbers.\n",
      "{'a': {'title': 'A', 'type': 'number'}, 'b': {'title': 'B', 'type': 'number'}}\n",
      "addition\n",
      "Add two numbers\n",
      "{'a': {'title': 'A', 'type': 'number'}, 'b': {'title': 'B', 'type': 'number'}}\n",
      "subtraction\n",
      "subtract two numbers\n",
      "{'a': {'title': 'A', 'type': 'number'}, 'b': {'title': 'B', 'type': 'number'}}\n",
      "division\n",
      "divide two numbers\n",
      "{'a': {'title': 'A', 'type': 'number'}, 'b': {'title': 'B', 'type': 'number'}}\n",
      "factorial\n",
      "calculate the factorial of this number\n",
      "{'a': {'title': 'A', 'type': 'number'}}\n"
     ]
    }
   ],
   "source": [
    "from langchain_core.tools import tool\n",
    "\n",
    "\n",
    "@tool\n",
    "def multiply(a: float, b: float) -> float:\n",
    "    \"\"\"Multiply two numbers.\"\"\"\n",
    "    return a * b\n",
    "@tool\n",
    "def addition(a: float, b: float) -> float:\n",
    "    \"\"\"Add two numbers\"\"\"\n",
    "    return a+b\n",
    "@tool\n",
    "def subtraction(a: float, b: float) -> float:\n",
    "    \"\"\"subtract two numbers\"\"\"\n",
    "    return a-b\n",
    "@tool\n",
    "def division(a: float, b: float) -> float:\n",
    "    \"\"\"divide two numbers\"\"\"\n",
    "    return a/b\n",
    "@tool\n",
    "def factorial(a: float) -> float:\n",
    "    \"\"\"calculate the factorial of this number\"\"\"\n",
    "    \n",
    "    if(a==0 or a==1):\n",
    "        return 1\n",
    "    else:\n",
    "     fac =1\n",
    "     while(a>1):\n",
    "        fac*=a\n",
    "        a=a-1\n",
    "    return fac\n",
    "\n",
    "\n",
    "# Let's inspect some of the attributes associated with the tool.\n",
    "print(multiply.name)\n",
    "print(multiply.description)\n",
    "print(multiply.args)\n",
    "print(addition.name)\n",
    "print(addition.description)\n",
    "print(addition.args)\n",
    "print(subtraction.name)\n",
    "print(subtraction.description)\n",
    "print(subtraction.args)\n",
    "print(division.name)\n",
    "print(division.description)\n",
    "print(division.args)\n",
    "print(factorial.name)\n",
    "print(factorial.description)\n",
    "print(factorial.args)"
   ]
  },
  {
   "cell_type": "code",
   "execution_count": 45,
   "id": "97bf49be",
   "metadata": {},
   "outputs": [],
   "source": [
    "tools_list = [multiply, addition, subtraction, division, factorial]\n",
    "tools_dict = {t.name: t for t in tools_list} # comes in handy at the time of invokation"
   ]
  },
  {
   "cell_type": "markdown",
   "id": "1a822e2c",
   "metadata": {},
   "source": [
    "# Bind tools with LLMs"
   ]
  },
  {
   "cell_type": "code",
   "execution_count": 46,
   "id": "55e761b0",
   "metadata": {},
   "outputs": [],
   "source": [
    "# we create a tool calling Agent by binding a list of tools to the llm\n",
    "\n",
    "llm_with_tools = llm.bind_tools(tools_list)"
   ]
  },
  {
   "cell_type": "code",
   "execution_count": 47,
   "id": "95a81370",
   "metadata": {},
   "outputs": [
    {
     "data": {
      "text/plain": [
       "AIMessage(content='', additional_kwargs={'tool_calls': [{'id': 'gcrc8w5yr', 'function': {'arguments': '{\"a\":10,\"b\":40}', 'name': 'multiply'}, 'type': 'function'}]}, response_metadata={'token_usage': {'completion_tokens': 19, 'prompt_tokens': 428, 'total_tokens': 447, 'completion_time': 0.044233265, 'prompt_time': 0.036122841, 'queue_time': 0.536435767, 'total_time': 0.080356106}, 'model_name': 'llama-3.3-70b-versatile', 'system_fingerprint': 'fp_155ab82e98', 'service_tier': 'on_demand', 'finish_reason': 'tool_calls', 'logprobs': None}, id='run--1faf80bb-7263-4a24-a958-979db8acd5e9-0', tool_calls=[{'name': 'multiply', 'args': {'a': 10, 'b': 40}, 'id': 'gcrc8w5yr', 'type': 'tool_call'}], usage_metadata={'input_tokens': 428, 'output_tokens': 19, 'total_tokens': 447})"
      ]
     },
     "execution_count": 47,
     "metadata": {},
     "output_type": "execute_result"
    }
   ],
   "source": [
    "\n",
    "response1 = llm_with_tools.invoke(\"What is 10 times 40?\")\n",
    "response2 = llm_with_tools.invoke(\"What is 10 plus 40?\")\n",
    "response3 = llm_with_tools.invoke(\"What is 10 minus 40?\")\n",
    "response4 = llm_with_tools.invoke(\"What is 10 divided by 40?\")\n",
    "response5 = llm_with_tools.invoke(\"What is 5 factorial\")\n",
    "response6 = llm_with_tools.invoke(\"What is 5 factorial added to 4 facorial and then divided by 2\")\n",
    "\n",
    "\n",
    "\n",
    "response1"
   ]
  },
  {
   "cell_type": "code",
   "execution_count": 48,
   "id": "98f778f0",
   "metadata": {},
   "outputs": [
    {
     "data": {
      "text/plain": [
       "AIMessage(content='', additional_kwargs={'tool_calls': [{'id': '20bz589nq', 'function': {'arguments': '{\"a\":10,\"b\":40}', 'name': 'addition'}, 'type': 'function'}]}, response_metadata={'token_usage': {'completion_tokens': 19, 'prompt_tokens': 428, 'total_tokens': 447, 'completion_time': 0.05128769, 'prompt_time': 0.036681339, 'queue_time': 0.154930251, 'total_time': 0.087969029}, 'model_name': 'llama-3.3-70b-versatile', 'system_fingerprint': 'fp_155ab82e98', 'service_tier': 'on_demand', 'finish_reason': 'tool_calls', 'logprobs': None}, id='run--9dc4de25-1e32-4542-9132-f2197d8e7efa-0', tool_calls=[{'name': 'addition', 'args': {'a': 10, 'b': 40}, 'id': '20bz589nq', 'type': 'tool_call'}], usage_metadata={'input_tokens': 428, 'output_tokens': 19, 'total_tokens': 447})"
      ]
     },
     "execution_count": 48,
     "metadata": {},
     "output_type": "execute_result"
    }
   ],
   "source": [
    "response2"
   ]
  },
  {
   "cell_type": "code",
   "execution_count": 49,
   "id": "1b68cfd1",
   "metadata": {},
   "outputs": [
    {
     "data": {
      "text/plain": [
       "AIMessage(content='', additional_kwargs={'tool_calls': [{'id': 'gy63ega0g', 'function': {'arguments': '{\"a\":10,\"b\":40}', 'name': 'subtraction'}, 'type': 'function'}]}, response_metadata={'token_usage': {'completion_tokens': 16, 'prompt_tokens': 428, 'total_tokens': 444, 'completion_time': 0.049707777, 'prompt_time': 0.036746818, 'queue_time': 0.202086631, 'total_time': 0.086454595}, 'model_name': 'llama-3.3-70b-versatile', 'system_fingerprint': 'fp_155ab82e98', 'service_tier': 'on_demand', 'finish_reason': 'tool_calls', 'logprobs': None}, id='run--0df9308a-a6b2-4664-a126-8acdd26dd03d-0', tool_calls=[{'name': 'subtraction', 'args': {'a': 10, 'b': 40}, 'id': 'gy63ega0g', 'type': 'tool_call'}], usage_metadata={'input_tokens': 428, 'output_tokens': 16, 'total_tokens': 444})"
      ]
     },
     "execution_count": 49,
     "metadata": {},
     "output_type": "execute_result"
    }
   ],
   "source": [
    "response3"
   ]
  },
  {
   "cell_type": "code",
   "execution_count": 50,
   "id": "629e7943",
   "metadata": {},
   "outputs": [
    {
     "data": {
      "text/plain": [
       "AIMessage(content='', additional_kwargs={'tool_calls': [{'id': 'tbpfffr5e', 'function': {'arguments': '{\"a\":10,\"b\":40}', 'name': 'division'}, 'type': 'function'}]}, response_metadata={'token_usage': {'completion_tokens': 16, 'prompt_tokens': 429, 'total_tokens': 445, 'completion_time': 0.041976466, 'prompt_time': 0.035427629, 'queue_time': 0.45699097, 'total_time': 0.077404095}, 'model_name': 'llama-3.3-70b-versatile', 'system_fingerprint': 'fp_155ab82e98', 'service_tier': 'on_demand', 'finish_reason': 'tool_calls', 'logprobs': None}, id='run--f21813f4-4ca9-44ee-93d0-d4466ad0d8a2-0', tool_calls=[{'name': 'division', 'args': {'a': 10, 'b': 40}, 'id': 'tbpfffr5e', 'type': 'tool_call'}], usage_metadata={'input_tokens': 429, 'output_tokens': 16, 'total_tokens': 445})"
      ]
     },
     "execution_count": 50,
     "metadata": {},
     "output_type": "execute_result"
    }
   ],
   "source": [
    "response4"
   ]
  },
  {
   "cell_type": "code",
   "execution_count": 51,
   "id": "7d7f1771",
   "metadata": {},
   "outputs": [
    {
     "data": {
      "text/plain": [
       "AIMessage(content='', additional_kwargs={'tool_calls': [{'id': '8xfvxkvpb', 'function': {'arguments': '{\"a\":5}', 'name': 'factorial'}, 'type': 'function'}]}, response_metadata={'token_usage': {'completion_tokens': 14, 'prompt_tokens': 425, 'total_tokens': 439, 'completion_time': 0.050104078, 'prompt_time': 0.045528894, 'queue_time': 0.120545885, 'total_time': 0.095632972}, 'model_name': 'llama-3.3-70b-versatile', 'system_fingerprint': 'fp_155ab82e98', 'service_tier': 'on_demand', 'finish_reason': 'tool_calls', 'logprobs': None}, id='run--64f95f10-da10-43fc-ab00-7b24afb90f7b-0', tool_calls=[{'name': 'factorial', 'args': {'a': 5}, 'id': '8xfvxkvpb', 'type': 'tool_call'}], usage_metadata={'input_tokens': 425, 'output_tokens': 14, 'total_tokens': 439})"
      ]
     },
     "execution_count": 51,
     "metadata": {},
     "output_type": "execute_result"
    }
   ],
   "source": [
    "response5"
   ]
  },
  {
   "cell_type": "code",
   "execution_count": 52,
   "id": "7d7a88dd",
   "metadata": {},
   "outputs": [
    {
     "data": {
      "text/plain": [
       "AIMessage(content='', additional_kwargs={'tool_calls': [{'id': '688ekw8vk', 'function': {'arguments': '{\"a\":5}', 'name': 'factorial'}, 'type': 'function'}, {'id': 'gxeffsv28', 'function': {'arguments': '{\"a\":4}', 'name': 'factorial'}, 'type': 'function'}, {'id': 'sth5s7xap', 'function': {'arguments': '{\"a\":120,\"b\":24}', 'name': 'addition'}, 'type': 'function'}, {'id': 'fz4smct7r', 'function': {'arguments': '{\"a\":144,\"b\":2}', 'name': 'division'}, 'type': 'function'}]}, response_metadata={'token_usage': {'completion_tokens': 63, 'prompt_tokens': 437, 'total_tokens': 500, 'completion_time': 0.13710092, 'prompt_time': 0.037854702, 'queue_time': 0.084418787, 'total_time': 0.174955622}, 'model_name': 'llama-3.3-70b-versatile', 'system_fingerprint': 'fp_155ab82e98', 'service_tier': 'on_demand', 'finish_reason': 'tool_calls', 'logprobs': None}, id='run--895c5720-18b3-424c-9ed3-ae831975bb93-0', tool_calls=[{'name': 'factorial', 'args': {'a': 5}, 'id': '688ekw8vk', 'type': 'tool_call'}, {'name': 'factorial', 'args': {'a': 4}, 'id': 'gxeffsv28', 'type': 'tool_call'}, {'name': 'addition', 'args': {'a': 120, 'b': 24}, 'id': 'sth5s7xap', 'type': 'tool_call'}, {'name': 'division', 'args': {'a': 144, 'b': 2}, 'id': 'fz4smct7r', 'type': 'tool_call'}], usage_metadata={'input_tokens': 437, 'output_tokens': 63, 'total_tokens': 500})"
      ]
     },
     "execution_count": 52,
     "metadata": {},
     "output_type": "execute_result"
    }
   ],
   "source": [
    "response6"
   ]
  },
  {
   "cell_type": "code",
   "execution_count": 53,
   "id": "b60d8aeb",
   "metadata": {},
   "outputs": [],
   "source": [
    "# Exercise: Modify the prompt in various ways"
   ]
  },
  {
   "cell_type": "markdown",
   "id": "d0b0ea66",
   "metadata": {},
   "source": [
    "# Tool Invokation\n",
    "\n",
    "Tool calling is NOT tool execution"
   ]
  },
  {
   "cell_type": "code",
   "execution_count": 54,
   "id": "3d8e343b",
   "metadata": {},
   "outputs": [
    {
     "data": {
      "text/plain": [
       "[{'name': 'multiply',\n",
       "  'args': {'a': 10, 'b': 40},\n",
       "  'id': 'gcrc8w5yr',\n",
       "  'type': 'tool_call'}]"
      ]
     },
     "execution_count": 54,
     "metadata": {},
     "output_type": "execute_result"
    }
   ],
   "source": [
    "response1.tool_calls"
   ]
  },
  {
   "cell_type": "code",
   "execution_count": 55,
   "id": "491af933",
   "metadata": {},
   "outputs": [
    {
     "data": {
      "text/plain": [
       "[{'name': 'addition',\n",
       "  'args': {'a': 10, 'b': 40},\n",
       "  'id': '20bz589nq',\n",
       "  'type': 'tool_call'}]"
      ]
     },
     "execution_count": 55,
     "metadata": {},
     "output_type": "execute_result"
    }
   ],
   "source": [
    "response2.tool_calls"
   ]
  },
  {
   "cell_type": "code",
   "execution_count": 56,
   "id": "62e9c3f8",
   "metadata": {},
   "outputs": [
    {
     "data": {
      "text/plain": [
       "[{'name': 'subtraction',\n",
       "  'args': {'a': 10, 'b': 40},\n",
       "  'id': 'gy63ega0g',\n",
       "  'type': 'tool_call'}]"
      ]
     },
     "execution_count": 56,
     "metadata": {},
     "output_type": "execute_result"
    }
   ],
   "source": [
    "\n",
    "response3.tool_calls"
   ]
  },
  {
   "cell_type": "code",
   "execution_count": 57,
   "id": "bd18af68",
   "metadata": {},
   "outputs": [
    {
     "data": {
      "text/plain": [
       "[{'name': 'division',\n",
       "  'args': {'a': 10, 'b': 40},\n",
       "  'id': 'tbpfffr5e',\n",
       "  'type': 'tool_call'}]"
      ]
     },
     "execution_count": 57,
     "metadata": {},
     "output_type": "execute_result"
    }
   ],
   "source": [
    "response4.tool_calls"
   ]
  },
  {
   "cell_type": "code",
   "execution_count": 58,
   "id": "2c5d0c4f",
   "metadata": {},
   "outputs": [
    {
     "data": {
      "text/plain": [
       "[{'name': 'factorial',\n",
       "  'args': {'a': 5},\n",
       "  'id': '8xfvxkvpb',\n",
       "  'type': 'tool_call'}]"
      ]
     },
     "execution_count": 58,
     "metadata": {},
     "output_type": "execute_result"
    }
   ],
   "source": [
    "response5.tool_calls"
   ]
  },
  {
   "cell_type": "code",
   "execution_count": 59,
   "id": "c2049334",
   "metadata": {},
   "outputs": [
    {
     "data": {
      "text/plain": [
       "[{'name': 'factorial',\n",
       "  'args': {'a': 5},\n",
       "  'id': '688ekw8vk',\n",
       "  'type': 'tool_call'},\n",
       " {'name': 'factorial',\n",
       "  'args': {'a': 4},\n",
       "  'id': 'gxeffsv28',\n",
       "  'type': 'tool_call'},\n",
       " {'name': 'addition',\n",
       "  'args': {'a': 120, 'b': 24},\n",
       "  'id': 'sth5s7xap',\n",
       "  'type': 'tool_call'},\n",
       " {'name': 'division',\n",
       "  'args': {'a': 144, 'b': 2},\n",
       "  'id': 'fz4smct7r',\n",
       "  'type': 'tool_call'}]"
      ]
     },
     "execution_count": 59,
     "metadata": {},
     "output_type": "execute_result"
    }
   ],
   "source": [
    "response6.tool_calls"
   ]
  },
  {
   "cell_type": "markdown",
   "id": "af847d00",
   "metadata": {},
   "source": [
    "TOOL CALLING\n"
   ]
  },
  {
   "cell_type": "markdown",
   "id": "350ae9f5",
   "metadata": {},
   "source": [
    "response 1"
   ]
  },
  {
   "cell_type": "code",
   "execution_count": 60,
   "id": "6fc5869a",
   "metadata": {},
   "outputs": [
    {
     "data": {
      "text/plain": [
       "ToolMessage(content='400.0', name='multiply', tool_call_id='gcrc8w5yr')"
      ]
     },
     "execution_count": 60,
     "metadata": {},
     "output_type": "execute_result"
    }
   ],
   "source": [
    "tools_dict[response1.tool_calls[0][\"name\"]].invoke(response1.tool_calls[0])\n"
   ]
  },
  {
   "cell_type": "markdown",
   "id": "8f4e9801",
   "metadata": {},
   "source": [
    "response 2"
   ]
  },
  {
   "cell_type": "code",
   "execution_count": 61,
   "id": "95042e48",
   "metadata": {},
   "outputs": [
    {
     "data": {
      "text/plain": [
       "ToolMessage(content='50.0', name='addition', tool_call_id='20bz589nq')"
      ]
     },
     "execution_count": 61,
     "metadata": {},
     "output_type": "execute_result"
    }
   ],
   "source": [
    "tools_dict[response2.tool_calls[0][\"name\"]].invoke(response2.tool_calls[0])\n"
   ]
  },
  {
   "cell_type": "markdown",
   "id": "abb31f82",
   "metadata": {},
   "source": [
    "response 3"
   ]
  },
  {
   "cell_type": "code",
   "execution_count": 62,
   "id": "b16d110a",
   "metadata": {},
   "outputs": [
    {
     "data": {
      "text/plain": [
       "ToolMessage(content='-30.0', name='subtraction', tool_call_id='gy63ega0g')"
      ]
     },
     "execution_count": 62,
     "metadata": {},
     "output_type": "execute_result"
    }
   ],
   "source": [
    "tools_dict[response3.tool_calls[0][\"name\"]].invoke(response3.tool_calls[0])"
   ]
  },
  {
   "cell_type": "markdown",
   "id": "87acb42b",
   "metadata": {},
   "source": [
    "response 4"
   ]
  },
  {
   "cell_type": "code",
   "execution_count": 63,
   "id": "73984884",
   "metadata": {},
   "outputs": [
    {
     "data": {
      "text/plain": [
       "ToolMessage(content='0.25', name='division', tool_call_id='tbpfffr5e')"
      ]
     },
     "execution_count": 63,
     "metadata": {},
     "output_type": "execute_result"
    }
   ],
   "source": [
    "tools_dict[response4.tool_calls[0][\"name\"]].invoke(response4.tool_calls[0])"
   ]
  },
  {
   "cell_type": "markdown",
   "id": "1b768ad1",
   "metadata": {},
   "source": [
    "response 5"
   ]
  },
  {
   "cell_type": "code",
   "execution_count": 64,
   "id": "438876d9",
   "metadata": {},
   "outputs": [
    {
     "data": {
      "text/plain": [
       "ToolMessage(content='120.0', name='factorial', tool_call_id='8xfvxkvpb')"
      ]
     },
     "execution_count": 64,
     "metadata": {},
     "output_type": "execute_result"
    }
   ],
   "source": [
    "tools_dict[response5.tool_calls[0][\"name\"]].invoke(response5.tool_calls[0])"
   ]
  },
  {
   "cell_type": "markdown",
   "id": "c2cfe74e",
   "metadata": {},
   "source": [
    "--------- RESPONSE 6  ----------"
   ]
  },
  {
   "cell_type": "markdown",
   "id": "57fd6248",
   "metadata": {},
   "source": [
    "6.1"
   ]
  },
  {
   "cell_type": "code",
   "execution_count": 65,
   "id": "926f0bfb",
   "metadata": {},
   "outputs": [
    {
     "data": {
      "text/plain": [
       "ToolMessage(content='120.0', name='factorial', tool_call_id='688ekw8vk')"
      ]
     },
     "execution_count": 65,
     "metadata": {},
     "output_type": "execute_result"
    }
   ],
   "source": [
    "tools_dict[response6.tool_calls[0][\"name\"]].invoke(response6.tool_calls[0])"
   ]
  },
  {
   "cell_type": "markdown",
   "id": "fbafcb33",
   "metadata": {},
   "source": [
    "6.2"
   ]
  },
  {
   "cell_type": "code",
   "execution_count": 66,
   "id": "5843e04e",
   "metadata": {},
   "outputs": [
    {
     "data": {
      "text/plain": [
       "ToolMessage(content='24.0', name='factorial', tool_call_id='gxeffsv28')"
      ]
     },
     "execution_count": 66,
     "metadata": {},
     "output_type": "execute_result"
    }
   ],
   "source": [
    "\n",
    "tools_dict[response6.tool_calls[1][\"name\"]].invoke(response6.tool_calls[1])"
   ]
  },
  {
   "cell_type": "markdown",
   "id": "8e5f61b0",
   "metadata": {},
   "source": [
    "6.3"
   ]
  },
  {
   "cell_type": "code",
   "execution_count": 67,
   "id": "47f968a7",
   "metadata": {},
   "outputs": [
    {
     "data": {
      "text/plain": [
       "ToolMessage(content='144.0', name='addition', tool_call_id='sth5s7xap')"
      ]
     },
     "execution_count": 67,
     "metadata": {},
     "output_type": "execute_result"
    }
   ],
   "source": [
    "\n",
    "tools_dict[response6.tool_calls[2][\"name\"]].invoke(response6.tool_calls[2])"
   ]
  },
  {
   "cell_type": "markdown",
   "id": "b2fa91f1",
   "metadata": {},
   "source": [
    "6.4"
   ]
  },
  {
   "cell_type": "code",
   "execution_count": 68,
   "id": "9dd5e627",
   "metadata": {},
   "outputs": [
    {
     "data": {
      "text/plain": [
       "ToolMessage(content='72.0', name='division', tool_call_id='fz4smct7r')"
      ]
     },
     "execution_count": 68,
     "metadata": {},
     "output_type": "execute_result"
    }
   ],
   "source": [
    "\n",
    "tools_dict[response6.tool_calls[3][\"name\"]].invoke(response6.tool_calls[3])"
   ]
  }
 ],
 "metadata": {
  "kernelspec": {
   "display_name": "Python 3",
   "language": "python",
   "name": "python3"
  },
  "language_info": {
   "codemirror_mode": {
    "name": "ipython",
    "version": 3
   },
   "file_extension": ".py",
   "mimetype": "text/x-python",
   "name": "python",
   "nbconvert_exporter": "python",
   "pygments_lexer": "ipython3",
   "version": "3.11.13"
  }
 },
 "nbformat": 4,
 "nbformat_minor": 5
}
